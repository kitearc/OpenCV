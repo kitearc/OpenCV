{
 "cells": [
  {
   "cell_type": "markdown",
   "metadata": {},
   "source": [
    "### 간단한 그래픽 및 이벤트 처리"
   ]
  },
  {
   "cell_type": "markdown",
   "metadata": {},
   "source": [
    "#### 필요한 라이브러리 임포트"
   ]
  },
  {
   "cell_type": "code",
   "execution_count": 2,
   "metadata": {},
   "outputs": [],
   "source": [
    "import cv2\n",
    "import numpy as np\n",
    "import matplotlib.pyplot as plt\n",
    "import ipywidgets as widgets \n",
    "import IPython.display as display\n",
    "from ipywidgets import Layout, Button, Box, Layout, Image, IntSlider"
   ]
  },
  {
   "cell_type": "markdown",
   "metadata": {},
   "source": [
    "### 직선 및 사각형 그리기\n",
    "<code>cv.line(img,pt1,pt2,color[, thickness[, LineType[, shift]]])</code>: pt1에서 pt2까지 연결하는 직선 그리기<br>\n",
    "**parameter**  \n",
    "- pt1: 시작점\n",
    "- pt2: 끝점\n",
    "- color: 색상\n",
    "- thickness: 선 두께\n",
    "- lineType: cv2.LINE_8(Default),cv2.LINE_4(),cv2.LINE_AA()\n",
    "- shift: 각 좌표에 대한 비트 이동\n",
    "\n",
    "<code>cv.rectangle(img,pt1,pt2,color[, thickness[, LineType[, shift]]])</code>: pt1에서 pt2에 의해 정의되는 사각형 그리기<br>\n",
    "**parameter**  \n",
    "- pt1: 시작점\n",
    "- pt2: 끝점\n",
    "- color: 색상\n",
    "- thickness: 선 두께\n",
    "- lineType: cv2.LINE_8(Default),cv2.LINE_4(),cv2.LINE_AA()\n",
    "- shift: 각 좌표에 대한 비트 이동\n",
    "\n",
    "<code>cv.clipline(imgRect,pt1,pt2)</code>: pt1에서 pt2까지의 직선이 imgRect 사각형에 의해 절단되는 좌표점을 계산하여 pt1과 pt2를 반환한다. 직선이 사각 영역 밖에 있으면 retval에 False를 반환한다.<br>\n",
    "\n",
    "#### 배경및 그리기 Method 선언\n",
    "앞으로 많이 사용할 matplotlib을 활용한 image그리기 및 배경 그리기"
   ]
  },
  {
   "cell_type": "code",
   "execution_count": 3,
   "metadata": {},
   "outputs": [],
   "source": [
    "def background_img():\n",
    "    img = np.zeros((512,512,3),dtype=np.int32)+255 # 512 x 512 x 3(Color)의 Backgroud 생성\n",
    "\n",
    "    cv2.line(img,(0,0),(500,0),(0,0,0),5)\n",
    "    cv2.line(img,(0,0),(0,500),(0,0,0),5)\n",
    "    cv2.line(img,(500,0),(500,500),(0,0,0),5)\n",
    "    cv2.line(img,(0,500),(500,500),(0,0,0),5)\n",
    "    \n",
    "    return img\n",
    "\n",
    "def plot(img):\n",
    "    plt.axis('off')\n",
    "    plt.imshow(img)\n",
    "    plt.show()"
   ]
  },
  {
   "cell_type": "markdown",
   "metadata": {},
   "source": [
    "#### 직선 및 사각형 그리기"
   ]
  },
  {
   "cell_type": "code",
   "execution_count": 4,
   "metadata": {},
   "outputs": [
    {
     "data": {
      "image/png": "[encoded data removed]",
      "text/plain": [
       "<Figure size 432x288 with 1 Axes>"
      ]
     },
     "metadata": {
      "needs_background": "light"
     },
     "output_type": "display_data"
    }
   ],
   "source": [
    "img = np.zeros((512,512,3),dtype=np.int32)+255 # 512 x 512 x 3(Color)의 Backgroud 생성\n",
    "\n",
    "pt1 = 100,100\n",
    "pt2 = 400,400\n",
    "cv2.rectangle(img,pt1,pt2,(0,255,0),2) #img영상에 pt1(100,100), pt2(400,400)의 크기의 녹색(0,255,0), 두께2로서 그린다\n",
    "\n",
    "cv2.line(img,(0,0),(500,0),(255,0,0),5)\n",
    "cv2.line(img,(0,0),(0,500),(0,0,255),5)\n",
    "cv2.line(img,(500,0),(500,500),(0,0,0),5)\n",
    "cv2.line(img,(0,500),(500,500),(0,0,0),5)\n",
    "\n",
    "plt.axis('off')\n",
    "plt.imshow(img)\n",
    "plt.show()"
   ]
  },
  {
   "cell_type": "markdown",
   "metadata": {},
   "source": [
    "#### 직선-사각형 교차점 그리기"
   ]
  },
  {
   "cell_type": "code",
   "execution_count": 5,
   "metadata": {},
   "outputs": [
    {
     "data": {
      "image/png": "[encoded data removed]",
      "text/plain": [
       "<Figure size 432x288 with 1 Axes>"
      ]
     },
     "metadata": {
      "needs_background": "light"
     },
     "output_type": "display_data"
    }
   ],
   "source": [
    "img = np.zeros((512,512,3),dtype=np.int32)+255 # 512 x 512 x 3(Color)의 Backgroud 생성\n",
    "\n",
    "x1,x2 = 100,400\n",
    "y1,y2 = 100,400\n",
    "cv2.rectangle(img,(x1,y1),(x2,y2),(0,255,0),5)\n",
    "\n",
    "pt1 = 120,5\n",
    "pt2 = 300,500\n",
    "\n",
    "cv2.line(img,pt1,pt2,(0,0,255),5)\n",
    "\n",
    "imgRect = (x1,y1,x2-x1,y2-y1)\n",
    "retval, rpt1, rpt2 = cv2.clipLine(imgRect,pt1,pt2)\n",
    "\n",
    "if retval:\n",
    "    cv2.circle(img,rpt1,radius=10,color=(255,0,0),thickness=-1)\n",
    "    cv2.circle(img,rpt2,radius=10,color=(255,0,0),thickness=-1)\n",
    "    \n",
    "plot(img)"
   ]
  },
  {
   "cell_type": "markdown",
   "metadata": {},
   "source": [
    "### 원 및 타원 그리기\n",
    "<code>cv.circle(img,center,radius,color[, thickness[, LineType[, shift]]])</code>: 원 그리기<br>\n",
    "**parameter**  \n",
    "- center: 중심점\n",
    "- radius: 반지름\n",
    "- color: 색상\n",
    "- thickness: 선 두께 (-1일시 안의 색상 채움)\n",
    "\n",
    "<code>cv.ellipse(img,center,axes,angle,startAngle,endAngle,color[, thickness[, LineType[, shift]]])</code>: 타원 그리기<br>\n",
    "**parameter**  \n",
    "- center: 중심점\n",
    "- axes: 주축의 크기의 절반\n",
    "- angle: 회전각도\n",
    "- startAngle: 호의 시작 각도\n",
    "- endAngle: 호의 끝 각도\n",
    "\n",
    "<code>cv.ellipse(img,box,color[, thickness[, LineType]])</code>: 회전 사각형 내접 타원<br>\n",
    "**parameter**  \n",
    "- box: (center,size,angle) 회전 사각형\n",
    "\n",
    "<code>cv.ellipse2Poly(center,axes,angle,arcStart,arcEnd,delta)</code>: 타원 위 좌표 계산<br>\n",
    "**parameter**  \n",
    "- center: 중심점\n",
    "- axes: 주축의 크기의 절반\n",
    "- angle: 회전각도\n",
    "- arcStart: 호의 시작 각도\n",
    "- arcEnd: 호의 끝 각도\n",
    "- delta: 각도 간격\n",
    "\n",
    "#### 원 그리기"
   ]
  },
  {
   "cell_type": "code",
   "execution_count": 6,
   "metadata": {},
   "outputs": [
    {
     "data": {
      "image/png": "[encoded data removed]",
      "text/plain": [
       "<Figure size 432x288 with 1 Axes>"
      ]
     },
     "metadata": {
      "needs_background": "light"
     },
     "output_type": "display_data"
    }
   ],
   "source": [
    "img = background_img()\n",
    "\n",
    "cx = img.shape[0]//2\n",
    "cy = img.shape[1]//2\n",
    "\n",
    "for r in range(200,0,-100):\n",
    "    cv2.circle(img,(cx,cy),r,color=(255,0,0), thickness=2)\n",
    "    \n",
    "cv2.circle(img,(cx,cy),radius=50,color=(0,0,255),thickness=-1)\n",
    "\n",
    "plot(img)"
   ]
  },
  {
   "cell_type": "markdown",
   "metadata": {},
   "source": [
    "#### 타원 그리기"
   ]
  },
  {
   "cell_type": "code",
   "execution_count": 7,
   "metadata": {},
   "outputs": [
    {
     "data": {
      "image/png": "[encoded data removed]",
      "text/plain": [
       "<Figure size 432x288 with 1 Axes>"
      ]
     },
     "metadata": {
      "needs_background": "light"
     },
     "output_type": "display_data"
    }
   ],
   "source": [
    "img = background_img()\n",
    "\n",
    "ptCenter = img.shape[0]//2, img.shape[1]//2\n",
    "size = 200,50\n",
    "\n",
    "# 중심, 축 절반 크기(가로, 세로), 각도, 시작각도, 끝각도, 색상, 선 두께\n",
    "cv2.ellipse(img,ptCenter,size,0,0,360,(255,0,0),10)\n",
    "cv2.ellipse(img,ptCenter,size,45,0,360,(0,0,255),3)\n",
    "\n",
    "box = (ptCenter,size,0)\n",
    "cv2.ellipse(img,box,(255,0,0),0,4)\n",
    "\n",
    "box = (ptCenter,size,45)\n",
    "cv2.ellipse(img,box,(0,0,255),5,6)\n",
    "\n",
    "plot(img)"
   ]
  },
  {
   "cell_type": "markdown",
   "metadata": {},
   "source": [
    "### 다각형 그리기\n",
    "<code>cv.polylines(img,pts,isClosed,color[, thickness[, LineType[, shift]]])</code>: 다각형 그리기<br>\n",
    "**parameter**  \n",
    "- pts: 좌표(다각형들의 numpy 배열)\n",
    "- isClosed: if True=> 닫힌 사각형 \n",
    "\n",
    "<code>cv.fillConvexPoly(img,points,color[, thickness[, LineType[, shift]]])</code>: 볼록 다각형 채우기<br>\n",
    "**parameter**  \n",
    "- points: 좌표(다각형들의 numpy 배열)\n",
    "- color: 다각형을 채울 색깔\n",
    "\n",
    "<code>cv.fillPoly(img,pts,color[, thickness[, LineType[, offset]]])</code>: 다각형 채우기<br>\n",
    "**parameter**  \n",
    "- pts: 좌표(다각형들의 numpy 배열)\n",
    "\n",
    "\n",
    "#### 다각형 그리기"
   ]
  },
  {
   "cell_type": "code",
   "execution_count": 8,
   "metadata": {},
   "outputs": [
    {
     "data": {
      "image/png": "[encoded data removed]",
      "text/plain": [
       "<Figure size 432x288 with 1 Axes>"
      ]
     },
     "metadata": {
      "needs_background": "light"
     },
     "output_type": "display_data"
    }
   ],
   "source": [
    "img = background_img()\n",
    "\n",
    "pts1 = np.array([[100,100],[200,100],[200,200],[100,300],[100,200]])\n",
    "pts2 = np.array([[300,200],[400,100],[400,200]])\n",
    "\n",
    "cv2.polylines(img,[pts1,pts2], isClosed = True, color = (255,0,0),thickness=5)\n",
    "\n",
    "plot(img)"
   ]
  },
  {
   "cell_type": "markdown",
   "metadata": {},
   "source": [
    "#### 다각형 그리기 2"
   ]
  },
  {
   "cell_type": "code",
   "execution_count": 9,
   "metadata": {},
   "outputs": [
    {
     "data": {
      "image/png": "[encoded data removed]",
      "text/plain": [
       "<Figure size 432x288 with 1 Axes>"
      ]
     },
     "metadata": {
      "needs_background": "light"
     },
     "output_type": "display_data"
    }
   ],
   "source": [
    "img = background_img()\n",
    "\n",
    "ptCenter = img.shape[0]//2, img.shape[1]//2\n",
    "size = 200,100\n",
    "\n",
    "cv2.ellipse(img,ptCenter,size,0,0,360,(255,0,0),3)\n",
    "pts1 = cv2.ellipse2Poly(ptCenter,size,0,0,360,delta=45)\n",
    "\n",
    "cv2.ellipse(img,ptCenter,size,45,0,360,(255,0,0),3)\n",
    "pts2 = cv2.ellipse2Poly(ptCenter,size,45,0,360,delta=45)\n",
    "\n",
    "cv2.polylines(img,[pts1,pts2], isClosed=True, color=(0,0,255), thickness=3)\n",
    "\n",
    "plot(img)"
   ]
  },
  {
   "cell_type": "markdown",
   "metadata": {},
   "source": [
    "#### 회전 사각형"
   ]
  },
  {
   "cell_type": "code",
   "execution_count": 10,
   "metadata": {
    "scrolled": true
   },
   "outputs": [
    {
     "data": {
      "image/png": "[encoded data removed]",
      "text/plain": [
       "<Figure size 432x288 with 1 Axes>"
      ]
     },
     "metadata": {
      "needs_background": "light"
     },
     "output_type": "display_data"
    }
   ],
   "source": [
    "img = background_img()\n",
    "\n",
    "x,y = 256,256\n",
    "size = 200\n",
    "\n",
    "for angle in range(0,90,10):\n",
    "    rect = ((256,256),(size,size),angle)\n",
    "    box = cv2.boxPoints(rect).astype(np.int32)\n",
    "    r=np.random.randint(256)\n",
    "    g=np.random.randint(256)\n",
    "    b=np.random.randint(256)\n",
    "    cv2.polylines(img,[box],True,(r,g,b),2)\n",
    "\n",
    "plot(img)"
   ]
  },
  {
   "cell_type": "markdown",
   "metadata": {},
   "source": [
    "#### 다각형 채우기"
   ]
  },
  {
   "cell_type": "code",
   "execution_count": 13,
   "metadata": {},
   "outputs": [
    {
     "data": {
      "image/png": "[encoded data removed]",
      "text/plain": [
       "<Figure size 432x288 with 1 Axes>"
      ]
     },
     "metadata": {
      "needs_background": "light"
     },
     "output_type": "display_data"
    }
   ],
   "source": [
    "img = background_img()\n",
    "\n",
    "pts1 = np.array([[100,100],[200,100],[200,200],[100,300],[100,200]])\n",
    "pts2 = np.array([[300,200],[400,100],[400,200]])\n",
    "\n",
    "cv2.fillPoly(img,[pts1,pts2], color = (255,0,0))\n",
    "\n",
    "plot(img)"
   ]
  },
  {
   "cell_type": "markdown",
   "metadata": {},
   "source": [
    "### 문자열 출력\n",
    "<code>cv.getTextSize(text,fontFace,fontScale,thickness)</code>: 문자열 출력 크기 변환<br>\n",
    "**parameter**  \n",
    "- text: 출력할 문자\n",
    "- fontFace: 문자 Style, ex)cv2.FONT_HERSHEY_PLAIN\n",
    "- fontScale: 문자 크기\n",
    "- thickness: 문자 두께\n",
    "\n",
    "<code>cv.putText(img,text,org,fontFace,fontScale,color[, thickness[, LineType[, bottonLeftOrigin]]])</code>: 타원 그리기<br>\n",
    "**parameter**  \n",
    "- org: 사각형 왼쪽 아래 좌표 위치\n",
    "\n",
    "#### 문자열 출력"
   ]
  },
  {
   "cell_type": "code",
   "execution_count": 15,
   "metadata": {},
   "outputs": [
    {
     "data": {
      "image/png": "[encoded data removed]",
      "text/plain": [
       "<Figure size 432x288 with 1 Axes>"
      ]
     },
     "metadata": {
      "needs_background": "light"
     },
     "output_type": "display_data"
    }
   ],
   "source": [
    "img = background_img()\n",
    "\n",
    "text = 'OpenCV Programming'\n",
    "org = (30,100)\n",
    "font = cv2.FONT_HERSHEY_SIMPLEX\n",
    "cv2.putText(img,text,org,font,1.3,(255,0,0),2)\n",
    "\n",
    "size,baseLine = cv2.getTextSize(text,font,1.3,10)\n",
    "cv2.rectangle(img,org,(org[0]+size[0],org[1]-size[1]),(0,0,255),2)\n",
    "cv2.circle(img,org,3,(0,255,0),2)\n",
    "\n",
    "plot(img)"
   ]
  },
  {
   "cell_type": "markdown",
   "metadata": {},
   "source": [
    "### 마우스 이벤트 처리\n",
    "\n",
    "이전 Post <a href=\"https://wjddyd66.github.io/opencv/2019/10/22/OpenCV(1).html\">OpenCV-영상 및 비디오 입출력</a>에서 사전사항으로 적어두었던 ipywidgets를 활용하여 OpenCV같은 기능을 넣었다.  \n",
    "\n",
    "Widgets은 Java에서의 Swing과 같은 개념으로서 작동한다.  \n",
    "기본적으로 2가지의 구성요소로 widgets이 생성된다고 생각한다.  \n",
    "\n",
    "**Component**: Widgets을 구성하는 구성요소 이다.\n",
    "- box: 전체 Component를 포함할 하나의 Component (Box)\n",
    "- button1: Up Button Component (Button)\n",
    "- button2: Down Button Component (Button)\n",
    "- button3: Left Button Component (Button)\n",
    "- button4: Right Button Component (Button)\n",
    "- wImg: 출력 결과를 보여줄 Component (Image)\n",
    "\n",
    "**Event**: 각각의 Component에 대한 Event를 정의할 수 있다.\n",
    "- up_button_clicked: button1 Component Click시 y축 위로 이동\n",
    "- down_button_clicked: button2 Component Click시 y축 아래로 이동\n",
    "- left_button_clicked: button3 Component Click시 x축 왼쪽으로 이동\n",
    "- right_button_clicked: button4 Component Click시 x축 오른쪽으로 이동\n",
    "\n",
    "\n",
    "\n",
    "**참고 사이트**  \n",
    "Component 설명: <a href=\"https://ipywidgets.readthedocs.io/en/latest/examples/Widget%20List.html\">정식 사이트</a><br>\n",
    "Event 설명: <a href=\"https://ipywidgets.readthedocs.io/en/latest/examples/Widget%20Events.html\">정식 사이트</a><br>"
   ]
  },
  {
   "cell_type": "code",
   "execution_count": 16,
   "metadata": {
    "scrolled": false
   },
   "outputs": [
    {
     "data": {
      "application/vnd.jupyter.widget-view+json": {
       "model_id": "b6fd09c637164b32bb4ea83dfad0b6c4",
       "version_major": 2,
       "version_minor": 0
      },
      "text/plain": [
       "Box(children=(Button(description='Up', style=ButtonStyle()), Button(description='Down', style=ButtonStyle()), …"
      ]
     },
     "metadata": {},
     "output_type": "display_data"
    },
    {
     "data": {
      "application/vnd.jupyter.widget-view+json": {
       "model_id": "fc228d10ee124a79a3ec02cd50b232cd",
       "version_major": 2,
       "version_minor": 0
      },
      "text/plain": [
       "Image(value=b'', layout=\"Layout(border='solid')\", width='50%')"
      ]
     },
     "metadata": {},
     "output_type": "display_data"
    }
   ],
   "source": [
    "button1 = Button(description=\"Up\")\n",
    "button2 = Button(description=\"Down\")\n",
    "button3 = Button(description=\"Left\")\n",
    "button4 = Button(description=\"Right\")\n",
    "\n",
    "wImg = Image(layout = Layout(border=\"solid\"), width=\"50%\") \n",
    "\n",
    "box_layout = Layout(display='flex',\n",
    "                    flex_flow='row',\n",
    "                    border='solid',\n",
    "                   width='100%',)\n",
    "\n",
    "items = [button1,button2,button3,button4]\n",
    "\n",
    "box = Box(children=items)\n",
    "\n",
    "display.display(box, wImg)\n",
    "\n",
    "width, height = 512,512\n",
    "x,y,R = 256,256,50\n",
    "\n",
    "def up_button_clicked(b):\n",
    "    global y,R\n",
    "    \n",
    "    if y - 10 > R:\n",
    "        y = y-10\n",
    "    else:\n",
    "        y = R\n",
    "    draw_some()\n",
    "    \n",
    "def down_button_clicked(b):\n",
    "    global y,R,height\n",
    "    \n",
    "    if y + R < height:\n",
    "        y += 10\n",
    "    else:\n",
    "        y = height - R\n",
    "    draw_some()\n",
    "\n",
    "def left_button_clicked(b):\n",
    "    global x,R\n",
    "    if x - 10 > R:\n",
    "        x -= 10\n",
    "    else:\n",
    "        x = R\n",
    "    draw_some()\n",
    "    \n",
    "def right_button_clicked(b):\n",
    "    global x,R,width\n",
    "    \n",
    "    if x + R < width:\n",
    "        x += 10\n",
    "    else:\n",
    "        x = width - R\n",
    "    draw_some()\n",
    "    \n",
    "def draw_some():\n",
    "    global x,y,R\n",
    "    img = np.zeros((512,512,3),dtype=np.int32)+255\n",
    "    cv2.circle(img,(x,y),R,(0,0,255),-1)\n",
    "        \n",
    "    tmpStream = cv2.imencode(\".jpeg\", img)[1].tostring()\n",
    "    wImg.value = tmpStream\n",
    "    \n",
    "draw_some()\n",
    "\n",
    "\n",
    "button1.on_click(up_button_clicked)\n",
    "button2.on_click(down_button_clicked)\n",
    "button3.on_click(left_button_clicked)\n",
    "button4.on_click(right_button_clicked)"
   ]
  },
  {
   "cell_type": "markdown",
   "metadata": {},
   "source": [
    "### 트랙바 이벤트 처리\n",
    "\n",
    "**Component**: Widgets을 구성하는 구성요소 이다.\n",
    "- box: 전체 Component를 포함할 하나의 Component (Box)\n",
    "- IntSlider_Red: Image R 값 정의 Component (IntSlider=트랙바)\n",
    "- IntSlider_Green: Image G 값 정의 Component (IntSlider=트랙바)\n",
    "- IntSlider_Blue: Image B 값 정의 Component (IntSlider=트랙바)\n",
    "- wImg: 출력 결과를 보여줄 Component (Image)\n",
    "\n",
    "**Event**: 각각의 Component에 대한 Event를 정의할 수 있다.\n",
    "- on_value_change_red: Image RGB값 중 R값 정의\n",
    "- on_value_change_green: Image RGB값 중 G값 정의\n",
    "- on_value_change_blue: Image RGB값 중 B값 정의\n"
   ]
  },
  {
   "cell_type": "code",
   "execution_count": 17,
   "metadata": {},
   "outputs": [
    {
     "data": {
      "application/vnd.jupyter.widget-view+json": {
       "model_id": "e8a8e9ed7f054aa59c8d48ccea2ab505",
       "version_major": 2,
       "version_minor": 0
      },
      "text/plain": [
       "Box(children=(IntSlider(value=0, continuous_update=False, description='Red: ', max=255), IntSlider(value=0, co…"
      ]
     },
     "metadata": {},
     "output_type": "display_data"
    },
    {
     "data": {
      "application/vnd.jupyter.widget-view+json": {
       "model_id": "d93fd75862584c8e907b3be61dd71741",
       "version_major": 2,
       "version_minor": 0
      },
      "text/plain": [
       "Image(value=b'', layout=\"Layout(border='solid')\", width='50%')"
      ]
     },
     "metadata": {},
     "output_type": "display_data"
    }
   ],
   "source": [
    "IntSlider_Red = IntSlider(\n",
    "    value=0,\n",
    "    min=0,\n",
    "    max=255,\n",
    "    step=1,\n",
    "    description='Red: ',\n",
    "    disabled=False,\n",
    "    continuous_update=False,\n",
    "    orientation='horizontal',\n",
    "    readout=True,\n",
    "    readout_format='d'\n",
    ")\n",
    "\n",
    "IntSlider_Green = IntSlider(\n",
    "    value=0,\n",
    "    min=0,\n",
    "    max=255,\n",
    "    step=1,\n",
    "    description='Green: ',\n",
    "    disabled=False,\n",
    "    continuous_update=False,\n",
    "    orientation='horizontal',\n",
    "    readout=True,\n",
    "    readout_format='d'\n",
    ")\n",
    "\n",
    "IntSlider_Blue = IntSlider(\n",
    "    value=0,\n",
    "    min=0,\n",
    "    max=255,\n",
    "    step=1,\n",
    "    description='Blue: ',\n",
    "    disabled=False,\n",
    "    continuous_update=False,\n",
    "    orientation='horizontal',\n",
    "    readout=True,\n",
    "    readout_format='d'\n",
    ")\n",
    "\n",
    "wImg = Image(layout = Layout(border=\"solid\"), width=\"50%\") \n",
    "\n",
    "box_layout = Layout(display='flex',\n",
    "                    flex_flow='row',\n",
    "                    border='solid',\n",
    "                   width='100%',)\n",
    "\n",
    "items = [IntSlider_Red,IntSlider_Green,IntSlider_Blue]\n",
    "\n",
    "box = Box(children=items)\n",
    "\n",
    "display.display(box, wImg)\n",
    "\n",
    "def draw_some():\n",
    "    global b,g,r\n",
    "    img = np.zeros((512,512,3),dtype=np.int)\n",
    "    img[:] = (b,g,r)\n",
    "    tmpStream = cv2.imencode(\".jpeg\", img)[1].tostring()\n",
    "    wImg.value = tmpStream\n",
    "\n",
    "    \n",
    "b,g,r = 0,0,0\n",
    "draw_some()\n",
    "\n",
    "def on_value_change_red(change):\n",
    "    global r\n",
    "    r = change['new']\n",
    "    draw_some()\n",
    "    \n",
    "def on_value_change_blue(change):\n",
    "    global g\n",
    "    g = change['new']\n",
    "    draw_some()\n",
    "    \n",
    "def on_value_change_green(change):\n",
    "    global b\n",
    "    b = change['new']\n",
    "    draw_some()\n",
    "\n",
    "IntSlider_Red.observe(on_value_change_red, names='value')\n",
    "IntSlider_Green.observe(on_value_change_blue, names='value')\n",
    "IntSlider_Blue.observe(on_value_change_green, names='value')"
   ]
  }
 ],
 "metadata": {
  "kernelspec": {
   "display_name": "Python 3",
   "language": "python",
   "name": "python3"
  },
  "language_info": {
   "codemirror_mode": {
    "name": "ipython",
    "version": 3
   },
   "file_extension": ".py",
   "mimetype": "text/x-python",
   "name": "python",
   "nbconvert_exporter": "python",
   "pygments_lexer": "ipython3",
   "version": "3.7.3"
  }
 },
 "nbformat": 4,
 "nbformat_minor": 2
}
