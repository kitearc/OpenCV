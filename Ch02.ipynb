{
 "cells": [
  {
   "cell_type": "markdown",
   "metadata": {},
   "source": [
    "### 간단한 그래픽 및 이벤트 처리"
   ]
  },
  {
   "cell_type": "markdown",
   "metadata": {},
   "source": [
    "### 필요한 라이브러리 임포트"
   ]
  },
  {
   "cell_type": "code",
   "execution_count": 1,
   "metadata": {},
   "outputs": [],
   "source": [
    "import cv2\n",
    "import numpy as np\n",
    "import matplotlib.pyplot as plt\n",
    "import ipywidgets as widgets \n",
    "import IPython.display as display\n",
    "from ipywidgets import Layout, Button, Box, Layout, Image, IntSlider"
   ]
  },
  {
   "cell_type": "markdown",
   "metadata": {},
   "source": [
    "### 직선 및 사각형 그리기"
   ]
  },
  {
   "cell_type": "code",
   "execution_count": 2,
   "metadata": {},
   "outputs": [
    {
     "data": {
      "text/plain": [
       "<matplotlib.image.AxesImage at 0x1d69f88c940>"
      ]
     },
     "execution_count": 2,
     "metadata": {},
     "output_type": "execute_result"
    },
    {
     "data": {
      "image/png": "[encoded data removed]",
      "text/plain": [
       "<Figure size 432x288 with 1 Axes>"
      ]
     },
     "metadata": {
      "needs_background": "light"
     },
     "output_type": "display_data"
    }
   ],
   "source": [
    "img = np.zeros((512,512,3),dtype=np.int)+255 # 512 x 512 x 3(Color)의 Backgroud 생성\n",
    "\n",
    "pt1 = 100,100\n",
    "pt2 = 400,400\n",
    "cv2.rectangle(img,pt1,pt2,(0,255,0),2) #img영상에 pt1(100,100), pt2(400,400)의 크기의 녹색(0,255,0), 두께2로서 그린다\n",
    "\n",
    "cv2.line(img,(0,0),(500,0),(255,0,0),5)\n",
    "cv2.line(img,(0,0),(0,500),(0,0,255),5)\n",
    "cv2.line(img,(500,0),(500,500),(0,0,0),5)\n",
    "cv2.line(img,(0,500),(500,500),(0,0,0),5)\n",
    "\n",
    "plt.axis('off')\n",
    "plt.imshow(img)"
   ]
  },
  {
   "cell_type": "markdown",
   "metadata": {},
   "source": [
    "### 직선-사각형 교차점 그리기"
   ]
  },
  {
   "cell_type": "code",
   "execution_count": 3,
   "metadata": {},
   "outputs": [
    {
     "data": {
      "text/plain": [
       "<matplotlib.image.AxesImage at 0x1d69fc61588>"
      ]
     },
     "execution_count": 3,
     "metadata": {},
     "output_type": "execute_result"
    },
    {
     "data": {
      "image/png": "[encoded data removed]",
      "text/plain": [
       "<Figure size 432x288 with 1 Axes>"
      ]
     },
     "metadata": {
      "needs_background": "light"
     },
     "output_type": "display_data"
    }
   ],
   "source": [
    "img = np.zeros((512,512,3),dtype=np.int)+255 # 512 x 512 x 3(Color)의 Backgroud 생성\n",
    "\n",
    "x1,x2 = 100,400\n",
    "y1,y2 = 100,400\n",
    "cv2.rectangle(img,(x1,y1),(x2,y2),(0,255,0),5)\n",
    "\n",
    "pt1 = 120,5\n",
    "pt2 = 300,500\n",
    "\n",
    "cv2.line(img,pt1,pt2,(0,0,255),5)\n",
    "\n",
    "imgRect = (x1,y1,x2-x1,y2-y1)\n",
    "retval, rpt1, rpt2 = cv2.clipLine(imgRect,pt1,pt2)\n",
    "\n",
    "if retval:\n",
    "    cv2.circle(img,rpt1,radius=10,color=(255,0,0),thickness=-1)\n",
    "    cv2.circle(img,rpt2,radius=10,color=(255,0,0),thickness=-1)\n",
    "    \n",
    "plt.axis('off')\n",
    "plt.imshow(img)"
   ]
  },
  {
   "cell_type": "code",
   "execution_count": 4,
   "metadata": {},
   "outputs": [],
   "source": [
    "def background_img():\n",
    "    img = np.zeros((512,512,3),dtype=np.int)+255 # 512 x 512 x 3(Color)의 Backgroud 생성\n",
    "\n",
    "    cv2.line(img,(0,0),(500,0),(0,0,0),5)\n",
    "    cv2.line(img,(0,0),(0,500),(0,0,0),5)\n",
    "    cv2.line(img,(500,0),(500,500),(0,0,0),5)\n",
    "    cv2.line(img,(0,500),(500,500),(0,0,0),5)\n",
    "    \n",
    "    return img\n",
    "\n",
    "def plot(img):\n",
    "    plt.axis('off')\n",
    "    plt.imshow(img)"
   ]
  },
  {
   "cell_type": "markdown",
   "metadata": {},
   "source": [
    "### 원 및 타원 그리기"
   ]
  },
  {
   "cell_type": "code",
   "execution_count": 5,
   "metadata": {},
   "outputs": [
    {
     "data": {
      "image/png": "[encoded data removed]",
      "text/plain": [
       "<Figure size 432x288 with 1 Axes>"
      ]
     },
     "metadata": {
      "needs_background": "light"
     },
     "output_type": "display_data"
    }
   ],
   "source": [
    "img = background_img()\n",
    "\n",
    "cx = img.shape[0]//2\n",
    "cy = img.shape[1]//2\n",
    "\n",
    "for r in range(200,0,-100):\n",
    "    cv2.circle(img,(cx,cy),r,color=(255,0,0), thickness=2)\n",
    "    \n",
    "cv2.circle(img,(cx,cy),radius=50,color=(0,0,255),thickness=-1)\n",
    "\n",
    "plot(img)"
   ]
  },
  {
   "cell_type": "markdown",
   "metadata": {},
   "source": [
    "### 타원 그리기"
   ]
  },
  {
   "cell_type": "code",
   "execution_count": 6,
   "metadata": {},
   "outputs": [
    {
     "data": {
      "image/png": "[encoded data removed]",
      "text/plain": [
       "<Figure size 432x288 with 1 Axes>"
      ]
     },
     "metadata": {
      "needs_background": "light"
     },
     "output_type": "display_data"
    }
   ],
   "source": [
    "img = background_img()\n",
    "\n",
    "ptCenter = img.shape[0]//2, img.shape[1]//2\n",
    "size = 200,50\n",
    "\n",
    "# 중심, 축 절반 크기(가로, 세로), 각도, 시작각도, 끝각도, 색상, 선 두께\n",
    "cv2.ellipse(img,ptCenter,size,0,0,360,(255,0,0),10)\n",
    "cv2.ellipse(img,ptCenter,size,45,0,360,(0,0,255),3)\n",
    "\n",
    "box = (ptCenter,size,0)\n",
    "cv2.ellipse(img,box,(255,0,0),0,4)\n",
    "\n",
    "box = (ptCenter,size,45)\n",
    "cv2.ellipse(img,box,(0,0,255),5,6)\n",
    "\n",
    "plot(img)"
   ]
  },
  {
   "cell_type": "markdown",
   "metadata": {},
   "source": [
    "### 다각형 그리기"
   ]
  },
  {
   "cell_type": "code",
   "execution_count": 7,
   "metadata": {},
   "outputs": [
    {
     "data": {
      "image/png": "[encoded data removed]",
      "text/plain": [
       "<Figure size 432x288 with 1 Axes>"
      ]
     },
     "metadata": {
      "needs_background": "light"
     },
     "output_type": "display_data"
    }
   ],
   "source": [
    "img = background_img()\n",
    "\n",
    "pts1 = np.array([[100,100],[200,100],[200,200],[100,300],[100,200]])\n",
    "pts2 = np.array([[300,200],[400,100],[400,200]])\n",
    "\n",
    "cv2.polylines(img,[pts1,pts2], isClosed = True, color = (255,0,0),thickness=5)\n",
    "\n",
    "plot(img)"
   ]
  },
  {
   "cell_type": "markdown",
   "metadata": {},
   "source": [
    "### 다각형 그리기 2"
   ]
  },
  {
   "cell_type": "code",
   "execution_count": 8,
   "metadata": {},
   "outputs": [
    {
     "data": {
      "image/png": "[encoded data removed]",
      "text/plain": [
       "<Figure size 432x288 with 1 Axes>"
      ]
     },
     "metadata": {
      "needs_background": "light"
     },
     "output_type": "display_data"
    }
   ],
   "source": [
    "img = background_img()\n",
    "\n",
    "ptCenter = img.shape[0]//2, img.shape[1]//2\n",
    "size = 200,100\n",
    "\n",
    "cv2.ellipse(img,ptCenter,size,0,0,360,(255,0,0),3)\n",
    "pts1 = cv2.ellipse2Poly(ptCenter,size,0,0,360,delta=45)\n",
    "\n",
    "cv2.ellipse(img,ptCenter,size,45,0,360,(255,0,0),3)\n",
    "pts2 = cv2.ellipse2Poly(ptCenter,size,45,0,360,delta=45)\n",
    "\n",
    "cv2.polylines(img,[pts1,pts2], isClosed=True, color=(0,0,255), thickness=3)\n",
    "\n",
    "plot(img)"
   ]
  },
  {
   "cell_type": "markdown",
   "metadata": {},
   "source": [
    "### 회전 사각형"
   ]
  },
  {
   "cell_type": "code",
   "execution_count": 9,
   "metadata": {},
   "outputs": [
    {
     "data": {
      "image/png": "[encoded data removed]",
      "text/plain": [
       "<Figure size 432x288 with 1 Axes>"
      ]
     },
     "metadata": {
      "needs_background": "light"
     },
     "output_type": "display_data"
    }
   ],
   "source": [
    "img = background_img()\n",
    "\n",
    "x,y = 256,256\n",
    "size = 200\n",
    "\n",
    "for angle in range(0,90,10):\n",
    "    rect = ((256,256),(size,size),angle)\n",
    "    box = cv2.boxPoints(rect).astype(np.int32)\n",
    "    r=np.random.randint(256)\n",
    "    g=np.random.randint(256)\n",
    "    b=np.random.randint(256)\n",
    "    cv2.polylines(img,[box],True,(r,g,b),2)\n",
    "\n",
    "plot(img)"
   ]
  },
  {
   "cell_type": "markdown",
   "metadata": {},
   "source": [
    "### 문자역 출력"
   ]
  },
  {
   "cell_type": "code",
   "execution_count": 10,
   "metadata": {},
   "outputs": [
    {
     "data": {
      "image/png": "[encoded data removed]",
      "text/plain": [
       "<Figure size 432x288 with 1 Axes>"
      ]
     },
     "metadata": {
      "needs_background": "light"
     },
     "output_type": "display_data"
    }
   ],
   "source": [
    "img = background_img()\n",
    "\n",
    "text = 'OpenCV Programming'\n",
    "org = (30,100)\n",
    "font = cv2.FONT_HERSHEY_SIMPLEX\n",
    "cv2.putText(img,text,org,font,1.3,(255,0,0),2)\n",
    "\n",
    "size,baseLine = cv2.getTextSize(text,font,1.3,10)\n",
    "cv2.rectangle(img,org,(org[0]+size[0],org[1]-size[1]),(0,0,255),2)\n",
    "cv2.circle(img,org,3,(0,255,0),2)\n",
    "\n",
    "plot(img)"
   ]
  },
  {
   "cell_type": "markdown",
   "metadata": {},
   "source": [
    "### 마우스 이벤트 처리\n",
    "\n",
    "구성 요소 설명: <a href=\"https://ipywidgets.readthedocs.io/en/latest/examples/Widget%20List.html\">정식 사이트</a><br>\n",
    "이벤트 처리 설명: <a href=\"https://ipywidgets.readthedocs.io/en/latest/examples/Widget%20Events.html\">정식 사이트</a><br>"
   ]
  },
  {
   "cell_type": "code",
   "execution_count": 13,
   "metadata": {
    "scrolled": false
   },
   "outputs": [
    {
     "data": {
      "application/vnd.jupyter.widget-view+json": {
       "model_id": "e42c6ca5b7c44277a3f67c5e578e4079",
       "version_major": 2,
       "version_minor": 0
      },
      "text/plain": [
       "Box(children=(Button(description='Up', style=ButtonStyle()), Button(description='Down', style=ButtonStyle()), …"
      ]
     },
     "metadata": {},
     "output_type": "display_data"
    },
    {
     "data": {
      "application/vnd.jupyter.widget-view+json": {
       "model_id": "0329ff4a7f974f208156f35878fd72a1",
       "version_major": 2,
       "version_minor": 0
      },
      "text/plain": [
       "Image(value=b'', layout=\"Layout(border='solid')\", width='50%')"
      ]
     },
     "metadata": {},
     "output_type": "display_data"
    }
   ],
   "source": [
    "button1 = Button(description=\"Up\")\n",
    "button2 = Button(description=\"Down\")\n",
    "button3 = Button(description=\"Left\")\n",
    "button4 = Button(description=\"Right\")\n",
    "\n",
    "wImg = Image(layout = Layout(border=\"solid\"), width=\"50%\") \n",
    "\n",
    "box_layout = Layout(display='flex',\n",
    "                    flex_flow='row',\n",
    "                    border='solid',\n",
    "                   width='100%',)\n",
    "\n",
    "items = [button1,button2,button3,button4]\n",
    "\n",
    "box = Box(children=items)\n",
    "\n",
    "display.display(box, wImg)\n",
    "\n",
    "width, height = 512,512\n",
    "x,y,R = 256,256,50\n",
    "\n",
    "def up_button_clicked(b):\n",
    "    global y,R\n",
    "    \n",
    "    if y - 10 > R:\n",
    "        y = y-10\n",
    "    else:\n",
    "        y = R\n",
    "    draw_some()\n",
    "    \n",
    "def down_button_clicked(b):\n",
    "    global y,R,height\n",
    "    \n",
    "    if y + R < height:\n",
    "        y += 10\n",
    "    else:\n",
    "        y = height - R\n",
    "    draw_some()\n",
    "\n",
    "def left_button_clicked(b):\n",
    "    global x,R\n",
    "    if x - 10 > R:\n",
    "        x -= 10\n",
    "    else:\n",
    "        x = R\n",
    "    draw_some()\n",
    "    \n",
    "def right_button_clicked(b):\n",
    "    global x,R,width\n",
    "    \n",
    "    if x + R < width:\n",
    "        x += 10\n",
    "    else:\n",
    "        x = width - R\n",
    "    draw_some()\n",
    "    \n",
    "def draw_some():\n",
    "    global x,y,R\n",
    "    img = np.zeros((512,512,3),dtype=np.int)+255\n",
    "    cv2.circle(img,(x,y),R,(0,0,255),-1)\n",
    "        \n",
    "    tmpStream = cv2.imencode(\".jpeg\", img)[1].tostring()\n",
    "    wImg.value = tmpStream\n",
    "    \n",
    "draw_some()\n",
    "\n",
    "\n",
    "button1.on_click(up_button_clicked)\n",
    "button2.on_click(down_button_clicked)\n",
    "button3.on_click(left_button_clicked)\n",
    "button4.on_click(right_button_clicked)"
   ]
  },
  {
   "cell_type": "markdown",
   "metadata": {},
   "source": [
    "### 트랙바 이벤트 처리"
   ]
  },
  {
   "cell_type": "code",
   "execution_count": 12,
   "metadata": {},
   "outputs": [
    {
     "data": {
      "application/vnd.jupyter.widget-view+json": {
       "model_id": "880ac080acc14feea4ed13847cdce5fa",
       "version_major": 2,
       "version_minor": 0
      },
      "text/plain": [
       "Box(children=(IntSlider(value=0, continuous_update=False, description='Red: ', max=255), IntSlider(value=0, co…"
      ]
     },
     "metadata": {},
     "output_type": "display_data"
    },
    {
     "data": {
      "application/vnd.jupyter.widget-view+json": {
       "model_id": "273b74ef106b4726b1b6c59d89c88779",
       "version_major": 2,
       "version_minor": 0
      },
      "text/plain": [
       "Image(value=b'', layout=\"Layout(border='solid')\", width='50%')"
      ]
     },
     "metadata": {},
     "output_type": "display_data"
    }
   ],
   "source": [
    "IntSlider_Red = IntSlider(\n",
    "    value=0,\n",
    "    min=0,\n",
    "    max=255,\n",
    "    step=1,\n",
    "    description='Red: ',\n",
    "    disabled=False,\n",
    "    continuous_update=False,\n",
    "    orientation='horizontal',\n",
    "    readout=True,\n",
    "    readout_format='d'\n",
    ")\n",
    "\n",
    "IntSlider_Green = IntSlider(\n",
    "    value=0,\n",
    "    min=0,\n",
    "    max=255,\n",
    "    step=1,\n",
    "    description='Green: ',\n",
    "    disabled=False,\n",
    "    continuous_update=False,\n",
    "    orientation='horizontal',\n",
    "    readout=True,\n",
    "    readout_format='d'\n",
    ")\n",
    "\n",
    "IntSlider_Blue = IntSlider(\n",
    "    value=0,\n",
    "    min=0,\n",
    "    max=255,\n",
    "    step=1,\n",
    "    description='Blue: ',\n",
    "    disabled=False,\n",
    "    continuous_update=False,\n",
    "    orientation='horizontal',\n",
    "    readout=True,\n",
    "    readout_format='d'\n",
    ")\n",
    "\n",
    "wImg = Image(layout = Layout(border=\"solid\"), width=\"50%\") \n",
    "\n",
    "box_layout = Layout(display='flex',\n",
    "                    flex_flow='row',\n",
    "                    border='solid',\n",
    "                   width='100%',)\n",
    "\n",
    "items = [IntSlider_Red,IntSlider_Green,IntSlider_Blue]\n",
    "\n",
    "box = Box(children=items)\n",
    "\n",
    "display.display(box, wImg)\n",
    "\n",
    "def draw_some():\n",
    "    global b,g,r\n",
    "    img = np.zeros((512,512,3),dtype=np.int)\n",
    "    img[:] = (b,g,r)\n",
    "    tmpStream = cv2.imencode(\".jpeg\", img)[1].tostring()\n",
    "    wImg.value = tmpStream\n",
    "\n",
    "    \n",
    "b,g,r = 0,0,0\n",
    "draw_some()\n",
    "\n",
    "def on_value_change_red(change):\n",
    "    global r\n",
    "    r = change['new']\n",
    "    draw_some()\n",
    "    \n",
    "def on_value_change_blue(change):\n",
    "    global g\n",
    "    g = change['new']\n",
    "    draw_some()\n",
    "    \n",
    "def on_value_change_green(change):\n",
    "    global b\n",
    "    b = change['new']\n",
    "    draw_some()\n",
    "\n",
    "IntSlider_Red.observe(on_value_change_red, names='value')\n",
    "IntSlider_Green.observe(on_value_change_blue, names='value')\n",
    "IntSlider_Blue.observe(on_value_change_green, names='value')"
   ]
  }
 ],
 "metadata": {
  "kernelspec": {
   "display_name": "Python 3",
   "language": "python",
   "name": "python3"
  },
  "language_info": {
   "codemirror_mode": {
    "name": "ipython",
    "version": 3
   },
   "file_extension": ".py",
   "mimetype": "text/x-python",
   "name": "python",
   "nbconvert_exporter": "python",
   "pygments_lexer": "ipython3",
   "version": "3.7.3"
  }
 },
 "nbformat": 4,
 "nbformat_minor": 2
}
