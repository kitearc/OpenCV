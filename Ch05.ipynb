{
 "cells": [
  {
   "cell_type": "markdown",
   "metadata": {},
   "source": [
    "### 영상 공간 필터링"
   ]
  },
  {
   "cell_type": "markdown",
   "metadata": {},
   "source": [
    "#### 필요한 라이브러리 임포트"
   ]
  },
  {
   "cell_type": "code",
   "execution_count": 1,
   "metadata": {},
   "outputs": [],
   "source": [
    "import cv2\n",
    "import numpy as np\n",
    "import matplotlib.pyplot as plt\n",
    "import ipywidgets as widgets \n",
    "import IPython.display as display\n",
    "from ipywidgets import Layout, Button, Box, Layout, Image, IntSlider, AppLayout"
   ]
  },
  {
   "cell_type": "markdown",
   "metadata": {},
   "source": [
    "### 블러필터"
   ]
  },
  {
   "cell_type": "code",
   "execution_count": 2,
   "metadata": {},
   "outputs": [
    {
     "data": {
      "application/vnd.jupyter.widget-view+json": {
       "model_id": "6b4ad5a4359f467eaa1a6fb0f37657fd",
       "version_major": 2,
       "version_minor": 0
      },
      "text/plain": [
       "Tab(children=(AppLayout(children=(IntSlider(value=1, continuous_update=False, description='ksize: ', layout=La…"
      ]
     },
     "metadata": {},
     "output_type": "display_data"
    }
   ],
   "source": [
    "#Component 선언\n",
    "IntSlider_Box = IntSlider(\n",
    "    value=1,\n",
    "    min=1,\n",
    "    max=30,\n",
    "    step=1,\n",
    "    description='ksize: ',\n",
    "    disabled=False,\n",
    "    continuous_update=False,\n",
    "    orientation='horizontal',\n",
    "    readout=True,\n",
    "    readout_format='d'\n",
    ")\n",
    "\n",
    "IntSlider_Biateral = IntSlider(\n",
    "    value=0,\n",
    "    min=-1,\n",
    "    max=30,\n",
    "    step=1,\n",
    "    description='d: ',\n",
    "    disabled=False,\n",
    "    continuous_update=False,\n",
    "    orientation='horizontal',\n",
    "    readout=True,\n",
    "    readout_format='d'\n",
    ")\n",
    "\n",
    "IntSlider_MedianBlur = IntSlider(\n",
    "    value=1,\n",
    "    min=1,\n",
    "    max=20,\n",
    "    step=2,\n",
    "    description='ksize: ',\n",
    "    disabled=False,\n",
    "    continuous_update=False,\n",
    "    orientation='horizontal',\n",
    "    readout=True,\n",
    "    readout_format='d'\n",
    ")\n",
    "\n",
    "\n",
    "IntSlider_Blur = IntSlider(\n",
    "    value=1,\n",
    "    min=1,\n",
    "    max=20,\n",
    "    step=1,\n",
    "    description='ksize: ',\n",
    "    disabled=False,\n",
    "    continuous_update=False,\n",
    "    orientation='horizontal',\n",
    "    readout=True,\n",
    "    readout_format='d'\n",
    ")\n",
    "\n",
    "IntSlider_Gaussian = IntSlider(\n",
    "    value=1,\n",
    "    min=1,\n",
    "    max=20,\n",
    "    step=2,\n",
    "    description='ksize: ',\n",
    "    disabled=False,\n",
    "    continuous_update=False,\n",
    "    orientation='horizontal',\n",
    "    readout=True,\n",
    "    readout_format='d'\n",
    ")\n",
    "\n",
    "IntSlider_Gaussian2 = IntSlider(\n",
    "    value=0,\n",
    "    min=0,\n",
    "    max=10,\n",
    "    step=1,\n",
    "    description='Sigma: ',\n",
    "    disabled=False,\n",
    "    continuous_update=False,\n",
    "    orientation='horizontal',\n",
    "    readout=True,\n",
    "    readout_format='d'\n",
    ")\n",
    "\n",
    "def layout(header, left, right):\n",
    "    layout = AppLayout(header=header,\n",
    "          left_sidebar=left,\n",
    "          center=None,\n",
    "          right_sidebar=right)\n",
    "    return layout\n",
    "\n",
    "wImg_original = Image(layout = Layout(border=\"solid\"), width=\"50%\") \n",
    "wImg_Box = Image(layout = Layout(border=\"solid\"), width=\"50%\") \n",
    "wImg_Biateral = Image(layout = Layout(border=\"solid\"), width=\"50%\") \n",
    "wImg_MedianBlur = Image(layout = Layout(border=\"solid\"), width=\"50%\") \n",
    "wImg_Blur = Image(layout = Layout(border=\"solid\"), width=\"50%\") \n",
    "wImg_Gaussian = Image(layout = Layout(border=\"solid\"), width=\"50%\") \n",
    "\n",
    "box1 = layout(IntSlider_Box,wImg_original,wImg_Box)\n",
    "box2 = layout(IntSlider_Biateral,wImg_original,wImg_Biateral)\n",
    "box3 = layout(IntSlider_MedianBlur,wImg_original,wImg_MedianBlur)\n",
    "box4 = layout(IntSlider_Blur,wImg_original,wImg_Blur)\n",
    "\n",
    "items = [IntSlider_Gaussian,IntSlider_Gaussian2]\n",
    "Gaussian = Box(items)\n",
    "box5 = layout(Gaussian,wImg_original,wImg_Gaussian)\n",
    "\n",
    "\n",
    "tab_nest = widgets.Tab()\n",
    "tab_nest.children = [box1, box2, box3, box4, box5]\n",
    "tab_nest.set_title(0, 'Box Filter')\n",
    "tab_nest.set_title(1, 'Biateral Filter')\n",
    "tab_nest.set_title(2, 'MedianBlur Filter')\n",
    "tab_nest.set_title(3, 'Blur Filter')\n",
    "tab_nest.set_title(4, 'Gaussian Filter')\n",
    "tab_nest\n",
    "\n",
    "img = cv2.imread('./data/lena.jpg',0)\n",
    "tmpStream = cv2.imencode(\".jpeg\", img)[1].tostring()\n",
    "wImg_original.value = tmpStream\n",
    "\n",
    "display.display(tab_nest)\n",
    "\n",
    "#Event 선언\n",
    "gaussian_ksize, gaussian_sigma = 1,0\n",
    "\n",
    "def on_value_change_Box(change):\n",
    "    ksize = change['new']\n",
    "    Box_img = cv2.boxFilter(img,ddepth=-1,ksize=(ksize,ksize))\n",
    "    tmpStream = cv2.imencode(\".jpeg\", Box_img)[1].tostring()\n",
    "    wImg_Box.value = tmpStream\n",
    "    \n",
    "def on_value_change_Biateral(change):\n",
    "    d = change['new']\n",
    "    Biateral_img = cv2.bilateralFilter(img,d=d,sigmaColor = 10, sigmaSpace = 10)\n",
    "    tmpStream = cv2.imencode(\".jpeg\", Biateral_img)[1].tostring()\n",
    "    wImg_Biateral.value = tmpStream\n",
    "    \n",
    "def on_value_change_MedianBlur(change):\n",
    "    ksize = change['new']\n",
    "    MedianBlur_img = cv2.medianBlur(img,ksize=ksize)\n",
    "    tmpStream = cv2.imencode(\".jpeg\", MedianBlur_img)[1].tostring()\n",
    "    wImg_MedianBlur.value = tmpStream\n",
    "    \n",
    "def on_value_change_Blur(change):\n",
    "    ksize = change['new']\n",
    "    Blurr_img = cv2.blur(img,ksize=(ksize,ksize))\n",
    "    tmpStream = cv2.imencode(\".jpeg\", Blurr_img)[1].tostring()\n",
    "    wImg_Blur.value = tmpStream\n",
    "    \n",
    "def on_value_change_Gaussian(change):\n",
    "    global gaussian_ksize, gaussian_sigma\n",
    "    gaussian_ksize = change['new']\n",
    "    Gaussian_img = cv2.GaussianBlur(img,ksize=(gaussian_ksize,gaussian_ksize),sigmaX=gaussian_sigma)\n",
    "    tmpStream = cv2.imencode(\".jpeg\", Gaussian_img)[1].tostring()\n",
    "    wImg_Gaussian.value = tmpStream\n",
    "    \n",
    "def on_value_change_Gaussian2(change):\n",
    "    global gaussian_ksize, gaussian_sigma\n",
    "    gaussian_sigma = change['new']\n",
    "    Gaussian_img = cv2.GaussianBlur(img,ksize=(gaussian_ksize,gaussian_ksize),sigmaX=gaussian_sigma)\n",
    "    tmpStream = cv2.imencode(\".jpeg\", Gaussian_img)[1].tostring()\n",
    "    wImg_Gaussian.value = tmpStream\n",
    "    \n",
    "\n",
    "#초기화 작업\n",
    "Box_img = cv2.boxFilter(img,ddepth=-1,ksize=(1,1))\n",
    "tmpStream = cv2.imencode(\".jpeg\", Box_img)[1].tostring()\n",
    "wImg_Box.value = tmpStream\n",
    "\n",
    "Biateral_img = cv2.bilateralFilter(img,d=0,sigmaColor = 10, sigmaSpace = 10)\n",
    "tmpStream = cv2.imencode(\".jpeg\", Biateral_img)[1].tostring()\n",
    "wImg_Biateral.value = tmpStream\n",
    "    \n",
    "MedianBlur_img = cv2.medianBlur(img,ksize=1)\n",
    "tmpStream = cv2.imencode(\".jpeg\", MedianBlur_img)[1].tostring()\n",
    "wImg_MedianBlur.value = tmpStream\n",
    "\n",
    "Blurr_img = cv2.blur(img,ksize=(1,1))\n",
    "tmpStream = cv2.imencode(\".jpeg\", Blurr_img)[1].tostring()\n",
    "wImg_Blur.value = tmpStream\n",
    "\n",
    "Gaussian_img = cv2.GaussianBlur(img,ksize=(gaussian_ksize,gaussian_ksize),sigmaX=gaussian_sigma)\n",
    "tmpStream = cv2.imencode(\".jpeg\", Gaussian_img)[1].tostring()\n",
    "wImg_Gaussian.value = tmpStream\n",
    "\n",
    "#Component에 Event 장착\n",
    "IntSlider_Box.observe(on_value_change_Box, names='value')\n",
    "IntSlider_Biateral.observe(on_value_change_Biateral, names='value')\n",
    "IntSlider_MedianBlur.observe(on_value_change_MedianBlur, names='value')\n",
    "IntSlider_Blur.observe(on_value_change_Blur, names='value')\n",
    "IntSlider_Gaussian.observe(on_value_change_Gaussian, names='value')\n",
    "IntSlider_Gaussian2.observe(on_value_change_Gaussian2, names='value')"
   ]
  },
  {
   "cell_type": "markdown",
   "metadata": {},
   "source": [
    "#### 이미지 만들기"
   ]
  },
  {
   "cell_type": "code",
   "execution_count": 3,
   "metadata": {},
   "outputs": [
    {
     "data": {
      "image/png": "[encoded data removed]",
      "text/plain": [
       "<Figure size 432x288 with 1 Axes>"
      ]
     },
     "metadata": {
      "needs_background": "light"
     },
     "output_type": "display_data"
    },
    {
     "data": {
      "text/plain": [
       "True"
      ]
     },
     "execution_count": 3,
     "metadata": {},
     "output_type": "execute_result"
    }
   ],
   "source": [
    "def plot(img):\n",
    "    plt.axis('off')\n",
    "    plt.imshow(img)\n",
    "    plt.show()\n",
    "    \n",
    "img = np.zeros((512,512,3),dtype=np.int32)+255\n",
    "\n",
    "pt1 = 100,100\n",
    "pt2 = 400,400\n",
    "cv2.rectangle(img,pt1,pt2,(0,0,0),-1)\n",
    "\n",
    "plt.axis('off')\n",
    "plt.imshow(img)\n",
    "plt.show()\n",
    "cv2.imwrite('./data/rectangle.jpg',img)"
   ]
  },
  {
   "cell_type": "markdown",
   "metadata": {},
   "source": [
    "### 미분필터\n",
    "\n",
    "#### Sobel Filter1"
   ]
  },
  {
   "cell_type": "code",
   "execution_count": 4,
   "metadata": {},
   "outputs": [
    {
     "name": "stdout",
     "output_type": "stream",
     "text": [
      "mag: 0.0 1080.467529296875 (0, 0) (100, 400)\n"
     ]
    },
    {
     "data": {
      "image/png": "[encoded data removed]",
      "text/plain": [
       "<Figure size 1440x288 with 4 Axes>"
      ]
     },
     "metadata": {
      "needs_background": "light"
     },
     "output_type": "display_data"
    }
   ],
   "source": [
    "src = cv2.imread('./data/rectangle.jpg',cv2.IMREAD_GRAYSCALE) \n",
    "\n",
    "gx = cv2.Sobel(src,cv2.CV_32F,1,0,ksize=3)\n",
    "gy = cv2.Sobel(src,cv2.CV_32F,0,1,ksize=3)\n",
    "\n",
    "dstX = cv2.sqrt(np.abs(gx))\n",
    "dstX = cv2.normalize(dstX,None,0,255,cv2.NORM_MINMAX,dtype=cv2.CV_8U)\n",
    "\n",
    "dstY = cv2.sqrt(np.abs(gy))\n",
    "dstY = cv2.normalize(dstY,None,0,255,cv2.NORM_MINMAX,dtype=cv2.CV_8U)\n",
    "\n",
    "mag = cv2.magnitude(gx,gy)\n",
    "minVal, maxVal, minLoc, maxLoc = cv2.minMaxLoc(mag)\n",
    "print('mag:',minVal,maxVal,minLoc,maxLoc)\n",
    "dstM = cv2.normalize(mag,None,0,255,cv2.NORM_MINMAX,dtype=cv2.CV_8U)\n",
    "\n",
    "plt.figure(figsize=(20,4))\n",
    "imgae1=plt.subplot(1,4,1)\n",
    "imgae1.set_title('Original')\n",
    "plt.axis('off')\n",
    "plt.imshow(src, cmap=\"gray\")\n",
    "\n",
    "imgae2=plt.subplot(1,4,2)\n",
    "imgae2.set_title('dstX')\n",
    "plt.axis('off')\n",
    "plt.imshow(dstX, cmap=\"gray\")\n",
    "\n",
    "imgae3=plt.subplot(1,4,3)\n",
    "imgae3.set_title('dstY')\n",
    "plt.axis('off')\n",
    "plt.imshow(dstY, cmap=\"gray\")\n",
    "\n",
    "imgae3=plt.subplot(1,4,4)\n",
    "imgae3.set_title('dstM')\n",
    "plt.axis('off')\n",
    "plt.imshow(dstM, cmap=\"gray\")\n",
    "\n",
    "plt.show()"
   ]
  },
  {
   "cell_type": "markdown",
   "metadata": {},
   "source": [
    "#### Sobel Filter2(gradient orientation)"
   ]
  },
  {
   "cell_type": "code",
   "execution_count": 5,
   "metadata": {},
   "outputs": [
    {
     "name": "stdout",
     "output_type": "stream",
     "text": [
      "angle:  0.0 359.94378662109375 (0, 0) (400, 399)\n"
     ]
    },
    {
     "data": {
      "image/png": "[encoded data removed]",
      "text/plain": [
       "<Figure size 1440x288 with 3 Axes>"
      ]
     },
     "metadata": {
      "needs_background": "light"
     },
     "output_type": "display_data"
    }
   ],
   "source": [
    "src = cv2.imread('./data/rectangle.jpg',cv2.IMREAD_GRAYSCALE)\n",
    "\n",
    "gx = cv2.Sobel(src,cv2.CV_32F,1,0,ksize=3)\n",
    "gy = cv2.Sobel(src,cv2.CV_32F,0,1,ksize=3)\n",
    "\n",
    "mag,angle = cv2.cartToPolar(gx,gy,angleInDegrees =True)\n",
    "minVal,maxVal,minLoc,maxLoc = cv2.minMaxLoc(angle)\n",
    "print('angle: ',minVal,maxVal,minLoc,maxLoc)\n",
    "\n",
    "ret,edge = cv2.threshold(mag,100,255,cv2.THRESH_BINARY)\n",
    "edge = edge.astype(np.uint8)\n",
    "\n",
    "width,height = mag.shape[:2]\n",
    "angleM = np.full((width,height,3),(255,255,255),dtype=np.uint8)\n",
    "for y in range(height):\n",
    "    for x in range(width):\n",
    "        if edge[y,x]!=0:\n",
    "            if angle[y,x] == 0:\n",
    "                angleM[y,x] = (0,0,255) # red\n",
    "            elif angle[y,x] == 90:\n",
    "                angleM[y,x] = (0,255,0) # green\n",
    "            elif angle[y,x] == 180:\n",
    "                angleM[y,x] = (255,0,0) # blue\n",
    "            elif angle[y,x] == 270:\n",
    "                angleM[y,x] = (0,255,255) # yellow\n",
    "            else:\n",
    "                angleM[y,x] = (128,128,128) # gray\n",
    "\n",
    "hist = cv2.calcHist(images=[angle],channels=[0],mask=edge,histSize=[360],ranges=[0,360])\n",
    "hist = hist.flatten()\n",
    "                \n",
    "plt.figure(figsize=(20,4))\n",
    "imgae1=plt.subplot(1,3,1)\n",
    "imgae1.set_title('edge')\n",
    "plt.imshow(edge, cmap=\"gray\")\n",
    "\n",
    "imgae2=plt.subplot(1,3,2)\n",
    "imgae2.set_title('angleM')\n",
    "plt.imshow(angleM)\n",
    "\n",
    "imgae3=plt.subplot(1,3,3)\n",
    "imgae3.set_title('hist: binX = np.arrange(360)')\n",
    "plt.plot(hist,color='r')\n",
    "binX=np.arange(360)\n",
    "plt.bar(binX,hist,width=1,color='b')\n",
    "\n",
    "plt.show()"
   ]
  },
  {
   "cell_type": "markdown",
   "metadata": {},
   "source": [
    "#### Laplacian 필터"
   ]
  },
  {
   "cell_type": "code",
   "execution_count": 6,
   "metadata": {},
   "outputs": [
    {
     "data": {
      "application/vnd.jupyter.widget-view+json": {
       "model_id": "ce489c8db14a41108cab4f756545de25",
       "version_major": 2,
       "version_minor": 0
      },
      "text/plain": [
       "Tab(children=(AppLayout(children=(Box(children=(IntSlider(value=1, continuous_update=False, description='ksize…"
      ]
     },
     "metadata": {},
     "output_type": "display_data"
    }
   ],
   "source": [
    "#Component 선언\n",
    "IntSlider_Gaussian = IntSlider(\n",
    "    value=1,\n",
    "    min=1,\n",
    "    max=20,\n",
    "    step=2,\n",
    "    description='ksize: ',\n",
    "    disabled=False,\n",
    "    continuous_update=False,\n",
    "    orientation='horizontal',\n",
    "    readout=True,\n",
    "    readout_format='d'\n",
    ")\n",
    "\n",
    "IntSlider_Gaussian2 = IntSlider(\n",
    "    value=0,\n",
    "    min=0,\n",
    "    max=10,\n",
    "    step=1,\n",
    "    description='Sigma: ',\n",
    "    disabled=False,\n",
    "    continuous_update=False,\n",
    "    orientation='horizontal',\n",
    "    readout=True,\n",
    "    readout_format='d'\n",
    ")\n",
    "\n",
    "def layout(header, left, right):\n",
    "    layout = AppLayout(header=header,\n",
    "          left_sidebar=left,\n",
    "          center=None,\n",
    "          right_sidebar=right)\n",
    "    return layout\n",
    "\n",
    "wImg_original = Image(layout = Layout(border=\"solid\"), width=\"50%\")\n",
    "wImg_Gaussian = Image(layout = Layout(border=\"solid\"), width=\"50%\")\n",
    "wImg_Laplacian = Image(layout = Layout(border=\"solid\"), width=\"50%\")\n",
    "wImg_Laplacian2 = Image(layout = Layout(border=\"solid\"), width=\"50%\")\n",
    "\n",
    "items = [IntSlider_Gaussian,IntSlider_Gaussian2]\n",
    "items2 = [wImg_original,wImg_Gaussian]\n",
    "items3 = [wImg_Laplacian,wImg_Laplacian2]\n",
    "Gaussian = Box(items)\n",
    "Input =Box(items2)\n",
    "Output = Box(items3)\n",
    "box = layout(Gaussian,Input,Output)\n",
    "\n",
    "\n",
    "tab_nest = widgets.Tab()\n",
    "tab_nest.children = [box]\n",
    "tab_nest.set_title(0, 'Gaussian Filter, Laplacian')\n",
    "tab_nest\n",
    "\n",
    "img = cv2.imread('./data/lena.jpg',0)\n",
    "tmpStream = cv2.imencode(\".jpeg\", img)[1].tostring()\n",
    "wImg_original.value = tmpStream\n",
    "\n",
    "display.display(tab_nest)\n",
    "\n",
    "#Event 선언\n",
    "gaussian_ksize, gaussian_sigma = 1,0\n",
    "    \n",
    "\n",
    "def on_value_change_Gaussian(change):\n",
    "    global gaussian_ksize, gaussian_sigma\n",
    "    gaussian_ksize = change['new']\n",
    "    Gaussian_img = cv2.GaussianBlur(img,ksize=(gaussian_ksize,gaussian_ksize),sigmaX=gaussian_sigma)\n",
    "    tmpStream = cv2.imencode(\".jpeg\", Gaussian_img)[1].tostring()\n",
    "    wImg_Gaussian.value = tmpStream\n",
    "    \n",
    "    make_laplacian(Gaussian_img)\n",
    "    \n",
    "def on_value_change_Gaussian2(change):\n",
    "    global gaussian_ksize, gaussian_sigma\n",
    "    gaussian_sigma = change['new']\n",
    "    Gaussian_img = cv2.GaussianBlur(img,ksize=(gaussian_ksize,gaussian_ksize),sigmaX=gaussian_sigma)\n",
    "    tmpStream = cv2.imencode(\".jpeg\", Gaussian_img)[1].tostring()\n",
    "    wImg_Gaussian.value = tmpStream\n",
    "    \n",
    "    make_laplacian(Gaussian_img)\n",
    "\n",
    "def make_laplacian(img):\n",
    "    lap = cv2.Laplacian(img,cv2.CV_32F)\n",
    "    minVal,maxVal,minLoc,maxLoc = cv2.minMaxLoc(lap)\n",
    "    dst = cv2.convertScaleAbs(lap)\n",
    "    dst = cv2.normalize(dst,None,0,255,cv2.NORM_MINMAX)\n",
    "    \n",
    "    lap = lap.astype(np.uint8)\n",
    "    tmpStream = cv2.imencode(\".jpeg\", lap)[1].tostring()\n",
    "    wImg_Laplacian.value = tmpStream\n",
    "    tmpStream = cv2.imencode(\".jpeg\", dst)[1].tostring()\n",
    "    wImg_Laplacian2.value = tmpStream\n",
    "\n",
    "#초기화 작업\n",
    "Gaussian_img = cv2.GaussianBlur(img,ksize=(gaussian_ksize,gaussian_ksize),sigmaX=gaussian_sigma)\n",
    "tmpStream = cv2.imencode(\".jpeg\", Gaussian_img)[1].tostring()\n",
    "wImg_Gaussian.value = tmpStream\n",
    "\n",
    "make_laplacian(Gaussian_img)\n",
    "\n",
    "\n",
    "#Component에 Event 장착\n",
    "IntSlider_Gaussian.observe(on_value_change_Gaussian, names='value')\n",
    "IntSlider_Gaussian2.observe(on_value_change_Gaussian2, names='value')"
   ]
  },
  {
   "cell_type": "markdown",
   "metadata": {},
   "source": [
    "#### Laplacian 필터2: zero-crossing"
   ]
  },
  {
   "cell_type": "code",
   "execution_count": 7,
   "metadata": {
    "scrolled": false
   },
   "outputs": [
    {
     "data": {
      "application/vnd.jupyter.widget-view+json": {
       "model_id": "9d4bcf299cbc4712a64ab0f8cce3c7b3",
       "version_major": 2,
       "version_minor": 0
      },
      "text/plain": [
       "Tab(children=(AppLayout(children=(Box(children=(IntSlider(value=1, continuous_update=False, description='ksize…"
      ]
     },
     "metadata": {},
     "output_type": "display_data"
    }
   ],
   "source": [
    "#Component 선언\n",
    "IntSlider_Gaussian = IntSlider(\n",
    "    value=1,\n",
    "    min=1,\n",
    "    max=20,\n",
    "    step=2,\n",
    "    description='ksize: ',\n",
    "    disabled=False,\n",
    "    continuous_update=False,\n",
    "    orientation='horizontal',\n",
    "    readout=True,\n",
    "    readout_format='d'\n",
    ")\n",
    "\n",
    "IntSlider_Gaussian2 = IntSlider(\n",
    "    value=0,\n",
    "    min=0,\n",
    "    max=10,\n",
    "    step=1,\n",
    "    description='Sigma: ',\n",
    "    disabled=False,\n",
    "    continuous_update=False,\n",
    "    orientation='horizontal',\n",
    "    readout=True,\n",
    "    readout_format='d'\n",
    ")\n",
    "\n",
    "IntSlider_Gaussian3 = IntSlider(\n",
    "    value=1,\n",
    "    min=1,\n",
    "    max=20,\n",
    "    step=2,\n",
    "    description='ksize: ',\n",
    "    disabled=False,\n",
    "    continuous_update=False,\n",
    "    orientation='horizontal',\n",
    "    readout=True,\n",
    "    readout_format='d'\n",
    ")\n",
    "\n",
    "IntSlider_Gaussian4 = IntSlider(\n",
    "    value=0,\n",
    "    min=0,\n",
    "    max=10,\n",
    "    step=1,\n",
    "    description='Sigma: ',\n",
    "    disabled=False,\n",
    "    continuous_update=False,\n",
    "    orientation='horizontal',\n",
    "    readout=True,\n",
    "    readout_format='d'\n",
    ")\n",
    "\n",
    "def layout(header, left, right):\n",
    "    layout = AppLayout(header=header,\n",
    "          left_sidebar=left,\n",
    "          center=None,\n",
    "          right_sidebar=right)\n",
    "    return layout\n",
    "\n",
    "wImg_original = Image(layout = Layout(border=\"solid\"), width=\"50%\") \n",
    "wImg_Blur = Image(layout = Layout(border=\"solid\"), width=\"50%\") \n",
    "wImg_Gaussian = Image(layout = Layout(border=\"solid\"), width=\"50%\") \n",
    "\n",
    "wImg_original2 = Image(layout = Layout(border=\"solid\"), width=\"50%\") \n",
    "wImg_Blur2 = Image(layout = Layout(border=\"solid\"), width=\"50%\") \n",
    "wImg_Gaussian2 = Image(layout = Layout(border=\"solid\"), width=\"50%\") \n",
    "\n",
    "items = [IntSlider_Gaussian,IntSlider_Gaussian2]\n",
    "items2 = [wImg_original,wImg_Blur]\n",
    "Gaussian = Box(items)\n",
    "Gaussian2 = Box(items2)\n",
    "box1 = layout(Gaussian,Gaussian2,wImg_Gaussian)\n",
    "\n",
    "items = [IntSlider_Gaussian3,IntSlider_Gaussian4]\n",
    "items2 = [wImg_original2,wImg_Blur2]\n",
    "Gaussian = Box(items)\n",
    "Gaussian2 = Box(items2)\n",
    "box2 = layout(Gaussian,Gaussian2,wImg_Gaussian2)\n",
    "\n",
    "tab_nest = widgets.Tab()\n",
    "tab_nest.children = [box1, box2]\n",
    "tab_nest.set_title(0, 'Rectangle.jpg')\n",
    "tab_nest.set_title(1, 'lena.jpg')\n",
    "tab_nest\n",
    "\n",
    "img = cv2.imread('./data/rectangle.jpg',0)\n",
    "tmpStream = cv2.imencode(\".jpeg\", img)[1].tostring()\n",
    "wImg_original.value = tmpStream\n",
    "\n",
    "img2 = cv2.imread('./data/lena.jpg',0)\n",
    "tmpStream = cv2.imencode(\".jpeg\", img2)[1].tostring()\n",
    "wImg_original2.value = tmpStream\n",
    "\n",
    "display.display(tab_nest)\n",
    "\n",
    "#Event 선언\n",
    "gaussian_ksize, gaussian_sigma = 1,0\n",
    "gaussian_ksize2, gaussian_sigma2 = 1,0\n",
    "    \n",
    "def on_value_change_Gaussian(change):\n",
    "    global gaussian_ksize, gaussian_sigma\n",
    "    gaussian_ksize = change['new']\n",
    "    Gaussian_img = cv2.GaussianBlur(img,ksize=(gaussian_ksize,gaussian_ksize),sigmaX=gaussian_sigma)\n",
    "    tmpStream = cv2.imencode(\".jpeg\", Gaussian_img)[1].tostring()\n",
    "    wImg_Blur.value = tmpStream\n",
    "    lap = cv2.Laplacian(Gaussian_img,cv2.CV_32F,3)\n",
    "    zeroCrossing(lap,0)\n",
    "    \n",
    "def on_value_change_Gaussian2(change):\n",
    "    global gaussian_ksize, gaussian_sigma\n",
    "    gaussian_sigma = change['new']\n",
    "    Gaussian_img = cv2.GaussianBlur(img,ksize=(gaussian_ksize,gaussian_ksize),sigmaX=gaussian_sigma)\n",
    "    tmpStream = cv2.imencode(\".jpeg\", Gaussian_img)[1].tostring()\n",
    "    wImg_Blur.value = tmpStream\n",
    "    lap = cv2.Laplacian(Gaussian_img,cv2.CV_32F,3)\n",
    "    zeroCrossing(lap,0)\n",
    "    \n",
    "def on_value_change_Gaussian3(change):\n",
    "    global gaussian_ksize2, gaussian_sigma2\n",
    "    gaussian_ksize2 = change['new']\n",
    "    Gaussian_img = cv2.GaussianBlur(img2,ksize=(gaussian_ksize2,gaussian_ksize2),sigmaX=gaussian_sigma2)\n",
    "    tmpStream = cv2.imencode(\".jpeg\", Gaussian_img)[1].tostring()\n",
    "    wImg_Blur2.value = tmpStream\n",
    "    lap = cv2.Laplacian(Gaussian_img,cv2.CV_32F,3)\n",
    "    zeroCrossing(lap)\n",
    "    \n",
    "def on_value_change_Gaussian4(change):\n",
    "    global gaussian_ksize2, gaussian_sigma2\n",
    "    gaussian_sigma = change['new']\n",
    "    Gaussian_img = cv2.GaussianBlur(img2,ksize=(gaussian_ksize2,gaussian_ksize2),sigmaX=gaussian_sigma2)\n",
    "    tmpStream = cv2.imencode(\".jpeg\", Gaussian_img)[1].tostring()\n",
    "    wImg_Blur2.value = tmpStream\n",
    "    lap = cv2.Laplacian(Gaussian_img,cv2.CV_32F,3)\n",
    "    zeroCrossing(lap,0)\n",
    "    \n",
    "def SGN(x):\n",
    "    if x>=0:\n",
    "        sign=1\n",
    "    else:\n",
    "        sign=-1\n",
    "    return sign\n",
    "\n",
    "def zeroCrossing(lap,option=1):\n",
    "    width,height = lap.shape\n",
    "    Z = np.zeros(lap.shape,dtype=np.uint8)\n",
    "    for y in range(1,height-1):\n",
    "        for x in range(1,width-1):\n",
    "            neighbors = [lap[y-1,x],lap[y+1,x],lap[y,x-1],lap[y,x+1],\n",
    "            lap[y-1,x-1],lap[y-1,x+1],\n",
    "            lap[y+1,x-1],lap[y+1,x+1]]\n",
    "            mValue = min(neighbors)\n",
    "            if SGN(lap[y,x]) != SGN(mValue):\n",
    "                Z[y,x] = 255\n",
    "    \n",
    "    if option==0:\n",
    "        tmpStream = cv2.imencode(\".jpeg\", Z)[1].tostring()\n",
    "        wImg_Gaussian.value = tmpStream\n",
    "    else:\n",
    "        tmpStream = cv2.imencode(\".jpeg\", Z)[1].tostring()\n",
    "        wImg_Gaussian2.value = tmpStream\n",
    "\n",
    "#초기화 작업\n",
    "Gaussian_img = cv2.GaussianBlur(img,ksize=(gaussian_ksize,gaussian_ksize),sigmaX=gaussian_sigma)\n",
    "tmpStream = cv2.imencode(\".jpeg\", Gaussian_img)[1].tostring()\n",
    "wImg_Blur.value = tmpStream\n",
    "lap = cv2.Laplacian(Gaussian_img,cv2.CV_32F,3)\n",
    "zeroCrossing(lap,0)\n",
    "\n",
    "Gaussian_img2 = cv2.GaussianBlur(img2,ksize=(gaussian_ksize2,gaussian_ksize2),sigmaX=gaussian_sigma2)\n",
    "tmpStream = cv2.imencode(\".jpeg\", Gaussian_img2)[1].tostring()\n",
    "wImg_Blur2.value = tmpStream\n",
    "lap2 = cv2.Laplacian(Gaussian_img2,cv2.CV_32F,3)\n",
    "zeroCrossing(lap2)\n",
    "\n",
    "#Component에 Event 장착\n",
    "IntSlider_Gaussian.observe(on_value_change_Gaussian, names='value')\n",
    "IntSlider_Gaussian2.observe(on_value_change_Gaussian2, names='value')\n",
    "IntSlider_Gaussian3.observe(on_value_change_Gaussian3, names='value')\n",
    "IntSlider_Gaussian4.observe(on_value_change_Gaussian4, names='value')"
   ]
  },
  {
   "cell_type": "markdown",
   "metadata": {},
   "source": [
    "### 일반적인 필터 연산\n",
    "\n",
    "#### cv2.filter2D()와 cv2.sepFilter2D()에 의한 에지 검출"
   ]
  },
  {
   "cell_type": "code",
   "execution_count": 8,
   "metadata": {},
   "outputs": [
    {
     "name": "stdout",
     "output_type": "stream",
     "text": [
      "kx= [[-1.]\n",
      " [ 0.]\n",
      " [ 1.]]\n",
      "ky= [[1.]\n",
      " [2.]\n",
      " [1.]]\n",
      "sobelX= [[-1.  0.  1.]\n",
      " [-2.  0.  2.]\n",
      " [-1.  0.  1.]]\n",
      "kx= [[1.]\n",
      " [2.]\n",
      " [1.]]\n",
      "ky= [[-1.]\n",
      " [ 0.]\n",
      " [ 1.]]\n",
      "sobelY= [[-1. -2. -1.]\n",
      " [ 0.  0.  0.]\n",
      " [ 1.  2.  1.]]\n"
     ]
    },
    {
     "data": {
      "image/png": "[encoded data removed]",
      "text/plain": [
       "<Figure size 1440x288 with 2 Axes>"
      ]
     },
     "metadata": {
      "needs_background": "light"
     },
     "output_type": "display_data"
    }
   ],
   "source": [
    "src1 = cv2.imread('./data/rectangle.jpg',0)\n",
    "src2 = cv2.imread('./data/lena.jpg',0)\n",
    "\n",
    "kx,ky = cv2.getDerivKernels(1,0,ksize=3)\n",
    "sobelX = ky.dot(kx.T)\n",
    "print('kx=',kx)\n",
    "print('ky=',ky)\n",
    "print('sobelX=',sobelX)\n",
    "gx = cv2.filter2D(src1,cv2.CV_32F,sobelX)\n",
    "gx2 = cv2.sepFilter2D(src2,cv2.CV_32F,kx,ky)\n",
    "\n",
    "kx,ky = cv2.getDerivKernels(0,1,ksize=3)\n",
    "sobelY = ky.dot(kx.T)\n",
    "print('kx=',kx)\n",
    "print('ky=',ky)\n",
    "print('sobelY=',sobelY)\n",
    "gy = cv2.filter2D(src1,cv2.CV_32F,sobelY)\n",
    "gy2 = cv2.sepFilter2D(src2,cv2.CV_32F,kx,ky)\n",
    "\n",
    "mag = cv2.magnitude(gx,gy)\n",
    "ret,edge = cv2.threshold(mag,100,255,cv2.THRESH_BINARY)\n",
    "\n",
    "mag2 = cv2.magnitude(gx2,gy2)\n",
    "ret2,edge2 = cv2.threshold(mag2,100,255,cv2.THRESH_BINARY)\n",
    "\n",
    "plt.figure(figsize=(20,4))\n",
    "imgae1=plt.subplot(1,2,1)\n",
    "imgae1.set_title('rectnagle')\n",
    "plt.imshow(edge, cmap=\"gray\")\n",
    "\n",
    "imgae2=plt.subplot(1,2,2)\n",
    "imgae2.set_title('lena')\n",
    "plt.imshow(edge2, cmap=\"gray\")\n",
    "\n",
    "plt.show()"
   ]
  },
  {
   "cell_type": "markdown",
   "metadata": {},
   "source": [
    "#### Log필터링, 0-교차 에지 영상"
   ]
  },
  {
   "cell_type": "code",
   "execution_count": 9,
   "metadata": {
    "scrolled": false
   },
   "outputs": [
    {
     "data": {
      "application/vnd.jupyter.widget-view+json": {
       "model_id": "74539235653742afa6b6ad19e32dc94c",
       "version_major": 2,
       "version_minor": 0
      },
      "text/plain": [
       "Tab(children=(AppLayout(children=(IntSlider(value=1, continuous_update=False, description='ksize: ', layout=La…"
      ]
     },
     "metadata": {},
     "output_type": "display_data"
    },
    {
     "name": "stdout",
     "output_type": "stream",
     "text": [
      "sigma= 0.5\n"
     ]
    }
   ],
   "source": [
    "#Component 선언\n",
    "IntSlider_Ksize = IntSlider(\n",
    "    value=1,\n",
    "    min=1,\n",
    "    max=20,\n",
    "    step=2,\n",
    "    description='ksize: ',\n",
    "    disabled=False,\n",
    "    continuous_update=False,\n",
    "    orientation='horizontal',\n",
    "    readout=True,\n",
    "    readout_format='d'\n",
    ")\n",
    "\n",
    "\n",
    "def layout(header, left, right):\n",
    "    layout = AppLayout(header=header,\n",
    "          left_sidebar=left,\n",
    "          center=None,\n",
    "          right_sidebar=right)\n",
    "    return layout\n",
    "\n",
    "wImg_original = Image(layout = Layout(border=\"solid\"), width=\"50%\")\n",
    "wImg_LoG = Image(layout = Layout(border=\"solid\"), width=\"50%\")\n",
    "wImg_ZeroCrossing = Image(layout = Layout(border=\"solid\"), width=\"50%\") \n",
    "\n",
    "items = [wImg_LoG,wImg_ZeroCrossing]\n",
    "Output = Box(items)\n",
    "box = layout(IntSlider_Ksize,wImg_original,Output)\n",
    "\n",
    "tab_nest = widgets.Tab()\n",
    "tab_nest.children = [box]\n",
    "tab_nest.set_title(0, 'Zero Crossing')\n",
    "tab_nest\n",
    "\n",
    "img = cv2.imread('./data/lena.jpg',0)\n",
    "tmpStream = cv2.imencode(\".jpeg\", img)[1].tostring()\n",
    "wImg_original.value = tmpStream\n",
    "\n",
    "display.display(tab_nest)\n",
    "\n",
    "#Event 선언\n",
    "ksize, sigma = 1,0\n",
    "\n",
    "def on_value_change_Ksize(change):\n",
    "    global ksize, sigma\n",
    "    ksize = change['new']\n",
    "    \n",
    "    kernel = logFilter()\n",
    "    LoG = cv2.filter2D(img,cv2.CV_32F,kernel)\n",
    "    LoG_img = LoG.astype(np.uint8)\n",
    "    \n",
    "    tmpStream = cv2.imencode(\".jpeg\", LoG_img)[1].tostring()\n",
    "    wImg_LoG.value = tmpStream\n",
    "    \n",
    "    edgeZ = zeroCrossing(LoG)\n",
    "    tmpStream = cv2.imencode(\".jpeg\", edgeZ)[1].tostring()\n",
    "    wImg_ZeroCrossing.value = tmpStream\n",
    "    \n",
    "    \n",
    "    \n",
    "def logFilter():\n",
    "    global ksize\n",
    "    k2 = ksize//2\n",
    "    sigma = 0.3 * (k2-1)+0.8\n",
    "    print('sigma=',sigma)\n",
    "    LoG = np.zeros((ksize,ksize),dtype=np.float32)\n",
    "    for y in range(-k2,k2+1):\n",
    "        for x in range(-k2,k2+1):\n",
    "            g = -(x*x+y*y)/(2.0*sigma**2.0)\n",
    "            LoG[y+k2,x+k2] = -(1.0+g)*np.exp(g)/(np.pi*sigma**4.0)\n",
    "    return LoG        \n",
    "\n",
    "\n",
    "def zeroCrossing(lap,thresh=0.01):\n",
    "    width,height = lap.shape\n",
    "    Z = np.zeros(lap.shape,dtype=np.uint8)\n",
    "    for y in range(1,height-1):\n",
    "        for x in range(1,width-1):\n",
    "            neighbors = [lap[y-1,x],lap[y+1,x],lap[y,x-1],lap[y,x+1],\n",
    "            lap[y-1,x-1],lap[y-1,x+1],\n",
    "            lap[y+1,x-1],lap[y+1,x+1]]\n",
    "            pos = 0\n",
    "            neg = 0\n",
    "            for value in neighbors:\n",
    "                if value>thresh:\n",
    "                    pos+=1\n",
    "                if value<thresh:\n",
    "                    neg+=1\n",
    "            if pos > 0 and neg > 0:\n",
    "                Z[y,x] = 255\n",
    "    \n",
    "    return Z\n",
    "           \n",
    "\n",
    "#초기화 작업\n",
    "kernel = logFilter()\n",
    "LoG = cv2.filter2D(img,cv2.CV_32F,kernel)\n",
    "LoG_img = LoG.astype(np.uint8)\n",
    "\n",
    "tmpStream = cv2.imencode(\".jpeg\", LoG_img)[1].tostring()\n",
    "wImg_LoG.value = tmpStream\n",
    "    \n",
    "edgeZ = zeroCrossing(LoG)\n",
    "tmpStream = cv2.imencode(\".jpeg\", edgeZ)[1].tostring()\n",
    "wImg_ZeroCrossing.value = tmpStream\n",
    "\n",
    "\n",
    "#Component에 Event 장착\n",
    "IntSlider_Ksize.observe(on_value_change_Ksize, names='value')"
   ]
  },
  {
   "cell_type": "markdown",
   "metadata": {},
   "source": [
    "### 모폴리지 연산\n",
    "\n",
    "#### 데이터 생성"
   ]
  },
  {
   "cell_type": "code",
   "execution_count": 10,
   "metadata": {},
   "outputs": [
    {
     "data": {
      "image/png": "[encoded data removed]",
      "text/plain": [
       "<Figure size 720x720 with 2 Axes>"
      ]
     },
     "metadata": {
      "needs_background": "light"
     },
     "output_type": "display_data"
    },
    {
     "data": {
      "text/plain": [
       "True"
      ]
     },
     "execution_count": 10,
     "metadata": {},
     "output_type": "execute_result"
    }
   ],
   "source": [
    "def plot(img):\n",
    "    plt.axis('off')\n",
    "    plt.imshow(img)\n",
    "    plt.show()\n",
    "    \n",
    "img = np.zeros((512,512,3),dtype=np.int32)\n",
    "\n",
    "pt1 = 100,100\n",
    "pt2 = 250,250\n",
    "cv2.rectangle(img,pt1,pt2,(255,255,255),-1)\n",
    "\n",
    "pt3 = 250,170\n",
    "pt4 = 350,350\n",
    "cv2.rectangle(img,pt3,pt4,(255,255,255),-1)\n",
    "\n",
    "pt4 = 120,120\n",
    "pt5 = 122,122\n",
    "cv2.rectangle(img,pt4,pt5,(0,0,0),-1)\n",
    "\n",
    "pt6 = 200,200\n",
    "pt7 = 202,202\n",
    "cv2.rectangle(img,pt6,pt7,(0,0,0),-1)\n",
    "\n",
    "pt8 = 300,300\n",
    "pt9 = 302,302\n",
    "cv2.rectangle(img,pt8,pt9,(0,0,0),-1)\n",
    "\n",
    "pt10 = 400,400\n",
    "pt11 = 402,402\n",
    "cv2.rectangle(img,pt10,pt11,(255,255,255),-1)\n",
    "\n",
    "pt12 = 5,5\n",
    "pt13 = 7,7\n",
    "cv2.rectangle(img,pt12,pt13,(255,255,255),-1)\n",
    "\n",
    "pt14 = 500,500\n",
    "pt15 = 502,502\n",
    "cv2.rectangle(img,pt14,pt15,(255,255,255),-1)\n",
    "\n",
    "img2 = np.zeros((512,512,3),dtype=np.int32)\n",
    "cx = 512/2\n",
    "cy = 512/2\n",
    "\n",
    "pt1 = int(cx-150),int(cy-150)\n",
    "pt2 = int(cx+150),int(cy-100)\n",
    "cv2.rectangle(img2,pt1,pt2,(255,255,255),-1)\n",
    "\n",
    "pt3 = int(cx-25),int(cy-150)\n",
    "pt4 = int(cx+25),int(cy+200)\n",
    "cv2.rectangle(img2,pt3,pt4,(255,255,255),-1)\n",
    "\n",
    "plt.figure(figsize=(10,10))\n",
    "imgae1=plt.subplot(1,2,1)\n",
    "imgae1.set_title('morphology.jpg')\n",
    "plt.axis('off')\n",
    "plt.imshow(img, cmap=\"gray\")\n",
    "\n",
    "imgae2=plt.subplot(1,2,2)\n",
    "imgae2.set_title('T.jpg')\n",
    "plt.axis('off')\n",
    "plt.imshow(img2, cmap=\"gray\")\n",
    "\n",
    "plt.show()\n",
    "cv2.imwrite('./data/morphology.jpg',img)\n",
    "cv2.imwrite('./data/T.jpg',img2)"
   ]
  },
  {
   "cell_type": "markdown",
   "metadata": {},
   "source": [
    "#### 모폴리지 연산1"
   ]
  },
  {
   "cell_type": "code",
   "execution_count": 11,
   "metadata": {},
   "outputs": [
    {
     "data": {
      "image/png": "[encoded data removed]",
      "text/plain": [
       "<Figure size 720x720 with 4 Axes>"
      ]
     },
     "metadata": {
      "needs_background": "light"
     },
     "output_type": "display_data"
    }
   ],
   "source": [
    "src = cv2.imread('./data/morphology.jpg',0)\n",
    "kernel = cv2.getStructuringElement(shape=cv2.MORPH_RECT,ksize=(3,3))\n",
    "erode = cv2.erode(src,kernel,iterations=5)\n",
    "dilate = cv2.dilate(src,kernel,iterations=7)\n",
    "erode2 = cv2.erode(src,kernel,iterations=1)\n",
    "\n",
    "plt.figure(figsize=(10,10))\n",
    "imgae1=plt.subplot(2,2,1)\n",
    "imgae1.set_title('Original')\n",
    "plt.axis('off')\n",
    "plt.imshow(src, cmap=\"gray\")\n",
    "\n",
    "imgae2=plt.subplot(2,2,2)\n",
    "imgae2.set_title('erode, iterations=5')\n",
    "plt.axis('off')\n",
    "plt.imshow(erode, cmap=\"gray\")\n",
    "\n",
    "imgae3=plt.subplot(2,2,3)\n",
    "imgae3.set_title('dilate, iterations=7')\n",
    "plt.axis('off')\n",
    "plt.imshow(dilate, cmap=\"gray\")\n",
    "\n",
    "imgae4=plt.subplot(2,2,4)\n",
    "imgae4.set_title('erode2, iterations=1')\n",
    "plt.axis('off')\n",
    "plt.imshow(erode2, cmap=\"gray\")\n",
    "\n",
    "plt.show()"
   ]
  },
  {
   "cell_type": "markdown",
   "metadata": {},
   "source": [
    "#### morphologyEx()"
   ]
  },
  {
   "cell_type": "code",
   "execution_count": 12,
   "metadata": {},
   "outputs": [
    {
     "data": {
      "image/png": "[encoded data removed]",
      "text/plain": [
       "<Figure size 720x720 with 6 Axes>"
      ]
     },
     "metadata": {
      "needs_background": "light"
     },
     "output_type": "display_data"
    }
   ],
   "source": [
    "src = cv2.imread('./data/morphology.jpg',0)\n",
    "kernel = cv2.getStructuringElement(shape=cv2.MORPH_RECT,ksize=(3,3))\n",
    "closing = cv2.morphologyEx(src,cv2.MORPH_CLOSE,kernel,iterations=5)\n",
    "opening = cv2.morphologyEx(closing,cv2.MORPH_OPEN,kernel,iterations=5)\n",
    "gradient = cv2.morphologyEx(opening,cv2.MORPH_GRADIENT,kernel,iterations=2)\n",
    "gradient2 = cv2.morphologyEx(opening,cv2.MORPH_GRADIENT,kernel,iterations=5)\n",
    "\n",
    "tophat= cv2.morphologyEx(src,cv2.MORPH_TOPHAT,kernel,iterations=5)\n",
    "balckhat= cv2.morphologyEx(src,cv2.MORPH_BLACKHAT,kernel,iterations=5)\n",
    "\n",
    "plt.figure(figsize=(10,10))\n",
    "imgae1=plt.subplot(3,2,1)\n",
    "imgae1.set_title('Closing')\n",
    "plt.axis('off')\n",
    "plt.imshow(closing, cmap=\"gray\")\n",
    "\n",
    "imgae2=plt.subplot(3,2,2)\n",
    "imgae2.set_title('Opening')\n",
    "plt.axis('off')\n",
    "plt.imshow(opening, cmap=\"gray\")\n",
    "\n",
    "imgae3=plt.subplot(3,2,3)\n",
    "imgae3.set_title('gradient, iterations=2')\n",
    "plt.axis('off')\n",
    "plt.imshow(gradient, cmap=\"gray\")\n",
    "\n",
    "imgae4=plt.subplot(3,2,4)\n",
    "imgae4.set_title('gradient2, iterations=5')\n",
    "plt.axis('off')\n",
    "plt.imshow(gradient2, cmap=\"gray\")\n",
    "\n",
    "imgae5=plt.subplot(3,2,5)\n",
    "imgae5.set_title('tophat')\n",
    "plt.axis('off')\n",
    "plt.imshow(tophat, cmap=\"gray\")\n",
    "\n",
    "imgae6=plt.subplot(3,2,6)\n",
    "imgae6.set_title('balckhat')\n",
    "plt.axis('off')\n",
    "plt.imshow(balckhat, cmap=\"gray\")\n",
    "\n",
    "plt.show()"
   ]
  },
  {
   "cell_type": "markdown",
   "metadata": {},
   "source": [
    "#### 데이터 생성"
   ]
  },
  {
   "cell_type": "code",
   "execution_count": 13,
   "metadata": {},
   "outputs": [
    {
     "data": {
      "image/png": "[encoded data removed]",
      "text/plain": [
       "<Figure size 720x720 with 5 Axes>"
      ]
     },
     "metadata": {
      "needs_background": "light"
     },
     "output_type": "display_data"
    },
    {
     "data": {
      "text/plain": [
       "True"
      ]
     },
     "execution_count": 13,
     "metadata": {},
     "output_type": "execute_result"
    }
   ],
   "source": [
    "img = np.zeros((512,512,3),dtype=np.int32)\n",
    "\n",
    "text = 'A B C D E F G'\n",
    "text2 = 'H I J K L M N'\n",
    "text3 = 'O P Q R S T U'\n",
    "text4 = 'V W X Y Z'\n",
    "text5= 'a b c d e f g'\n",
    "text6 = 'h i j k l m n'\n",
    "text_array = [text,text2,text3,text4,text5,text6]\n",
    "text7='A'\n",
    "text8='S'\n",
    "text9='b'\n",
    "text10='f'\n",
    "\n",
    "count = 1\n",
    "font = cv2.FONT_HERSHEY_SIMPLEX\n",
    "\n",
    "for t in text_array:\n",
    "    if count>4:\n",
    "        font = cv2.FONT_HERSHEY_SCRIPT_COMPLEX\n",
    "    org = (50,count*80)\n",
    "    cv2.putText(img,t,org,font,1.7,(255,255,255),7)\n",
    "    count = count+1\n",
    "    \n",
    "org = (10,40)\n",
    "font = cv2.FONT_HERSHEY_SIMPLEX\n",
    "img2 = np.zeros((50,50,3),dtype=np.int32)\n",
    "cv2.putText(img2,text7,org,font,1.7,(255,255,255),7)\n",
    "\n",
    "img3 = np.zeros((50,50,3),dtype=np.int32)\n",
    "cv2.putText(img3,text8,org,font,1.7,(255,255,255),7)\n",
    "\n",
    "font = cv2.FONT_HERSHEY_SCRIPT_COMPLEX\n",
    "img4 = np.zeros((50,50,3),dtype=np.int32)\n",
    "cv2.putText(img4,text9,org,font,1.7,(255,255,255),7)\n",
    "\n",
    "font = cv2.FONT_HERSHEY_SCRIPT_COMPLEX\n",
    "img5 = np.zeros((50,50,3),dtype=np.int32)\n",
    "cv2.putText(img5,text10,org,font,1.7,(255,255,255),7)\n",
    "img5 = cv2.rotate(img5, cv2.ROTATE_90_CLOCKWISE)\n",
    "\n",
    "plt.figure(figsize=(10,10))\n",
    "imgae1=plt.subplot(1,5,1)\n",
    "imgae1.set_title('alphabet.bmp')\n",
    "plt.axis('off')\n",
    "plt.imshow(img)\n",
    "\n",
    "imgae2=plt.subplot(1,5,2)\n",
    "imgae2.set_title('A.bmp')\n",
    "plt.axis('off')\n",
    "plt.imshow(img2)\n",
    "\n",
    "imgae3=plt.subplot(1,5,3)\n",
    "imgae3.set_title('S.bmp')\n",
    "plt.axis('off')\n",
    "plt.imshow(img3)\n",
    "\n",
    "imgae4=plt.subplot(1,5,4)\n",
    "imgae4.set_title('b.bmp')\n",
    "plt.axis('off')\n",
    "plt.imshow(img4)\n",
    "\n",
    "\n",
    "imgae5=plt.subplot(1,5,5)\n",
    "imgae5.set_title('f_90.bmp')\n",
    "plt.axis('off')\n",
    "plt.imshow(img5)\n",
    "\n",
    "plt.show()\n",
    "cv2.imwrite('./data/alphabet.bmp',img)\n",
    "cv2.imwrite('./data/A.bmp',img2)\n",
    "cv2.imwrite('./data/S.bmp',img3)\n",
    "cv2.imwrite('./data/b.bmp',img4)\n",
    "cv2.imwrite('./data/f_90.bmp',img5)"
   ]
  },
  {
   "cell_type": "markdown",
   "metadata": {},
   "source": [
    "#### 모폴로지 연산 골격화"
   ]
  },
  {
   "cell_type": "code",
   "execution_count": 14,
   "metadata": {},
   "outputs": [
    {
     "data": {
      "image/png": "[encoded data removed]",
      "text/plain": [
       "<Figure size 720x720 with 6 Axes>"
      ]
     },
     "metadata": {
      "needs_background": "light"
     },
     "output_type": "display_data"
    }
   ],
   "source": [
    "src = cv2.imread('./data/T.jpg',0)\n",
    "src2 = cv2.imread('./data/alphabet.bmp',0)\n",
    "\n",
    "ret,A = cv2.threshold(src,128,255,cv2.THRESH_BINARY)\n",
    "ret,B = cv2.threshold(src2,128,255,cv2.THRESH_BINARY)\n",
    "\n",
    "shape1 = cv2.MORPH_CROSS\n",
    "shape2 = cv2.MORPH_RECT\n",
    "\n",
    "C = cv2.getStructuringElement(shape=shape1,ksize=(7,7))\n",
    "D = cv2.getStructuringElement(shape=shape2,ksize=(7,7))\n",
    "\n",
    "def skel_func(img,option=0):\n",
    "    done = True\n",
    "    A_1 = img\n",
    "    A_2 = img\n",
    "    skel_dst = np.zeros(src.shape,np.uint8)\n",
    "    skel_dst2 = np.zeros(src.shape,np.uint8)\n",
    "\n",
    "    while done:\n",
    "        erode = cv2.erode(A_1,C)\n",
    "        \n",
    "        opening = cv2.morphologyEx(erode,cv2.MORPH_OPEN,C)\n",
    "        \n",
    "            \n",
    "        tmp = cv2.subtract(erode,opening)\n",
    "        \n",
    "        erode2 = cv2.erode(A_2,D)\n",
    "        opening2 = cv2.morphologyEx(erode,cv2.MORPH_OPEN,D)\n",
    "        tmp2 = cv2.subtract(erode2,opening2)\n",
    "        \n",
    "        skel_dst = cv2.bitwise_or(skel_dst,tmp)\n",
    "        skel_dst2 = cv2.bitwise_or(skel_dst2,tmp2)\n",
    "        \n",
    "        A_1 = erode.copy()\n",
    "        A_2 = erode.copy()\n",
    "        \n",
    "        done = (cv2.countNonZero(A_1) !=0) and (cv2.countNonZero(A_2) !=0)\n",
    "    return skel_dst,skel_dst2\n",
    "    \n",
    "\n",
    "skel_dst,skel_dst2 = skel_func(A)\n",
    "skel_dst3,skel_dst4 = skel_func(B,1)\n",
    "\n",
    "plt.figure(figsize=(10,10))\n",
    "\n",
    "imgae1=plt.subplot(2,3,1)\n",
    "imgae1.set_title('T.jpg')\n",
    "plt.axis('off')\n",
    "plt.imshow(src, cmap=\"gray\")\n",
    "\n",
    "imgae2=plt.subplot(2,3,2)\n",
    "imgae2.set_title('cv2.MORPH_CROSS')\n",
    "plt.axis('off')\n",
    "plt.imshow(skel_dst, cmap=\"gray\")\n",
    "\n",
    "imgae2=plt.subplot(2,3,3)\n",
    "imgae2.set_title('cv2.MORPH_RECT')\n",
    "plt.axis('off')\n",
    "plt.imshow(skel_dst2, cmap=\"gray\")\n",
    "\n",
    "imgae1=plt.subplot(2,3,4)\n",
    "imgae1.set_title('alphabet.bmp')\n",
    "plt.axis('off')\n",
    "plt.imshow(src2, cmap=\"gray\")\n",
    "\n",
    "imgae2=plt.subplot(2,3,5)\n",
    "imgae2.set_title('cv2.MORPH_CROSS')\n",
    "plt.axis('off')\n",
    "plt.imshow(skel_dst3, cmap=\"gray\")\n",
    "\n",
    "imgae2=plt.subplot(2,3,6)\n",
    "imgae2.set_title('cv2.MORPH_RECT')\n",
    "plt.axis('off')\n",
    "plt.imshow(skel_dst4, cmap=\"gray\")\n",
    "\n",
    "plt.show()"
   ]
  },
  {
   "cell_type": "markdown",
   "metadata": {},
   "source": [
    "#### 템플릿 매칭"
   ]
  },
  {
   "cell_type": "code",
   "execution_count": 15,
   "metadata": {},
   "outputs": [
    {
     "name": "stdout",
     "output_type": "stream",
     "text": [
      "TM_SQDIFF_NORMED:  0.0 (40, 40)\n"
     ]
    },
    {
     "data": {
      "text/plain": [
       "<matplotlib.image.AxesImage at 0x7fcb35e95668>"
      ]
     },
     "execution_count": 15,
     "metadata": {},
     "output_type": "execute_result"
    },
    {
     "data": {
      "image/png": "[encoded data removed]",
      "text/plain": [
       "<Figure size 432x288 with 1 Axes>"
      ]
     },
     "metadata": {
      "needs_background": "light"
     },
     "output_type": "display_data"
    }
   ],
   "source": [
    "src = cv2.imread('./data/alphabet.bmp',0)\n",
    "src = cv2.bitwise_not(src)\n",
    "\n",
    "tmp_A = cv2.imread('./data/A.bmp',0)\n",
    "tmp_S = cv2.imread('./data/S.bmp',0)\n",
    "tmp_b = cv2.imread('./data/b.bmp',0)\n",
    "tmp_f_90 = cv2.imread('./data/f_90.bmp',0)\n",
    "\n",
    "tmp_A = cv2.bitwise_not(tmp_A)\n",
    "tmp_S = cv2.bitwise_not(tmp_S)\n",
    "tmp_b = cv2.bitwise_not(tmp_b)\n",
    "tmp_f_90 = cv2.bitwise_not(tmp_f_90)\n",
    "\n",
    "dst = cv2.cvtColor(src,cv2.COLOR_GRAY2BGR)\n",
    "\n",
    "font = cv2.FONT_HERSHEY_SIMPLEX\n",
    "\n",
    "R1 = cv2.matchTemplate(src,tmp_A,cv2.TM_SQDIFF_NORMED)\n",
    "minVal,_,minLoc,_ = cv2.minMaxLoc(R1)\n",
    "print('TM_SQDIFF_NORMED: ',minVal, minLoc)\n",
    "\n",
    "w,h = tmp_A.shape[:2]\n",
    "cv2.rectangle(dst,minLoc,(minLoc[0]+h,minLoc[1]+w),(255,0,0),10)\n",
    "\n",
    "text = 'Maching: A'\n",
    "dx,dy = minLoc\n",
    "dx = dx-10\n",
    "dy = dy-10\n",
    "org = (dx,dy)\n",
    "cv2.putText(dst,text,org,font,1.3,(255,0,0),4)\n",
    "\n",
    "\n",
    "R2 = cv2.matchTemplate(src,tmp_S,cv2.TM_SQDIFF_NORMED)\n",
    "minVal,maxVal,minLoc,maxLoc = cv2.minMaxLoc(R2)\n",
    "\n",
    "w,h = tmp_S.shape[:2]\n",
    "cv2.rectangle(dst,minLoc,(minLoc[0]+h,minLoc[1]+w),(0,255,0),10)\n",
    "\n",
    "text = 'Maching: S'\n",
    "dx,dy = minLoc\n",
    "dx = dx-10\n",
    "dy = dy-10\n",
    "org = (dx,dy)\n",
    "cv2.putText(dst,text,org,font,1.3,(0,255,0),4)\n",
    "\n",
    "R3 = cv2.matchTemplate(src,tmp_b,cv2.TM_SQDIFF_NORMED)\n",
    "minVal,_,minLoc,_ = cv2.minMaxLoc(R3)\n",
    "\n",
    "w,h = tmp_b.shape[:2]\n",
    "cv2.rectangle(dst,minLoc,(minLoc[0]+h,minLoc[1]+w),(0,0,255),10)\n",
    "\n",
    "text = 'Maching: b'\n",
    "dx,dy = minLoc\n",
    "dx = dx-10\n",
    "dy = dy-10\n",
    "org = (dx,dy)\n",
    "cv2.putText(dst,text,org,font,1.3,(0,0,255),4)\n",
    "\n",
    "R4 = cv2.matchTemplate(src,tmp_f_90,cv2.TM_SQDIFF_NORMED)\n",
    "minVal,_,minLoc,_ = cv2.minMaxLoc(R4)\n",
    "\n",
    "w,h = tmp_b.shape[:2]\n",
    "cv2.rectangle(dst,minLoc,(minLoc[0]+h,minLoc[1]+w),(0,255,255),10)\n",
    "\n",
    "text = 'Maching: f_90'\n",
    "dx,dy = minLoc\n",
    "dx = dx-120\n",
    "dy = dy-10\n",
    "org = (dx,dy)\n",
    "cv2.putText(dst,text,org,font,1.3,(0,255,255),4)\n",
    "\n",
    "plt.axis('off')\n",
    "plt.imshow(dst)"
   ]
  },
  {
   "cell_type": "markdown",
   "metadata": {},
   "source": [
    "**cv2에서 지원하는 템플렛 매칭의 경우 회전이나 글자크기는 Detect하지 못하는 한계점이 분명하게 존재한다.**  \n",
    "**결과를 확인하면 f를 회전한 alphabet은 잘못된 글자를 mapping하는 것을 확인할 수 있다.**"
   ]
  }
 ],
 "metadata": {
  "kernelspec": {
   "display_name": "Python 3",
   "language": "python",
   "name": "python3"
  },
  "language_info": {
   "codemirror_mode": {
    "name": "ipython",
    "version": 3
   },
   "file_extension": ".py",
   "mimetype": "text/x-python",
   "name": "python",
   "nbconvert_exporter": "python",
   "pygments_lexer": "ipython3",
   "version": "3.6.8"
  }
 },
 "nbformat": 4,
 "nbformat_minor": 2
}
