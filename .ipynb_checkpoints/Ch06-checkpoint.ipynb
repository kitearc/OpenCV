{
 "cells": [
  {
   "cell_type": "markdown",
   "metadata": {},
   "source": [
    "### 영상 분할\n",
    "영상 분할(image segmentation)은 입력 영상에서 관심 있는 영역을 분리하는 과정이다.  \n",
    "이러한 영상 분할은 영상 분석, 물체 인식, 추적 등 대부분의 영상처리 응용에서 필수적인 단계이다.  \n",
    "영상 분할은 크게 경계선 또는 영역으로 분할한다.  \n",
    "임계법 사용방법은 가장 간단한 영상 분할 방법으로 <code>cv2.threshold()</code>, <code>cv2.adaptiveThreshold()</code>로서 선수 과정으로 알고있어야 하는 지식이다.  \n",
    "사전 지식: <a href=\"https://wjddyd66.github.io/opencv/2019/10/23/OpenCV(4).html\">임계값과 히스토그램 처리</a><br>"
   ]
  },
  {
   "cell_type": "markdown",
   "metadata": {},
   "source": [
    "#### 필요한 라이브러리 임포트"
   ]
  },
  {
   "cell_type": "code",
   "execution_count": 1,
   "metadata": {},
   "outputs": [],
   "source": [
    "import cv2\n",
    "import numpy as np\n",
    "import matplotlib.pyplot as plt\n",
    "import ipywidgets as widgets \n",
    "import IPython.display as display\n",
    "from ipywidgets import Layout, Button, Box, Layout, Image, IntSlider, AppLayout"
   ]
  },
  {
   "cell_type": "markdown",
   "metadata": {},
   "source": [
    "#### 필요한 데이터 생성1"
   ]
  },
  {
   "cell_type": "code",
   "execution_count": 2,
   "metadata": {},
   "outputs": [
    {
     "data": {
      "image/png": "[encoded data removed]",
      "text/plain": [
       "<Figure size 1440x288 with 2 Axes>"
      ]
     },
     "metadata": {
      "needs_background": "light"
     },
     "output_type": "display_data"
    },
    {
     "data": {
      "text/plain": [
       "True"
      ]
     },
     "execution_count": 2,
     "metadata": {},
     "output_type": "execute_result"
    }
   ],
   "source": [
    "def plot(img):\n",
    "    plt.axis('off')\n",
    "    plt.imshow(img)\n",
    "    plt.show()\n",
    "    \n",
    "img = np.zeros((512,512,3),dtype=np.int32)+255\n",
    "img2 = np.zeros((512,512,3),dtype=np.int32)+255\n",
    "\n",
    "pt1 = 100,200\n",
    "pt2 = 150,250\n",
    "pt3 = 256,256\n",
    "pt4 = 400,250\n",
    "pt5 = 400,30\n",
    "pt6 = 80,400\n",
    "\n",
    "cv2.circle(img,pt1,radius=30,color=(0,0,0),thickness=-1)\n",
    "cv2.circle(img,pt2,radius=30,color=(0,0,0),thickness=-1)\n",
    "cv2.circle(img,pt3,radius=50,color=(0,0,0),thickness=-1)\n",
    "cv2.circle(img,pt4,radius=60,color=(0,0,0),thickness=-1)\n",
    "cv2.circle(img,pt5,radius=30,color=(0,0,0),thickness=-1)\n",
    "cv2.circle(img,pt6,radius=60,color=(0,0,0),thickness=-1)\n",
    "\n",
    "cv2.circle(img2,pt1,radius=30,color=(0,0,0),thickness=-1)\n",
    "cv2.circle(img2,pt2,radius=30,color=(0,0,0),thickness=-1)\n",
    "cv2.circle(img2,pt6,radius=60,color=(0,0,0),thickness=-1)\n",
    "\n",
    "plt.figure(figsize=(20,4))\n",
    "imgae1=plt.subplot(1,2,1)\n",
    "imgae1.set_title('circles.jpg')\n",
    "plt.axis('off')\n",
    "plt.imshow(img, cmap=\"gray\")\n",
    "\n",
    "imgae2=plt.subplot(1,2,2)\n",
    "imgae2.set_title('circles2.jpg')\n",
    "plt.axis('off')\n",
    "plt.imshow(img2, cmap=\"gray\")\n",
    "\n",
    "plt.show()\n",
    "\n",
    "cv2.imwrite('./data/circle.jpg',img)\n",
    "cv2.imwrite('./data/circle2.jpg',img2)"
   ]
  },
  {
   "cell_type": "markdown",
   "metadata": {},
   "source": [
    "#### 필요한 데이터 생성2"
   ]
  },
  {
   "cell_type": "code",
   "execution_count": 3,
   "metadata": {},
   "outputs": [
    {
     "data": {
      "text/plain": [
       "True"
      ]
     },
     "execution_count": 3,
     "metadata": {},
     "output_type": "execute_result"
    },
    {
     "data": {
      "image/png": "[encoded data removed]",
      "text/plain": [
       "<Figure size 1440x288 with 1 Axes>"
      ]
     },
     "metadata": {
      "needs_background": "light"
     },
     "output_type": "display_data"
    }
   ],
   "source": [
    "def plot(img):\n",
    "    plt.axis('off')\n",
    "    plt.imshow(img)\n",
    "    plt.show()\n",
    "    \n",
    "img = np.zeros((512,512,3),dtype=np.uint8)\n",
    "\n",
    "cv2.rectangle(img,(50,100),(450,400),(255,255,255),-1)\n",
    "cv2.rectangle(img,(100,150),(400,350),(0,0,0),-1)\n",
    "cv2.rectangle(img,(200,200),(300,300),(255,255,255),-1)\n",
    "\n",
    "plt.figure(figsize=(20,4))\n",
    "plt.title('rectangle2.jpg')\n",
    "plt.axis('off')\n",
    "plt.imshow(img)\n",
    "\n",
    "cv2.imwrite('./data/rectangle2.jpg',img)"
   ]
  },
  {
   "cell_type": "markdown",
   "metadata": {},
   "source": [
    "### Hough 변환에 의한 직선, 원 검출\n",
    "\n",
    "**사전지식(극좌표)**  \n",
    "Hough변환을 이해하기 위해서 Hough변환에 기초인 극좌표계를 이해해야한다.  \n",
    "<img alt=\"\" src=\"//upload.wikimedia.org/wikipedia/commons/thumb/7/78/Polar_to_cartesian.svg/230px-Polar_to_cartesian.svg.png\" decoding=\"async\" width=\"230\" height=\"228\" class=\"thumbimage\" srcset=\"//upload.wikimedia.org/wikipedia/commons/thumb/7/78/Polar_to_cartesian.svg/345px-Polar_to_cartesian.svg.png 1.5x, //upload.wikimedia.org/wikipedia/commons/thumb/7/78/Polar_to_cartesian.svg/460px-Polar_to_cartesian.svg.png 2x\" data-file-width=\"429\" data-file-height=\"425\"><br>\n",
    "사진 출처:<a href=\"https://ko.wikipedia.org/wiki/%EA%B7%B9%EC%A2%8C%ED%91%9C%EA%B3%84\">위키피디아</a><br>\n",
    "위와 같은 직선이 존재할 때 일반적인 직선은 다음과 같이 표현될 수 있다.  \n",
    "<p>$$y=mx$$</p>\n",
    "위와 같은 직선을 r((0,0) ~ (x,y)까지의 거리),<span>$\\theta$</span>(각도)로서 표현하는 것이 극좌표 계이다.  \n",
    "아래 식으로서 극좌표계로 표현하는 식을 알아보자.  \n",
    "<p>$$sin(\\theta) = \\frac{y}{r}, cos(\\theta) = \\frac{x}{r}$$</p>\n",
    "<p>$$r^2 = x^2 + y^2$$</p>\n",
    "<p>$$r^2 = xcos(\\theta)r + ysin(\\theta)r$$</p>\n",
    "<p>$$r = xcos(\\theta) + ysin(\\theta)$$</p>\n",
    "위와 같은 식으로서 r,<span>$\\theta$</span>로서 표현하게 되면 한 점(x,y)를 지나는 모든 직선을 구할수 있다.  \n",
    "<br>\n",
    "\n",
    "**Hough 변환**  \n",
    "Hough변환은 (x,y)좌표공간의 픽셀들을 (r,<span>$\\theta$</span>)매개변수 공간에서 곡선의 형태로 나타난다.  \n",
    "또한 (x,y)좌표공간에서 같은 직선상에 존재하는 픽셀들의 경우 (r,<span>$\\theta$</span>)매개변수 공간에서 교점을 가지게 된다.  \n",
    "**Hough변환 기법은 이러한 특징을 이용하여 영상의 특징 픽셀들을 (x,y)좌표 공간에서 (r,<span>$\\theta$</span>)의 극좌표로 나타내어 mapping 시킨 후 보팅 과정을 통해 교점을 찾아 직선 성분을 추출하는 기법이다.**  \n",
    "\n",
    "위의 Hough변환의 설명으로는 이해하기 힘드므로 아래 사진을 참조하자.  \n",
    "아래 사진은 일직선상에있는 3개의 점에 대하여 극좌표를 시각적으로 나타낸 사진이다.  \n",
    "<img src=\"https://raw.githubusercontent.com/wjddyd66/wjddyd66.github.io/master/static/img/OpenCV/66.PNG\" height=\"100%\" width=\"100%\" />\n",
    "사진 출처:<a href=\"https://opencv-python.readthedocs.io/en/latest/doc/25.imageHoughLineTransform/imageHoughLineTransform.html\">gramman 블로그</a><br>\n",
    "위의 사진의 결과를 아래처럼 (r,<span>$\\theta$</span>)에서 mapping하게되면 sin 그래프로서 나타낼 수 있는 것을 알 수 있다.  \n",
    "<p>$$asinx + bcosx = \\sqrt{a^2+b^2}sin(x+\\theta)$$</p>\n",
    "<p>$$sin(\\theta) = \\frac{b}{\\sqrt{a^2+b^2}}, cos(\\theta) = \\frac{a}{\\sqrt{a^2+b^2}}$$</p>\n",
    "위의 과정으로 sin형태로 그래프가 나온다는 것을 예상할 수 있고 실제로 그려보면 아래 사진과 같이 출력되게 된다.  \n",
    "<img src=\"https://raw.githubusercontent.com/wjddyd66/wjddyd66.github.io/master/static/img/OpenCV/67.PNG\" height=\"100%\" width=\"100%\" />\n",
    "사진 출처:<a href=\"https://opencv-python.readthedocs.io/en/latest/doc/25.imageHoughLineTransform/imageHoughLineTransform.html\">gramman 블로그</a><br>\n",
    "위와같이 곡선에서 중요하게 생각해야 하는것은 교점이 생겼다는 것 이다.  \n",
    "그래프에서 교점이 생겼다는 것은 다음과 같이 생각할 수 있다.  \n",
    "예를들어 다음과 같은 직선 2개가 존재한다고 생각하자.  \n",
    "<p>$$r_1 = x_1cos(\\theta_1) + y_1sin(\\theta_1)$$</p>\n",
    "<p>$$r_2 = x_2cos(\\theta_2) + y_2sin(\\theta_2)$$</p>\n",
    "\n",
    "두개의 곡선을 극좌표계로 Mapping하였을때의 **교점은 (<span>$(x_1,y_1)$</span>)을 지나는 직선들중 하나의 직선과 (<span>$(x_2,y_2)$</span>)지나는 직선들 중 하나의 직선이 같아졌다는 것을 의미한다.**  \n",
    "즉, (<span>$(x_1,y_1)$</span>)과 (<span>$(x_2,y_2)$</span>)는 하나의 같은 점선 위에 있다는 것을 알 수 있다. \n",
    "이러한 방식을 통하여 **Hough 변환은 교점을 찾아 직선 성분을 추출할 수 있다.**  \n",
    "**이러한 직선은 Edge, blur와 같이 Image에서 주요한 Feature로서 사용될 수 있기 때문에 주요한 특성이다.**  \n",
    "참조:<a href=\"https://iskim3068.tistory.com/28\">iskim3068 블로그</a><br><br>\n",
    "**OpenCV를 통한 Hough변환**  \n",
    "<code>cv2.HoughLines(image, rho, theta, threshold[, lines[, srn[, stn[, min_theta[, max_theta]]]]])</code>: Hough변환을 통하여 직선을 검출<br>\n",
    "**parameter**\n",
    "- image: input(canny edge선 적용 후)\n",
    "- rho: r값의 범위(0~1 실수)\n",
    "- theata: <span>$\\theta$</span>값의 범위(0~180 정수)\n",
    "- threshold: 만나는 점의 기준, 숫자가 적으면 많은 선이 검출되지만 정확도가 떨어지고, 숫자가 크면 정확도가 올라감\n",
    "\n",
    "<br>\n",
    "<code>cv2.HoughLinesP(image, rho, theta, threshold, minLineLength, maxLineGap)</code>: <code>cv2.HoughLines</code>는 모든 점에 대해서 계산하므로 시간이 오래걸린다. 따라서 모든 점을 대상으로 하는 것이 아니라 임의의 점을 이용하여 직선을 찾는 방법이다. 단, 임계값을 작게 하여야 한다. \n",
    "<b>선의 시작점과 끝점을 Return해주기 때문에 쉽게 화면에 표현할 수 있다.</b>\n",
    "<br>\n",
    "\n",
    "**parameter**\n",
    "- image: input(canny edge선 적용 후)\n",
    "- rho: r값의 범위(0~1 실수)\n",
    "- theata: <span>$\\theta$</span>값의 범위(0~180 정수)\n",
    "- threshold: 만나는 점의 기준, 숫자가 적으면 많은 선이 검출되지만 정확도가 떨어지고, 숫자가 크면 정확도가 올라감\n",
    "- minLineLength: 선의 최소 길이\n",
    "- maxLineGap: 선과 선사이의 최대 허용간격\n",
    "\n",
    "<br>\n",
    "\n",
    "<code>cv2.HoughCircles(image, method, dp, minDist[, circles[, param1[, param2[, minRadius[, maxRadius]]]]])</code><br>\n",
    "<p>$$(x-x_{center})^2 + (y-y_{center})^2 = r^2$$</p>\n",
    "3개의 변수에 대하여 계산하는 것은 비효율적이므로 가장자리에서 기울기를 측정하여 원을 그리는데 관련이 있는 점인지를 확인할 수 있는 Hough Gradient Method를 사용<br>\n",
    "\n",
    "**parameter**\n",
    "- image: input(canny edge선 적용 후)\n",
    "- method: 검출방법, ex)HOUGH_GRADIENT\n",
    "- dp: 해상도\n",
    "- minDist: 검출한 원의 중심과의 최소거리. 값이 작으면 원이 아닌 것들도 검출이 되고, 너무 크면 원을 놓칠 수 있음\n",
    "- param1: 내부적으로 사용하는 canny edge 검출기에 전달되는 Paramter\n",
    "- param2: 이 값이 작을 수록 오류가 높아짐. 크면 검출률이 낮아짐.\n",
    "- minRadius: 원의 최소 반지름.\n",
    "- maxRadius: 원의 최대 반지름.\n",
    "\n",
    "<br>\n",
    "\n",
    "**참고사항(Hough Circle Transform)**: <a href=\"http://www.navisphere.net/2172/hough-circle-transform/\">navisphere 블로그</a><br>\n",
    "\n",
    "#### 직선검출: cv2.HoughLines(), cv2.HoughLinesP()"
   ]
  },
  {
   "cell_type": "code",
   "execution_count": 22,
   "metadata": {},
   "outputs": [
    {
     "data": {
      "application/vnd.jupyter.widget-view+json": {
       "model_id": "14b96a05f6ce4cc393d567347b9e4417",
       "version_major": 2,
       "version_minor": 0
      },
      "text/plain": [
       "Box(children=(Image(value=b'', layout=\"Layout(border='solid')\", width='20%'), Image(value=b'', layout=\"Layout(…"
      ]
     },
     "metadata": {},
     "output_type": "display_data"
    },
    {
     "name": "stdout",
     "output_type": "stream",
     "text": [
      "HoughLines lines.shape= (4, 1, 2)\n",
      "HoughLinesP lines.shape= (4, 1, 4)\n"
     ]
    }
   ],
   "source": [
    "def layout(header, left, right):\n",
    "    layout = AppLayout(header=header,\n",
    "          left_sidebar=left,\n",
    "          center=None,\n",
    "          right_sidebar=right)\n",
    "    return layout\n",
    "\n",
    "wImg_original = Image(layout = Layout(border=\"solid\"), width=\"20%\")\n",
    "wImg_Edges = Image(layout = Layout(border=\"solid\"), width=\"20%\")\n",
    "wImg_Lines = Image(layout = Layout(border=\"solid\"), width=\"20%\")\n",
    "wImg_Lines2 = Image(layout = Layout(border=\"solid\"), width=\"20%\")\n",
    "\n",
    "items = [wImg_original,wImg_Edges,wImg_Lines,wImg_Lines2]\n",
    "wImg=Box(items)\n",
    "\n",
    "display.display(wImg)\n",
    "\n",
    "src = cv2.imread('./data/rectangle.jpg')\n",
    "src2 = src.copy()\n",
    "gray = cv2.cvtColor(src,cv2.COLOR_BGR2GRAY)\n",
    "edges = cv2.Canny(src,0,200)\n",
    "lines = cv2.HoughLines(edges,rho=1,theta=np.pi/180.0,threshold=100)\n",
    "lines2 = cv2.HoughLinesP(edges,rho=1,theta=np.pi/180.0,threshold=100)\n",
    "\n",
    "print('HoughLines lines.shape=',lines.shape)\n",
    "print('HoughLinesP lines.shape=',lines2.shape)\n",
    "\n",
    "for line in lines:\n",
    "    rho,theta = line[0]\n",
    "    c = np.cos(theta)\n",
    "    s = np.sin(theta)\n",
    "    x0 = c*rho\n",
    "    y0 = s*rho\n",
    "    x1 = int(x0+1000*(s))\n",
    "    y1 = int(y0+1000*(c))\n",
    "    x2 = int(x0-1000*(s))\n",
    "    y2 = int(y0-1000*(c))\n",
    "    cv2.line(src,(x1,y1),(x2,y2),(0,0,255),2)\n",
    "    \n",
    "tmpStream = cv2.imencode(\".jpeg\", gray)[1].tostring()\n",
    "wImg_original.value = tmpStream\n",
    "\n",
    "tmpStream = cv2.imencode(\".jpeg\", edges)[1].tostring()\n",
    "wImg_Edges.value = tmpStream\n",
    "\n",
    "tmpStream = cv2.imencode(\".jpeg\", src)[1].tostring()\n",
    "wImg_Lines.value = tmpStream\n",
    "\n",
    "for line in lines2:\n",
    "    x1,y1,x2,y2 = line[0]\n",
    "    cv2.line(src2,(x1,y1),(x2,y2),(0,0,255),10)\n",
    "    \n",
    "tmpStream = cv2.imencode(\".jpeg\", src2)[1].tostring()\n",
    "wImg_Lines2.value = tmpStream"
   ]
  },
  {
   "cell_type": "markdown",
   "metadata": {},
   "source": [
    "#### 원 검출: cv2.HoughCircles()"
   ]
  },
  {
   "cell_type": "code",
   "execution_count": 24,
   "metadata": {},
   "outputs": [
    {
     "name": "stdout",
     "output_type": "stream",
     "text": [
      "circle1.shape=  (1, 3, 3)\n",
      "circle2.shape=  (1, 3, 3)\n"
     ]
    },
    {
     "data": {
      "image/png": "[encoded data removed]",
      "text/plain": [
       "<Figure size 1440x288 with 2 Axes>"
      ]
     },
     "metadata": {
      "needs_background": "light"
     },
     "output_type": "display_data"
    }
   ],
   "source": [
    "src1 = cv2.imread('./data/circle.jpg')\n",
    "gray1 = cv2.cvtColor(src1,cv2.COLOR_BGR2GRAY)\n",
    "circle1 = cv2.HoughCircles(gray1,method=cv2.HOUGH_GRADIENT,dp=1,minDist=50,param2=15,minRadius=40,maxRadius=100)\n",
    "print('circle1.shape= ',circle1.shape)\n",
    "for circle in circle1[0,:]:\n",
    "    cx,cy,r = circle\n",
    "    cv2.circle(src1,(cx,cy),r,(0,0,255),2)\n",
    "\n",
    "src2 = cv2.imread('./data/circle2.jpg')\n",
    "gray2 = cv2.cvtColor(src2,cv2.COLOR_BGR2GRAY)\n",
    "circle2 = cv2.HoughCircles(gray2,method=cv2.HOUGH_GRADIENT,dp=1,minDist=50,param2=15)\n",
    "print('circle2.shape= ',circle2.shape)\n",
    "for circle in circle2[0,:]:\n",
    "    cx,cy,r = circle\n",
    "    cv2.circle(src2,(cx,cy),r,(0,0,255),10)\n",
    "\n",
    "plt.figure(figsize=(20,4))\n",
    "imgae1=plt.subplot(1,2,1)\n",
    "imgae1.set_title('circles.jpg')\n",
    "plt.axis('off')\n",
    "plt.imshow(src1, cmap=\"gray\")\n",
    "\n",
    "imgae2=plt.subplot(1,2,2)\n",
    "imgae2.set_title('circles2.jpg')\n",
    "plt.axis('off')\n",
    "plt.imshow(src2, cmap=\"gray\")\n",
    "\n",
    "plt.show()"
   ]
  },
  {
   "cell_type": "markdown",
   "metadata": {},
   "source": [
    "### 컬러 범위에 의한 영역 분할\n",
    "<code>cv2.inRange(src,lowerb,upperb[,dst])</code>: loweb ~ upperb 범위의 컬러 영역을 분할할 수 있다. Color -> HSV 색상으로 변환 후에, 색상 범위를 지정하여 손, 얼굴 등의 피부 검출등을 분할할 때 유용한다.<br>\n",
    "**parameter**\n",
    "- src: input\n",
    "- lowerb: 최소값\n",
    "- upperb: 최대값\n"
   ]
  },
  {
   "cell_type": "code",
   "execution_count": 37,
   "metadata": {},
   "outputs": [
    {
     "data": {
      "image/png": "[encoded data removed]",
      "text/plain": [
       "<Figure size 1440x288 with 2 Axes>"
      ]
     },
     "metadata": {
      "needs_background": "light"
     },
     "output_type": "display_data"
    }
   ],
   "source": [
    "src = cv2.imread('./data/hand.jpg')\n",
    "hsv = cv2.cvtColor(src,cv2.COLOR_BGR2HSV)\n",
    "lower = (0,30,0)\n",
    "upper = (150,200,255)\n",
    "dst = cv2.inRange(hsv,lower,upper)\n",
    "\n",
    "src = cv2.cvtColor(src,cv2.COLOR_BGR2RGB)\n",
    "plt.figure(figsize=(20,4))\n",
    "imgae1=plt.subplot(1,2,1)\n",
    "imgae1.set_title('Original')\n",
    "plt.axis('off')\n",
    "plt.imshow(src)\n",
    "\n",
    "imgae2=plt.subplot(1,2,2)\n",
    "imgae2.set_title('Detect Hand')\n",
    "plt.axis('off')\n",
    "plt.imshow(dst, cmap=\"gray\")\n",
    "\n",
    "plt.show()"
   ]
  },
  {
   "cell_type": "markdown",
   "metadata": {},
   "source": [
    "### 윤각선 검출 및 그리기\n",
    "**컨투어(contour)**란 동일한 색 또는 동일한 픽셀값(강도, itensity)을 가지고 있는 영역의 경계선 정보이다.  \n",
    "<code>cv2.findContours(image,mode,method[,contours[,hierarchy[,offset]]])</code>: image의 countour를 반환한다.  \n",
    "**parameter**\n",
    "- image: 흑백이미지 또는 이진화된 이미지\n",
    "- mode: 컨투어를 찾는 방법\n",
    " - cv2.RETR_EXTERNAL: 가장 외각의 윤각선만 찾는다\n",
    " - cv2.RETR_LIST: 모든 윤각선을 찾는다. 계층관계를 설정하지 않는다.\n",
    " - cv2.RETR_CCOMP: 2레벨 계층 구조로 모든 윤각선을 찾는다.\n",
    " - cv2.RETR_TREE: 모든 윤각선을 계층적 트리 형태로 찾는다.\n",
    "- method: 컨투어를 찾을 때 사용하는 근사화 방법\n",
    " - cv2.CHAIN_APPROX_NONE: 체인 코드로 표현된 윤각선의 모든 좌표를 반환한다.\n",
    " - cv2.CHAIN_APPROX_SIMPLE: 윤각선의 다각형 근사 좌표를 변환한다.\n",
    " - cv2.CHAIN_APPROX_TC89_L1: Teh-Chin의 체인 코드 알고리즘으로 근사화 한다.\n",
    " - cv2.CHAIN_APPROX_RC89_KCOS: 위와 같음\n",
    "  \n",
    "<br>\n",
    "<code>cv2.drawContours(image,contours,contourldx,color[,thickness[,lineType[,hierarcht[,maxLevel[,offset]]]]])</code>: 컨투어 정보에서 비트맵 이미지 생성  \n",
    " \n",
    "**parameter**\n",
    "- image: 원본 이미지\n",
    "- contours: 컨투어 라인 정보\n",
    "- contourldx: 컨투어 라인 번호\n",
    "- color: 색상\n",
    "\n",
    "<br>\n",
    "\n",
    "**참고사항**  \n",
    "현재 Window와 Linux환경에서 번갈아가면서 작업하고 있다.  \n",
    "OpenCV의 version은 4.1.1로 동일하나 <code>cv.findContours</code>가 반환하는 인자의 개수가 다르다.  \n",
    "- Window: image,contours,hierarchy\n",
    "- Linux: contours,hierarchy\n",
    "\n",
    "함수 사용시 Error가 발생하게 되면 Return 인자의 개수를 변형해보는 것이 가장먼저 확인해야 하는 작업이다.\n",
    "\n",
    "#### 윤각선 검출 및 그리기\n",
    "- mode: cv2.RETR_EXTERNAL, cv2.RETR_LIST\n",
    "- method: cv2.CHAIN_APPROX_SIMPLE\n",
    "\n",
    "현재 method로서 <code>cv2.CHAIN_APPROX_SIMPLE</code>을 사용하여 윤각선의 다각형 근사 좌표를 반환하도록 하였다.  \n",
    "이런 이유로 정확한 좌표의 위치가 아닌 원하는 좌표에서 -10 ~ +10차이의 오차를 보이는 많은 점이 반환되었다.  \n",
    "따라서 **delete_duplicated_contours**를 통하여 근사한 위치에 존재하는 점을 하나로 통일하는 과정을 거친 뒤 결과를 출력하였다."
   ]
  },
  {
   "cell_type": "code",
   "execution_count": 38,
   "metadata": {},
   "outputs": [
    {
     "name": "stdout",
     "output_type": "stream",
     "text": [
      "contours1\n",
      "type(contorous)= <class 'list'>\n",
      "type(contorous[0])= <class 'numpy.ndarray'>\n",
      "len(contours)= 10\n",
      "contours[0].shape= (1, 1, 2)\n",
      "contours[0]= [[[ 48 405]]]\n",
      "--------------------\n",
      "contours2\n",
      "type(contorous2)= <class 'list'>\n",
      "type(contorous2[0])= <class 'numpy.ndarray'>\n",
      "len(contours2)= 20\n",
      "contours2[0].shape= (1, 1, 2)\n",
      "contours2[0]= [[[ 48 405]]]\n"
     ]
    },
    {
     "data": {
      "text/plain": [
       "<matplotlib.image.AxesImage at 0x7ff6a85768d0>"
      ]
     },
     "execution_count": 38,
     "metadata": {},
     "output_type": "execute_result"
    },
    {
     "data": {
      "image/png": "[encoded data removed]",
      "text/plain": [
       "<Figure size 1440x288 with 4 Axes>"
      ]
     },
     "metadata": {
      "needs_background": "light"
     },
     "output_type": "display_data"
    }
   ],
   "source": [
    "src = cv2.imread('./data/rectangle2.jpg')\n",
    "src2 = np.copy(src)\n",
    "src3 = np.copy(src)\n",
    "src4 = np.copy(src)\n",
    "\n",
    "gray = cv2.cvtColor(src,cv2.COLOR_BGR2GRAY)\n",
    "\n",
    "mode = cv2.RETR_EXTERNAL\n",
    "mode2 = cv2.RETR_LIST\n",
    "method = cv2.CHAIN_APPROX_SIMPLE\n",
    "\n",
    "contours, hierachy = cv2.findContours(gray,mode,method)\n",
    "contours2, hierachy2 = cv2.findContours(gray,mode2,method)\n",
    "\n",
    "print('contours1')\n",
    "print('type(contorous)=',type(contours))\n",
    "print('type(contorous[0])=',type(contours[0]))\n",
    "print('len(contours)=',len(contours))\n",
    "print('contours[0].shape=',contours[0].shape)\n",
    "print('contours[0]=',contours[0])\n",
    "print('-'*20)\n",
    "print('contours2')\n",
    "print('type(contorous2)=',type(contours2))\n",
    "print('type(contorous2[0])=',type(contours2[0]))\n",
    "print('len(contours2)=',len(contours2))\n",
    "print('contours2[0].shape=',contours2[0].shape)\n",
    "print('contours2[0]=',contours2[0])\n",
    "\n",
    "def delete_duplicated_contours(contours):\n",
    "    pt_array=[]\n",
    "    for c in contours:\n",
    "        for pt in range(0,len(c)):\n",
    "            b = True\n",
    "            for pt_arr in pt_array:\n",
    "                if((pt_arr[0]>c[pt][0][0] - 10 and c[pt][0][0] + 10 > pt_arr[0]) and (pt_arr[1]>c[pt][0][1] - 10 and c[pt][0][1] + 10 > pt_arr[1])):\n",
    "                    b = False\n",
    "            if(b):\n",
    "                pt_array.append(c[pt][0])\n",
    "    return pt_array\n",
    "\n",
    "pt_array1=delete_duplicated_contours(contours)\n",
    "pt_array2=delete_duplicated_contours(contours2)\n",
    "\n",
    "cv2.drawContours(src,contours,-1,(255,0,0),3)\n",
    "cv2.drawContours(src3,contours2,-1,(255,0,0),3)\n",
    "\n",
    "for pt in pt_array1:\n",
    "    cv2.circle(src2,(pt[0],pt[1]),5,(0,0,255),-1)\n",
    "\n",
    "for pt in pt_array2:\n",
    "    cv2.circle(src4,(pt[0],pt[1]),5,(0,0,255),-1)\n",
    "    \n",
    "plt.figure(figsize=(20,4))\n",
    "\n",
    "imgae1=plt.subplot(1,4,1)\n",
    "imgae1.set_title('cortous(mode = cv2.RETR_EXTERNAL)')\n",
    "plt.axis('off')\n",
    "plt.imshow(src)\n",
    "\n",
    "imgae2=plt.subplot(1,4,2)\n",
    "imgae2.set_title('Point of cortous')\n",
    "plt.axis('off')\n",
    "plt.imshow(src2)\n",
    "\n",
    "imgae1=plt.subplot(1,4,3)\n",
    "imgae1.set_title('cortous(mode = cv2.RETR_LIST)')\n",
    "plt.axis('off')\n",
    "plt.imshow(src3)\n",
    "\n",
    "imgae2=plt.subplot(1,4,4)\n",
    "imgae2.set_title('Point of cortous')\n",
    "plt.axis('off')\n",
    "plt.imshow(src4)"
   ]
  },
  {
   "cell_type": "markdown",
   "metadata": {},
   "source": [
    "### 영역 채우기, 인페인트, 거리계산, 워터쉐드\n",
    "\n",
    "#### cv2.floodFill()영역 채우기\n",
    "<code>cv2.floodFill(image, mask, seedPoint, newVal[, loDiff[, upDiff[, flags]]])</code>: Starting Point 으로부터 Edge까지 지정한 Pixel값 채우기<br>\n",
    "**parameter**\n",
    "- image: Input\n",
    "- mask: a single-channel 8-bit image, 2 pixels wider and 2 pixels taller than image. \n",
    "- seedPoint: starting Point\n",
    "- newVal: 안을 채울 새로운 Pixel 값\n",
    "- loDiff: 현재 Pixel과의 차이의 최소값\n",
    "- upDiff: 현재 Pixel과의 차이의 최대값\n",
    "- flag\n",
    " - Link4: 이웃한 4 픽셀을 고려한다.\n",
    " - Link8: 이웃한 8픽셀을 고려한다.\n",
    " - FixedRange: 시드 픽셀간의 차이를 고려한다.\n",
    " - MaskOnly: 이미지를 변경하지 않고, 마스크를 채운다.\n",
    "\n",
    "<br>\n",
    "\n",
    "**return**\n",
    "- mask: 지정한 조건으로 이미지를 채운값\n",
    "- rect: mask의 바운딩 사각형\n",
    "\n",
    "<br>\n",
    "\n",
    "**식**  \n",
    "<p>$$src(x^{\\prime},y^{\\prime}) - loDiff \\leq src(x,y) \\leq src(x^{\\prime},y^{\\prime}) + upDiff$$</p>"
   ]
  },
  {
   "cell_type": "code",
   "execution_count": 40,
   "metadata": {},
   "outputs": [
    {
     "name": "stdout",
     "output_type": "stream",
     "text": [
      "rect= (202, 202, 197, 197)\n",
      "30519\n"
     ]
    },
    {
     "data": {
      "image/png": "[encoded data removed]",
      "text/plain": [
       "<Figure size 1440x288 with 2 Axes>"
      ]
     },
     "metadata": {
      "needs_background": "light"
     },
     "output_type": "display_data"
    }
   ],
   "source": [
    "src = np.zeros((512,512,3),dtype=np.uint8)\n",
    "\n",
    "cv2.rectangle(src,(50,50),(200,200),(0,0,255),2)\n",
    "cv2.circle(src,(300,300),100,(0,0,255),2)\n",
    "\n",
    "dst = src.copy()\n",
    "cv2.floodFill(dst,mask=None,seedPoint=(100,100),newVal=(255,0,0))\n",
    "\n",
    "retval,dst2,mask,rect = cv2.floodFill(dst,mask=None,seedPoint=(300,300),newVal=(0,255,0))\n",
    "\n",
    "print('rect=',rect)\n",
    "x,y,width,height = rect\n",
    "cv2.rectangle(dst2,(x,y),(x+width,y+height),(255,0,0),2)\n",
    "\n",
    "plt.figure(figsize=(20,4))\n",
    "\n",
    "imgae1=plt.subplot(1,3,1)\n",
    "imgae1.set_title('Original')\n",
    "plt.axis('off')\n",
    "plt.imshow(src)\n",
    "\n",
    "imgae2=plt.subplot(1,3,2)\n",
    "imgae2.set_title('floodFill')\n",
    "plt.axis('off')\n",
    "plt.imshow(dst)\n",
    "\n",
    "print(retval)"
   ]
  },
  {
   "cell_type": "markdown",
   "metadata": {},
   "source": [
    "#### cv2.distancdTransform() 거리계산\n",
    "<code>cv2.distanceTransform(src, distanceType, maskSize[, dst])</code>: 0이 아닌 화소에서 가장 가까운 0인 화소까지의 거리를 계산<br>\n",
    "**parameter**\n",
    "- src: Input\n",
    "- distanceType: 거리계산 방식\n",
    " - CV_DIST_L1\n",
    " - CV_DIST_L2\n",
    " - CV_DIST_C\n",
    "\n",
    "<br>\n",
    "\n",
    "위의 <code>cv2.distanceTransform()</code>을 그림으로 살펴보면 아래와 같다.  \n",
    "<img src=\"https://lh3.googleusercontent.com/5ZBvG6M9livaoJmPFcxxLnh2QzS4Won3b8HcOhRen9nh1xiibQf5HjPlvitKzHH4ASl9QL3nSek63PaD3Ht_CzhmbYLg5W0mJ6Kurk8BCgOXIm-nt2KhpLLSjJ35yKlEirEXwH7P\" width=\"328\" height=\"245\" style=\"border: none; transform: rotate(0.00rad); -webkit-transform: rotate(0.00rad);\"><br>\n",
    "<img src=\"https://lh4.googleusercontent.com/Bosdcs2zgSbxQUW4zXkmI66oFXIm_VmcdDFSSaPJlXrU506BcKYGh3qxdzMEHboJwTcTyUSWzjdTVOBckLuldDohAix9y8P2c-1ieYA_ksW8dYZCNQoFVWHjux2g5_Dd-fp_nSo6\" width=\"407\" height=\"243\" style=\"border: none; transform: rotate(0.00rad); -webkit-transform: rotate(0.00rad);\"><br>\n",
    "사진 출처:<a href=\"https://webnautes.tistory.com/1280\">webnautes 블로그</a><br>\n",
    "아래의 결과는 왼쪽순서대로 다음과 같다.\n",
    "- src: 원본 사진\n",
    "- dist: <code>cv2.distanceTransform()</code>결과\n",
    "- dst: dist를 Normalization을 통해 선명하게 출력\n",
    "- dst2: <code>cv2.threshold()</code>을 통하여 최대값만 출력\n",
    "- dst3: dist의 edge출력 후 threshold를 통하여 최대값만 출력\n"
   ]
  },
  {
   "cell_type": "code",
   "execution_count": 47,
   "metadata": {},
   "outputs": [
    {
     "name": "stdout",
     "output_type": "stream",
     "text": [
      "src: 0.0 51.0 (0, 0) (100, 250)\n",
      "src: 0.0 8.0 (0, 0) (52, 200)\n"
     ]
    },
    {
     "data": {
      "application/vnd.jupyter.widget-view+json": {
       "model_id": "d2837cb2beaa4a3fae868cfec0765f14",
       "version_major": 2,
       "version_minor": 0
      },
      "text/plain": [
       "Box(children=(Image(value=b'', layout=\"Layout(border='solid')\", width='20%'), Image(value=b'', layout=\"Layout(…"
      ]
     },
     "metadata": {},
     "output_type": "display_data"
    },
    {
     "data": {
      "text/plain": [
       "<Figure size 1440x288 with 0 Axes>"
      ]
     },
     "metadata": {},
     "output_type": "display_data"
    }
   ],
   "source": [
    "src = np.zeros((512,512),dtype=np.uint8)\n",
    "\n",
    "cv2.rectangle(src,(50,200),(450,300),(255,255,255),-1)\n",
    "\n",
    "dist = cv2.distanceTransform(src,distanceType=cv2.DIST_L1,maskSize=3)\n",
    "minVal,maxVal,minLoc,maxLoc = cv2.minMaxLoc(dist)\n",
    "print('src:',minVal,maxVal,minLoc,maxLoc)\n",
    "\n",
    "dst = cv2.normalize(dist,None,0,255,cv2.NORM_MINMAX,dtype=cv2.CV_8U)\n",
    "ret,dst2 = cv2.threshold(dist,maxVal-1,255,cv2.THRESH_BINARY)\n",
    "\n",
    "gx = cv2.Sobel(dist,cv2.CV_32F,1,0,ksize=3)\n",
    "gy = cv2.Sobel(dist,cv2.CV_32F,0,1,ksize=3)\n",
    "mag = cv2.magnitude(gx,gy)\n",
    "\n",
    "plt.figure(figsize=(20,4))\n",
    "minVal,maxVal,minLoc,maxLoc = cv2.minMaxLoc(mag)\n",
    "print('src:',minVal,maxVal,minLoc,maxLoc)\n",
    "ret,dst3 = cv2.threshold(mag,maxVal-1,255,cv2.THRESH_BINARY_INV)\n",
    "\n",
    "wImg_src = Image(layout = Layout(border=\"solid\"), width=\"20%\")\n",
    "wImg_dst = Image(layout = Layout(border=\"solid\"), width=\"20%\")\n",
    "wImg_dst2 = Image(layout = Layout(border=\"solid\"), width=\"20%\")\n",
    "wImg_dst3 = Image(layout = Layout(border=\"solid\"), width=\"20%\")\n",
    "wImg_dst4 = Image(layout = Layout(border=\"solid\"), width=\"20%\")\n",
    "\n",
    "items = [wImg_src,wImg_dst,wImg_dst2,wImg_dst3,wImg_dst4]\n",
    "box = Box(items)\n",
    "display.display(box)\n",
    "\n",
    "tmpStream = cv2.imencode(\".jpeg\", src)[1].tostring()\n",
    "wImg_src.value = tmpStream\n",
    "tmpStream = cv2.imencode(\".jpeg\", dist)[1].tostring()\n",
    "wImg_dst.value = tmpStream\n",
    "tmpStream = cv2.imencode(\".jpeg\", dst)[1].tostring()\n",
    "wImg_dst2.value = tmpStream\n",
    "tmpStream = cv2.imencode(\".jpeg\", dst2)[1].tostring()\n",
    "wImg_dst3.value = tmpStream\n",
    "tmpStream = cv2.imencode(\".jpeg\", dst3)[1].tostring()\n",
    "wImg_dst4.value = tmpStream"
   ]
  },
  {
   "cell_type": "markdown",
   "metadata": {},
   "source": [
    "#### cv2.watershed() 영상 분할\n",
    "이미지를 GrayScale로 변환하면 각 Pixel의 값(0~255)은 높고 낮음으로 구분할 수 있다.  \n",
    "이것을 지형의 높낮이로 가정하고 높은 부분을 봉우리, 낮은 부분을 계곡이라 표현할 수 있다.  \n",
    "그렇 이러한 지형에 물을 붓는다고 생각하면 물이 섞이는 부분이 생길 것이고, 경계선을 따라서 섞이지 않게 된다.  \n",
    "이러한 경계선을 이미지의 구분지점으로 파악하여 이미지를 분할하는 방법이다.  \n",
    "\n",
    "<img src=\"https://lh3.googleusercontent.com/-UZ_SCNAcun7TKgaOuUIm7mN3MnJNnbqnb56FHCHiQekEgbv13PxsmSuRLrwgNC579rr0m11_PBFcNuJWiTb9Sej9pAAk0btLRwfGg_ihKQwINNDH7x4QrFYST0tfyc1z5FE8zXi\" width=\"300\" height=\"300\" style=\"border: none; transform: rotate(0.00rad); -webkit-transform: rotate(0.00rad);\"><br>\n",
    "사진 출처:<a href=\"https://imagej.net/Classic_Watershed\">imagej.net</a><br>\n",
    "\n",
    "<code>cv2.watershed(images,markers)</code><br>\n",
    "\n",
    "**parameter**\n",
    "- image: 원본 이미지\n",
    "- markers: 반환배열에 markers에 1이상의값을 가지며 markers의 값이 같으면 동일 특성을 같는 분할영역 이며, 영역의경계부분은 -1값을 갖는다.\n",
    "\n",
    "<br>\n",
    "\n",
    "아래의 결과는 왼쪽순서대로 다음과 같다.\n",
    "- src: 원본 사진\n",
    "- dist: <code>cv2.distanceTransform()</code>결과\n",
    "- mask: dist의 결과를 선명하게 나타내기 위하여 특정 임계값 이상의 값을 255이상의 값을 갇도록 설정하였다.\n",
    "- markers: <code>cv2.findContours(), cv2.drawContours()</code>을 통하여 mask의 경계값을 찾아서 그리도록 하였다. 주요한 점은 i+1을 통해 각각의 경계값은 다른 값으로서 구분하였다.\n",
    "- dst: <code>cv2.watershed()</code>와 markers의 각각 가중치를 주어 결과출력\n",
    "\n",
    "**참고사항**  \n",
    "좀 더 정확한 동작원리와 예시에 대해서 궁금하면 아래 링크를 참조하자.  \n",
    "<a href=\"http://www.cmm.mines-paristech.fr/~beucher/wtshed.html\">OpenCV 참조 설명</a><br>"
   ]
  },
  {
   "cell_type": "code",
   "execution_count": 94,
   "metadata": {},
   "outputs": [
    {
     "name": "stdout",
     "output_type": "stream",
     "text": [
      "dist: 0.0 61.0 (0, 0) (400, 250)\n",
      "len(contours)= 6\n"
     ]
    },
    {
     "data": {
      "application/vnd.jupyter.widget-view+json": {
       "model_id": "dd36136ea01e4ba0a9846d4caa4e49cc",
       "version_major": 2,
       "version_minor": 0
      },
      "text/plain": [
       "Box(children=(Image(value=b'', layout=\"Layout(border='solid')\", width='20%'), Image(value=b'', layout=\"Layout(…"
      ]
     },
     "metadata": {},
     "output_type": "display_data"
    }
   ],
   "source": [
    "src = cv2.imread('./data/circle.jpg')\n",
    "gray = cv2.cvtColor(src,cv2.COLOR_BGR2GRAY)\n",
    "ret,bimage = cv2.threshold(gray,0,255,cv2.THRESH_BINARY_INV+cv2.THRESH_OTSU)\n",
    "dist = cv2.distanceTransform(bimage,cv2.DIST_L1,3)\n",
    "dist8 = cv2.normalize(dist,None,0,255,cv2.NORM_MINMAX,dtype=cv2.CV_8U)\n",
    "\n",
    "minVal,maxVal,minLoc,maxLoc = cv2.minMaxLoc(dist)\n",
    "print('dist:',minVal,maxVal,minLoc,maxLoc)\n",
    "mask = (dist>maxVal*0.1).astype(np.uint8)*255\n",
    "\n",
    "mode = cv2.RETR_EXTERNAL\n",
    "method = cv2.CHAIN_APPROX_SIMPLE\n",
    "contours,hierarchy = cv2.findContours(mask,mode,method)\n",
    "print('len(contours)=',len(contours))\n",
    "\n",
    "markers = np.zeros(shape=src.shape[:2],dtype=np.int32)\n",
    "\n",
    "for i,cnt in enumerate(contours):\n",
    "    cv2.drawContours(markers,[cnt],0,i+1,3)\n",
    "\n",
    "\n",
    "dst = src.copy()\n",
    "cv2.watershed(src,markers)\n",
    "\n",
    "np.random.seed(0)\n",
    "\n",
    "for i in range(len(contours)):\n",
    "    r = np.random.randint(256)\n",
    "    g = np.random.randint(256)\n",
    "    b = np.random.randint(256)\n",
    "    dst[markers==i+1] = [b,g,r]\n",
    "dst = cv2.addWeighted(src,0.4,dst,0.6,0)\n",
    "\n",
    "markers = np.zeros(shape=src.shape[:2],dtype=np.int32)\n",
    "for i,cnt in enumerate(contours):\n",
    "    cv2.drawContours(markers,[cnt],0,np.random.randint(150,256),3)\n",
    "    \n",
    "    \n",
    "wImg_bimage = Image(layout = Layout(border=\"solid\"), width=\"20%\")\n",
    "wImg_dist8 = Image(layout = Layout(border=\"solid\"), width=\"20%\")\n",
    "wImg_mask = Image(layout = Layout(border=\"solid\"), width=\"20%\")\n",
    "wImg_marker = Image(layout = Layout(border=\"solid\"), width=\"20%\")\n",
    "wImg_dst = Image(layout = Layout(border=\"solid\"), width=\"20%\")\n",
    "\n",
    "items = [wImg_bimage,wImg_dist8,wImg_mask,wImg_marker,wImg_dst]\n",
    "box = Box(items)\n",
    "display.display(box)\n",
    "\n",
    "tmpStream = cv2.imencode(\".jpeg\", bimage)[1].tostring()\n",
    "wImg_bimage.value = tmpStream\n",
    "tmpStream = cv2.imencode(\".jpeg\", dist8)[1].tostring()\n",
    "wImg_dist8.value = tmpStream\n",
    "tmpStream = cv2.imencode(\".jpeg\", mask)[1].tostring()\n",
    "wImg_mask.value = tmpStream\n",
    "tmpStream = cv2.imencode(\".jpeg\", markers)[1].tostring()\n",
    "wImg_marker.value = tmpStream\n",
    "tmpStream = cv2.imencode(\".jpeg\", dst)[1].tostring()\n",
    "wImg_dst.value = tmpStream"
   ]
  },
  {
   "cell_type": "markdown",
   "metadata": {},
   "source": [
    "### 피라미드 기반 분할\n",
    "**피라미드(Pyrimid)영상**: 피라미드 영상이란 다양한 스케일에 걸쳐 영상을 나타내는 것 이다.  \n",
    "<p style=\"text-align: justify; line-height: 1.8; clear: none; float: none;\"><span class=\"imageblock\" style=\"display:inline-block;width:100px;;height:auto;max-width:100%\"><span data-url=\"https://t1.daumcdn.net/cfile/tistory/2675424D587E1BB733?download\" data-lightbox=\"lightbox\"><img src=\"https://t1.daumcdn.net/cfile/tistory/2675424D587E1BB733\" style=\"cursor: pointer;max-width:100%;height:auto\" width=\"100\" height=\"85\" filename=\"1.PNG\" filemime=\"image/jpeg\"></span></span><span style=\"font-family: Gulim, 굴림; font-size: 11pt;\">&nbsp; &nbsp; &nbsp;</span><span class=\"imageblock\" style=\"display:inline-block;width:50px;;height:auto;max-width:100%\"><span data-url=\"https://t1.daumcdn.net/cfile/tistory/2223E74D587E1BB701?download\" data-lightbox=\"lightbox\"><img src=\"https://t1.daumcdn.net/cfile/tistory/2223E74D587E1BB701\" style=\"cursor: pointer;max-width:100%;height:auto\" width=\"50\" height=\"42\" filename=\"1.PNG\" filemime=\"image/jpeg\"></span></span><span style=\"font-family: Gulim, 굴림; font-size: 11pt;\">&nbsp; &nbsp; &nbsp;</span><span class=\"imageblock\" style=\"display:inline-block;width:25px;;height:auto;max-width:100%\"><span data-url=\"https://t1.daumcdn.net/cfile/tistory/21182F4D587E1BB80D?download\" data-lightbox=\"lightbox\"><img src=\"https://t1.daumcdn.net/cfile/tistory/21182F4D587E1BB80D\" style=\"cursor: pointer;max-width:100%;height:auto\" width=\"25\" height=\"21\" filename=\"1.PNG\" filemime=\"image/jpeg\"></span></span></p>\n",
    "사진 출처:<a href=\"https://eehoeskrap.tistory.com/118\">eehoeskrap</a><br>\n",
    "영상처리에 있어서 여러 스케일에 걸쳐 피라미드를 생성하여 처리를 하게 되면 물체를 비교하거나 매칭에 용이하게 쓸 수 있다. 예를들어 Object Detection에서 다른 스케일에서 동일한 객체인지 판단할 경우에 사용된다.  \n",
    "이러한 Image Pyramid는 (1)Gaussian Pyramids 와 (2) Laplacian Pyramids로 구분된다.  \n",
    "\n",
    "<code>cv2.pyrDown(src[,dst[,dstsize[,borderType]]])</code>: 가우시안 필터링 하고 dstsize에 주어진 크기로 축소한다.<br>\n",
    "**parameter**\n",
    "- src: input\n",
    "- dst: output\n",
    "- dstsize: 축소할 크기\n",
    "\n",
    "<br>\n",
    "\n",
    "<code>cv2.pyrUp(src[,dst[,dstsize[,borderType]]])</code>: 가우시안 필터링 하고 dstsize에 주어진 크기로 확대한다.<br>\n",
    "**parameter**\n",
    "- src: input\n",
    "- dst: output\n",
    "- dstsize: 확대할 크기\n",
    "\n",
    "<br>\n",
    "\n",
    "#### cv2.pyrDown(), cv2.pyrUp() (1) Gaussian Pyramid"
   ]
  },
  {
   "cell_type": "code",
   "execution_count": 9,
   "metadata": {},
   "outputs": [
    {
     "name": "stdout",
     "output_type": "stream",
     "text": [
      "donw2.shape= (256, 256, 3)\n",
      "down4.shape= (128, 128, 3)\n",
      "up2.shape= (1024, 1024, 3)\n",
      "up4.shape= (2048, 2048, 3)\n"
     ]
    },
    {
     "data": {
      "application/vnd.jupyter.widget-view+json": {
       "model_id": "2e9a39f9a20c4687b82159ab54ee76c8",
       "version_major": 2,
       "version_minor": 0
      },
      "text/plain": [
       "Image(value=b'', layout=\"Layout(border='solid')\")"
      ]
     },
     "metadata": {},
     "output_type": "display_data"
    },
    {
     "data": {
      "application/vnd.jupyter.widget-view+json": {
       "model_id": "3023972ab05d4030b5202d93620c934e",
       "version_major": 2,
       "version_minor": 0
      },
      "text/plain": [
       "Image(value=b'', layout=\"Layout(border='solid')\")"
      ]
     },
     "metadata": {},
     "output_type": "display_data"
    },
    {
     "data": {
      "application/vnd.jupyter.widget-view+json": {
       "model_id": "d8479dc39ee949b091c8142d0e1e111c",
       "version_major": 2,
       "version_minor": 0
      },
      "text/plain": [
       "Image(value=b'', layout=\"Layout(border='solid')\")"
      ]
     },
     "metadata": {},
     "output_type": "display_data"
    }
   ],
   "source": [
    "src = cv2.imread('./data/lena.jpg')\n",
    "\n",
    "down2 = cv2.pyrDown(src)\n",
    "down4 = cv2.pyrDown(down2)\n",
    "print('donw2.shape=',down2.shape)\n",
    "print('down4.shape=',down4.shape)\n",
    "\n",
    "up2 = cv2.pyrUp(src)\n",
    "up4 = cv2.pyrUp(up2)\n",
    "print('up2.shape=',up2.shape)\n",
    "print('up4.shape=',up4.shape)\n",
    "\n",
    "wImg_original = Image(layout = Layout(border=\"solid\"))\n",
    "wImg_down4 = Image(layout = Layout(border=\"solid\"))\n",
    "wImg_up4 = Image(layout = Layout(border=\"solid\"))\n",
    "\n",
    "display.display(wImg_original,wImg_down4,wImg_up4)\n",
    "\n",
    "tmpStream = cv2.imencode(\".jpeg\", src)[1].tostring()\n",
    "wImg_original.value = tmpStream\n",
    "tmpStream = cv2.imencode(\".jpeg\", down4)[1].tostring()\n",
    "wImg_down4.value = tmpStream\n",
    "tmpStream = cv2.imencode(\".jpeg\", up4)[1].tostring()\n",
    "wImg_up4.value = tmpStream"
   ]
  },
  {
   "cell_type": "markdown",
   "metadata": {},
   "source": [
    "#### cv2.pyrDown(), cv2.pyrUp() (2) Laplacian Pyramid\n",
    "Laplacian Pyramid는 Gaussian Pyramid에 의해서 생성된다.  \n",
    "<code>cv2.pyrDown(), cv2.pyrUp()</code>을 사용하여 축소, 확장을 하면 원본과 동일한 이미지를 얻을 수 없다.  \n",
    "만약 원본 이미지의 shape(255,400,3)을 <code>cv2.pyrDown()</code>을 적용하면 행과 열이 2배씩 줄게 되고 소수점은 반올림 되어 (113,200,3)이 된다.  \n",
    "이러한 결과를 다시 <code>cv2.pyrUp()</code>을 적용하면 (226,400,3)이된다.  \n",
    "이러한 차이는 1row차이를 발생하게 되어서 **Edge를 검출할 수 있게된다.**  "
   ]
  },
  {
   "cell_type": "code",
   "execution_count": 111,
   "metadata": {},
   "outputs": [
    {
     "name": "stdout",
     "output_type": "stream",
     "text": [
      "(512, 512, 3)\n",
      "(255, 400, 3)\n",
      "(128, 200, 3)\n",
      "(256, 400, 3)\n",
      "<class 'numpy.ndarray'>\n",
      "<class 'numpy.ndarray'>\n",
      "(255, 400, 3)\n",
      "(255, 400, 3)\n"
     ]
    },
    {
     "data": {
      "text/plain": [
       "<matplotlib.image.AxesImage at 0x7ff69f6ad940>"
      ]
     },
     "execution_count": 111,
     "metadata": {},
     "output_type": "execute_result"
    },
    {
     "data": {
      "image/png": "[encoded data removed]",
      "text/plain": [
       "<Figure size 432x288 with 1 Axes>"
      ]
     },
     "metadata": {
      "needs_background": "light"
     },
     "output_type": "display_data"
    }
   ],
   "source": [
    "img= cv2.imread('./data/lena.jpg')\n",
    "print(img.shape)\n",
    "\n",
    "img = cv2.resize(img,dsize=(400,255))\n",
    "print(img.shape)\n",
    "\n",
    "GAD = cv2.pyrDown(img)\n",
    "print(GAD.shape)\n",
    "\n",
    "GAU = cv2.pyrUp(GAD)\n",
    "print(GAU.shape)\n",
    "\n",
    "temp = cv2.resize(GAU,(400,255))\n",
    "print(type(temp))\n",
    "print(type(img))\n",
    "print(temp.shape)\n",
    "print(img.shape)\n",
    "res = cv2.subtract(img,temp)\n",
    "plt.axis('off')\n",
    "plt.imshow(res)"
   ]
  },
  {
   "cell_type": "markdown",
   "metadata": {},
   "source": [
    "#### cv2.pyrMeanShiftFiltering() 영역 검출\n",
    "<code>cv2.pyrMeanShiftFiltering(src, sp, sr[, dst[, maxLevel[, termcrit]]])</code>: 영상에 피라미드 기반 평균이동(meanshifting)필터링을 수행한다.<br>\n",
    "\n",
    "**parameter**\n",
    "- src: 3 channel의 input\n",
    "- sp: 공간 윈도우의 크기\n",
    "- sr: 컬러 윈도우의 크기\n",
    "- maxLevel: 피라미드의 최고 Level\n",
    "- termcrit: 피라미드 수행 종료 시기\n",
    " - cv2.TERM_CRITERIA_MAX_ITER\n",
    " - cv2.TERM_CRITERIA_MAX_COUNT\n",
    " - cv2.TERM_CRITERIA_MAX_EPS\n",
    "\n",
    "<br>\n",
    "\n",
    "**진행 과정**  \n",
    "공간윈도우와 컬러 윈도우를 사용하여 반복적으로 meanshift를 수행한다.  \n",
    "**1. 공간 위도우 내의 좌표 설정**\n",
    "<p>$$X-sp \\leq x \\leq X+sp$$</p>\n",
    "<p>$$Y-sp \\leq y \\leq Y+sp$$</p>\n",
    "\n",
    "**2. 컬러 윈도우 내의 값 설정**\n",
    "<p>$$|(R,G,B) - (r,g,b)| \\leq sr$$</p>\n",
    "\n",
    "**3. 결과값 저장**\n",
    "<p>$$dst(X,Y) = (R^{*},G^{*},B^{*})$$</p>\n",
    "\n",
    "<br>\n",
    "아래 Code는 flower.jpg에 대한 RGB, HSV의 meanshifting Filtering의 결과이다.<br>\n",
    "\n",
    "**floodFillPostProcess()**: 원본 이미지에 대하여 비슷한 주변 pixel끼리의 segmentation구행하는 Method  \n",
    "sp, sr, maxLevel을 바꿔가면서 결과를 바로바로 확인할 수 있도록 ipywidget으로 구성하였다."
   ]
  },
  {
   "cell_type": "code",
   "execution_count": 10,
   "metadata": {
    "scrolled": false
   },
   "outputs": [
    {
     "data": {
      "application/vnd.jupyter.widget-view+json": {
       "model_id": "f11b4ddd05024bee9853865e4b8b0b20",
       "version_major": 2,
       "version_minor": 0
      },
      "text/plain": [
       "Tab(children=(AppLayout(children=(Box(children=(Image(value=b'', layout=\"Layout(border='solid')\", width='50%')…"
      ]
     },
     "metadata": {},
     "output_type": "display_data"
    }
   ],
   "source": [
    "def floodFillPostProcess(src,diff=(2,2,2)):\n",
    "    img = src.copy()\n",
    "    rows,cols = img.shape[:2]\n",
    "    mask = np.zeros(shape=(rows+2,cols+2),dtype=np.uint8)\n",
    "    for y in range(rows):\n",
    "        for x in range(cols):\n",
    "            if mask[y+1,x+1] == 0:\n",
    "                r = np.random.randint(256)\n",
    "                g = np.random.randint(256)\n",
    "                b = np.random.randint(256)\n",
    "                cv2.floodFill(img,mask,(x,y),(b,g,r),diff,diff)\n",
    "    return img\n",
    "\n",
    "src = cv2.imread('./data/flower.jpg')\n",
    "hsv = cv2.cvtColor(src,cv2.COLOR_BGR2HSV)\n",
    "dst = floodFillPostProcess(src)\n",
    "dst2 = floodFillPostProcess(hsv)\n",
    "\n",
    "#Component 선언\n",
    "IntSlider_sp1 = IntSlider(\n",
    "    value=0,\n",
    "    min=0,\n",
    "    max=30,\n",
    "    step=1,\n",
    "    description='sp: ',\n",
    "    disabled=False,\n",
    "    continuous_update=False,\n",
    "    orientation='horizontal',\n",
    "    readout=True,\n",
    "    readout_format='d'\n",
    ")\n",
    "\n",
    "IntSlider_sr1 = IntSlider(\n",
    "    value=0,\n",
    "    min=0,\n",
    "    max=30,\n",
    "    step=1,\n",
    "    description='sr: ',\n",
    "    disabled=False,\n",
    "    continuous_update=False,\n",
    "    orientation='horizontal',\n",
    "    readout=True,\n",
    "    readout_format='d'\n",
    ")\n",
    "\n",
    "IntSlider_maxLevel1 = IntSlider(\n",
    "    value=0,\n",
    "    min=0,\n",
    "    max=20,\n",
    "    step=1,\n",
    "    description='maxLevel: ',\n",
    "    disabled=False,\n",
    "    continuous_update=False,\n",
    "    orientation='horizontal',\n",
    "    readout=True,\n",
    "    readout_format='d'\n",
    ")\n",
    "\n",
    "IntSlider_sp2 = IntSlider(\n",
    "    value=0,\n",
    "    min=0,\n",
    "    max=30,\n",
    "    step=1,\n",
    "    description='sp: ',\n",
    "    disabled=False,\n",
    "    continuous_update=False,\n",
    "    orientation='horizontal',\n",
    "    readout=True,\n",
    "    readout_format='d'\n",
    ")\n",
    "\n",
    "IntSlider_sr2 = IntSlider(\n",
    "    value=0,\n",
    "    min=0,\n",
    "    max=30,\n",
    "    step=1,\n",
    "    description='sr: ',\n",
    "    disabled=False,\n",
    "    continuous_update=False,\n",
    "    orientation='horizontal',\n",
    "    readout=True,\n",
    "    readout_format='d'\n",
    ")\n",
    "\n",
    "IntSlider_maxLevel2 = IntSlider(\n",
    "    value=0,\n",
    "    min=0,\n",
    "    max=5,\n",
    "    step=1,\n",
    "    description='maxLevel: ',\n",
    "    disabled=False,\n",
    "    continuous_update=False,\n",
    "    orientation='horizontal',\n",
    "    readout=True,\n",
    "    readout_format='d'\n",
    ")\n",
    "\n",
    "def layout(header, left, right):\n",
    "    layout = AppLayout(header=header,\n",
    "          left_sidebar=left,\n",
    "          center=None,\n",
    "          right_sidebar=right)\n",
    "    return layout\n",
    "\n",
    "wImg_original = Image(layout = Layout(border=\"solid\"), width=\"50%\")\n",
    "wImg_hsv = Image(layout = Layout(border=\"solid\"), width=\"50%\")\n",
    "wImg_original_floodFill = Image(layout = Layout(border=\"solid\"), width=\"50%\")\n",
    "wImg_hsv_floodFill = Image(layout = Layout(border=\"solid\"), width=\"50%\")\n",
    "\n",
    "wImg_res1 = Image(layout = Layout(border=\"solid\"), width=\"50%\") \n",
    "wImg_dst1 = Image(layout = Layout(border=\"solid\"), width=\"50%\") \n",
    "\n",
    "wImg_res2 = Image(layout = Layout(border=\"solid\"), width=\"50%\") \n",
    "wImg_dst2 = Image(layout = Layout(border=\"solid\"), width=\"50%\") \n",
    "\n",
    "items = [wImg_original,wImg_original_floodFill]\n",
    "items2 = [wImg_hsv,wImg_hsv_floodFill]\n",
    "floodFill1 = Box(items)\n",
    "floodFill2 = Box(items2)\n",
    "box1 = layout(None,floodFill1,floodFill2)\n",
    "\n",
    "items = [IntSlider_sp1,IntSlider_sr1,IntSlider_maxLevel1]\n",
    "trick_bar = Box(items)\n",
    "box2 = layout(trick_bar,wImg_res1,wImg_dst1)\n",
    "\n",
    "items = [IntSlider_sp2,IntSlider_sr2,IntSlider_maxLevel2]\n",
    "trick_bar = Box(items)\n",
    "box3 = layout(trick_bar,wImg_res2,wImg_dst2)\n",
    "\n",
    "tab_nest = widgets.Tab()\n",
    "tab_nest.children = [box1, box2, box3]\n",
    "tab_nest.set_title(0, 'floodFill')\n",
    "tab_nest.set_title(1, 'src 영역 검출')\n",
    "tab_nest.set_title(2, 'hsv 영역 검출')\n",
    "tab_nest\n",
    "\n",
    "display.display(tab_nest)\n",
    "\n",
    "#box1 값 대입\n",
    "tmpStream = cv2.imencode(\".jpeg\", src)[1].tostring()\n",
    "wImg_original.value = tmpStream\n",
    "tmpStream = cv2.imencode(\".jpeg\", hsv)[1].tostring()\n",
    "wImg_hsv.value = tmpStream\n",
    "tmpStream = cv2.imencode(\".jpeg\", dst)[1].tostring()\n",
    "wImg_original_floodFill.value = tmpStream\n",
    "tmpStream = cv2.imencode(\".jpeg\", dst2)[1].tostring()\n",
    "wImg_hsv_floodFill.value = tmpStream\n",
    "\n",
    "sp1,sr1,maxLevel1 = 0,0,0\n",
    "sp2,sr2,maxLevel2 = 0,0,0\n",
    "    \n",
    "#box2,3값 대입\n",
    "def input_box_value(option=1):\n",
    "    global sp1,sr1,maxLevel1,sp2,sr2,maxLevel2\n",
    "    input_sp,input_sr,input_maxLevel,res = 0,0,0,0\n",
    "    \n",
    "    if option == 1:\n",
    "        input_sp = sp1\n",
    "        input_sr = sr1\n",
    "        input_maxLevel = maxLevel1\n",
    "        res = cv2.pyrMeanShiftFiltering(src,sp=input_sp,sr=input_sr,maxLevel=input_maxLevel)\n",
    "    else:\n",
    "        input_sp = sp2\n",
    "        input_sr = sr2\n",
    "        input_maxLevel = maxLevel2\n",
    "        term_crit = (cv2.TERM_CRITERIA_MAX_ITER,10,2)\n",
    "        res = cv2.pyrMeanShiftFiltering(hsv,sp=input_sp,sr=input_sr,maxLevel=input_maxLevel,termcrit=term_crit)\n",
    "    dst = floodFillPostProcess(res)\n",
    "    tmpStream = cv2.imencode(\".jpeg\", res)[1].tostring()\n",
    "    tmpStream2 = cv2.imencode(\".jpeg\", dst)[1].tostring()\n",
    "            \n",
    "    if option == 1:\n",
    "        wImg_res1.value = tmpStream\n",
    "        wImg_dst1.value = tmpStream2\n",
    "    else:\n",
    "        wImg_res2.value = tmpStream\n",
    "        wImg_dst2.value = tmpStream2\n",
    "        \n",
    "#Event 선언\n",
    "def on_value_change_sp1(change):\n",
    "    global sp1,sr1,maxLevel1\n",
    "    sp1 = change['new']\n",
    "    input_box_value()\n",
    "    \n",
    "    \n",
    "def on_value_change_sr1(change):\n",
    "    global sp1,sr1,maxLevel1\n",
    "    sr1 = change['new']\n",
    "    input_box_value()\n",
    "    \n",
    "def on_value_change_maxLevel1(change):\n",
    "    global sp1,sr1,maxLevel1\n",
    "    maxLevel1 = change['new']\n",
    "    input_box_value()\n",
    "    \n",
    "def on_value_change_sp2(change):\n",
    "    global sp2,sr2,maxLevel2\n",
    "    sp2 = change['new']\n",
    "    input_box_value(0)\n",
    "    \n",
    "    \n",
    "def on_value_change_sr2(change):\n",
    "    global sp2,sr2,maxLevel2\n",
    "    sr2 = change['new']\n",
    "    input_box_value(0)\n",
    "    \n",
    "def on_value_change_maxLevel2(change):\n",
    "    global sp2,sr2,maxLevel2\n",
    "    maxLevel2 = change['new']\n",
    "    input_box_value(0)\n",
    "\n",
    "#초기화 작업\n",
    "input_box_value()\n",
    "input_box_value(0)\n",
    "\n",
    "\n",
    "#Component에 Event 장착\n",
    "IntSlider_sp1.observe(on_value_change_sp1, names='value')\n",
    "IntSlider_sr1.observe(on_value_change_sr1, names='value')\n",
    "IntSlider_maxLevel1.observe(on_value_change_maxLevel1, names='value')\n",
    "\n",
    "IntSlider_sp2.observe(on_value_change_sp2, names='value')\n",
    "IntSlider_sr2.observe(on_value_change_sr2, names='value')\n",
    "IntSlider_maxLevel2.observe(on_value_change_maxLevel2, names='value')"
   ]
  },
  {
   "cell_type": "markdown",
   "metadata": {},
   "source": [
    "### K-Means 클러스터링 분할\n",
    "K-Means Clusturing은 분리형 군집화 알고리즘중 하나로서, **각 군집은 하나의 중심을 가지고 각 개체는 가장 가까운 중심에 할당되며, 같은 중심에 개체들이 모여 하나의 군집을 형성하는 방법이다.**  \n",
    "이러한 방식은 사전에 군집 수(k)를 사용자가 지정해야하는 hyperparameter이다.  \n",
    "\n",
    "**학습 과정**  \n",
    "**1. 클러스터 개수 K를 고정하고, t=0으로 초기화 한다. K 개의 클러스터( <span>$C^{0}_{i}, i=1, ..., K$</span>)의 평균(<span>$m^{0}_{i}, i=1, ..., K$</span>)을 임의로 선택한다.**  \n",
    "<img src=\"http://i.imgur.com/hgNzXsc.png\" width=\"500px\" title=\"source: imgur.com\"><br>\n",
    "\n",
    "**2. 클러스터링하려는 데이터(<span>$x_{j}, j=1, ..., M$</span>)각각의 K개의 클러스터 평균과의 최소거리가 되는 클러스터(<span>$C^{t}_{p}$</span>)로 <span>$x_{j}$</span>를 분류**  \n",
    "<img src=\"http://i.imgur.com/OFn22dM.png\" width=\"500px\" title=\"source: imgur.com\"><br>\n",
    "\n",
    "**3. 각 클러스터(<span>$C^{t}_{i}, i=1, ..., K$</span>)에 속한 데이터를 이용하여 새로운 클러스터 평균 <span>$m^{t+1}_{i}, i=1, ..., K$</span> 을 계산한다.**  \n",
    "<p>$$m^{t+1}_{i} = \\frac{1}{C^{t}_{i}} \\sum_{x \\in C^{t}_{i}}x_{j}, i=1, ..., K$$</p>\n",
    "<img src=\"http://i.imgur.com/UmBgHhf.png\" width=\"500px\" title=\"source: imgur.com\"><br>\n",
    "\n",
    "**4. t = t+1로 증가시키고 최대 반복회수까지 2~3단계를 계속하여 반복한다.**  \n",
    "**2단계 반복**  \n",
    "<img src=\"http://i.imgur.com/DWmbUxP.png\" width=\"500px\" title=\"source: imgur.com\"><br>\n",
    "**3단계 반복**  \n",
    "<img src=\"http://i.imgur.com/OBhtsbV.png\" width=\"500px\" title=\"source: imgur.com\">\n",
    "<br>\n",
    "\n",
    "**장점 및 단점**  \n",
    "장점: 계산 복잡성이 O(n)이여서 가벼운 편이다.  \n",
    "단점:  \n",
    " - 군집의 크기가 다를 경우 제대로 작동하지 않을 수 있다.\n",
    "<img src=\"http://i.imgur.com/IH8FAfq.png\" width=\"500px\" title=\"source: imgur.com\">\n",
    " - 군집의 밀도가 다를 경우 제대로 작동하지 않을 수 있다.\n",
    "<img src=\"http://i.imgur.com/pJmhpQ6.png\" width=\"500px\" title=\"source: imgur.com\">\n",
    " - 데이터 분포가 특이한 케이스인 경우 제대로 작동하지 않을 수 있다.\n",
    "<img src=\"http://i.imgur.com/v37p0Gi.png\" width=\"500px\" title=\"source: imgur.com\">\n",
    "\n",
    "그림 출처: <a href=\"https://ratsgo.github.io/machine%20learning/2017/04/19/KC/\">ratsgo 블로그</a>\n",
    "<br>\n",
    "\n",
    "<code>cv2.kmeans(data,K,bestLabels,criteria,attemps,flags[,centers])</code>: K-means클러스터링 수행<br>\n",
    "\n",
    "**parameter**\n",
    "- src: input\n",
    "- K: 클러스터 개수\n",
    "- criteria: 반복 회수 종료 시점 정의\n",
    "- ateempts: 알고리즘 시도하는 회수, 서로다른 시도 횟수 중 최적을 레이블링 경과를 bestLabels에 저장하여 반환\n",
    "- flags: K개의 클러스터 중심을 초기화하는 방법을 명시한다.\n",
    " - cv2.KMEANS_RANDOM_CENTERS: 난수를 사용하여 설정\n",
    " - cv2.KMEANS_PP_CENTERS: Arthur and Vassivitskii에 의해 제안 방법\n",
    " - cv2.KMEANS_USE_INITIAL_LABELS: 처음 시도에는 사용자가 제공한 레이블을 사용하고, 다음 시도부터는 난수를 이용하여 임의로 설정\n",
    " \n",
    "\n",
    "#### 컬러 클러스터링 영역 검출\n",
    "각각의 hand.jpg와 flower.jpg에 대하여 bgr, hsv에 대해 각각 3개의 군집으로 K-means Clustering한 결과 이다."
   ]
  },
  {
   "cell_type": "code",
   "execution_count": 11,
   "metadata": {},
   "outputs": [
    {
     "name": "stdout",
     "output_type": "stream",
     "text": [
      "bgr\n",
      "hand.jpg\n",
      "centers.shape= (3, 3)\n",
      "labels.shape= (50525, 1)\n",
      "ret= 11730475.43964547\n",
      "--------------------\n",
      "flower.jpg\n",
      "centers.shape= (3, 3)\n",
      "labels.shape= (375000, 1)\n",
      "ret= 8.0\n",
      "********************\n",
      "hsv\n",
      "hand.jpg\n",
      "centers.shape= (3, 3)\n",
      "labels.shape= (50525, 1)\n",
      "ret= 26116860.544728875\n",
      "--------------------\n",
      "flower.jpg\n",
      "centers.shape= (3, 3)\n",
      "labels.shape= (375000, 1)\n",
      "ret= 691632867.6568608\n"
     ]
    },
    {
     "data": {
      "application/vnd.jupyter.widget-view+json": {
       "model_id": "367e46cc1eda46859f4aef1a1445f0c8",
       "version_major": 2,
       "version_minor": 0
      },
      "text/plain": [
       "Tab(children=(AppLayout(children=(Image(value=b'', layout=\"Layout(border='solid', grid_area='left-sidebar')\", …"
      ]
     },
     "metadata": {},
     "output_type": "display_data"
    }
   ],
   "source": [
    "src1 = cv2.imread('./data/hand.jpg')\n",
    "src2 = cv2.imread('./data/flower.jpg')\n",
    "\n",
    "hsv1 = cv2.cvtColor(src1,cv2.COLOR_BGR2HSV)\n",
    "hsv2 = cv2.cvtColor(src2,cv2.COLOR_BGR2HSV)\n",
    "\n",
    "data1 = src1.reshape((-1,3)).astype(np.float32)\n",
    "data2 = src2.reshape((-1,3)).astype(np.float32)\n",
    "\n",
    "data3 = hsv1.reshape((-1,3)).astype(np.float32)\n",
    "data4 = hsv2.reshape((-1,3)).astype(np.float32)\n",
    "\n",
    "K = 3\n",
    "term_crit = (cv2.TERM_CRITERIA_EPS+cv2.TERM_CRITERIA_MAX_ITER,10,1.0)\n",
    "\n",
    "ret1,labels1,centers1 = cv2.kmeans(data1,K,None,term_crit,5,cv2.KMEANS_RANDOM_CENTERS)\n",
    "print('bgr')\n",
    "print('hand.jpg')\n",
    "print('centers.shape=',centers1.shape)\n",
    "print('labels.shape=',labels1.shape)\n",
    "print('ret=',ret1)\n",
    "print('-'*20)\n",
    "\n",
    "ret2,labels2,centers2 = cv2.kmeans(data2,K,None,term_crit,5,cv2.KMEANS_RANDOM_CENTERS)\n",
    "print('flower.jpg')\n",
    "print('centers.shape=',centers2.shape)\n",
    "print('labels.shape=',labels2.shape)\n",
    "print('ret=',ret)\n",
    "\n",
    "print('*'*20)\n",
    "ret3,labels3,centers3 = cv2.kmeans(data3,K,None,term_crit,5,cv2.KMEANS_RANDOM_CENTERS)\n",
    "print('hsv')\n",
    "print('hand.jpg')\n",
    "print('centers.shape=',centers3.shape)\n",
    "print('labels.shape=',labels3.shape)\n",
    "print('ret=',ret3)\n",
    "print('-'*20)\n",
    "\n",
    "ret4,labels4,centers4 = cv2.kmeans(data4,K,None,term_crit,5,cv2.KMEANS_RANDOM_CENTERS)\n",
    "print('flower.jpg')\n",
    "print('centers.shape=',centers4.shape)\n",
    "print('labels.shape=',labels4.shape)\n",
    "print('ret=',ret4)\n",
    "\n",
    "\n",
    "centers1 = np.uint8(centers1)\n",
    "res1 = centers1[labels1.flatten()]\n",
    "bgr1 = res1.reshape(src1.shape)\n",
    "\n",
    "centers2 = np.uint8(centers2)\n",
    "res2 = centers2[labels2.flatten()]\n",
    "bgr2 = res2.reshape(src2.shape)\n",
    "\n",
    "\n",
    "labels3 = np.uint8(labels3.reshape(src1.shape[:2]))\n",
    "labels4 = np.uint8(labels4.reshape(src2.shape[:2]))\n",
    "\n",
    "dst3 = np.zeros(src1.shape,dtype=src1.dtype)\n",
    "dst4 = np.zeros(src2.shape,dtype=src2.dtype)\n",
    "\n",
    "for i in range(K):\n",
    "    r = np.random.randint(256)\n",
    "    g = np.random.randint(256)\n",
    "    b = np.random.randint(256)\n",
    "    dst3[labels3 ==i] = [b,g,r]\n",
    "    dst4[labels4 ==i] = [b,g,r]\n",
    "\n",
    "hsv1 = dst3\n",
    "hsv2 = dst4\n",
    "\n",
    "\n",
    "\n",
    "def layout(header, left, right):\n",
    "    layout = AppLayout(header=header,\n",
    "          left_sidebar=left,\n",
    "          center=None,\n",
    "          right_sidebar=right)\n",
    "    return layout\n",
    "\n",
    "wImg_original1 = Image(layout = Layout(border=\"solid\"), width=\"50%\")\n",
    "wImg_bgr1 = Image(layout = Layout(border=\"solid\"), width=\"50%\")\n",
    "wImg_hsv1 = Image(layout = Layout(border=\"solid\"), width=\"50%\")\n",
    "\n",
    "wImg_original2 = Image(layout = Layout(border=\"solid\"), width=\"50%\")\n",
    "wImg_bgr2 = Image(layout = Layout(border=\"solid\"), width=\"50%\")\n",
    "wImg_hsv2 = Image(layout = Layout(border=\"solid\"), width=\"50%\")\n",
    "\n",
    "items = [wImg_bgr1,wImg_hsv1]\n",
    "Clustering = Box(items)\n",
    "box1 = layout(None,wImg_original1,Clustering)\n",
    "\n",
    "items = [wImg_bgr2,wImg_hsv2]\n",
    "Clustering = Box(items)\n",
    "box2 = layout(None,wImg_original2,Clustering)\n",
    "\n",
    "tab_nest = widgets.Tab()\n",
    "tab_nest.children = [box1, box2]\n",
    "tab_nest.set_title(0, 'Clustering1(BGR, HSV)')\n",
    "tab_nest.set_title(1, 'Clustering2(BGR, HSV)')\n",
    "tab_nest\n",
    "\n",
    "display.display(tab_nest)\n",
    "\n",
    "#box1 값 대입\n",
    "tmpStream = cv2.imencode(\".jpeg\", src1)[1].tostring()\n",
    "wImg_original1.value = tmpStream\n",
    "tmpStream = cv2.imencode(\".jpeg\", bgr1)[1].tostring()\n",
    "wImg_bgr1.value = tmpStream\n",
    "tmpStream = cv2.imencode(\".jpeg\", hsv1)[1].tostring()\n",
    "wImg_hsv1.value = tmpStream\n",
    "\n",
    "#box2 값 대입\n",
    "tmpStream = cv2.imencode(\".jpeg\", src2)[1].tostring()\n",
    "wImg_original2.value = tmpStream\n",
    "tmpStream = cv2.imencode(\".jpeg\", bgr2)[1].tostring()\n",
    "wImg_bgr2.value = tmpStream\n",
    "tmpStream = cv2.imencode(\".jpeg\", hsv2)[1].tostring()\n",
    "wImg_hsv2.value = tmpStream"
   ]
  },
  {
   "cell_type": "markdown",
   "metadata": {},
   "source": [
    "### 연결요소 검출\n",
    "cv2.threshold(), cv2.inRange()등으로 생성한 이진 영상에서 4-이웃 또는 8-이웃 연결성을 고려하여 연결요소를 라벨링하여 BLOB(binary Large Object)영역을 검출한다.  \n",
    "<br>\n",
    "<code>cv2.connectedComponents(image[,labels[,connectivity[,itype]]])</code>: 연결된 components의 개수를 반환하고 Labeling을 해준다.<br>\n",
    "\n",
    "**parameter**\n",
    "- image: input\n",
    "- labels: output\n",
    "- connectivity: 4 or 8이웃 연결성\n",
    "- itype: output image label type\n",
    "\n",
    "<br>\n",
    "\n",
    "<code>cv2.connectedComponentsWithStats(image[,labels[,stats[,centroids[,connectivity[,itype]]]]])</code>: 위의 기능 및 중심 좌표 및 범위를 알려주기 때문에 Component를 특정화 시킬 수 있다.<br>\n",
    "\n",
    "**return**\n",
    "- stats: x,y,width,height,area\n",
    "- centroids: 중심 좌표\n",
    "\n",
    "<br>\n",
    "\n",
    "**주의사항**  \n",
    "OpenCV에서 제공하는 <code>cv.connectedComponents(), cv2.connectedComponentsWithStats</code>는 이진 영상에서 검은색을 Background, 흰색을 연결대상으로 Mapping한다. \n",
    "\n",
    "#### 레이블링"
   ]
  },
  {
   "cell_type": "code",
   "execution_count": 12,
   "metadata": {},
   "outputs": [
    {
     "name": "stdout",
     "output_type": "stream",
     "text": [
      "ret= 4\n",
      "ret2= 4\n",
      "stats= [[     0      0    512    512 245213]\n",
      " [    70    170     61     61   2821]\n",
      " [   120    220     61     61   2821]\n",
      " [    20    340    121    121  11289]]\n",
      "centroids [[266.58220404 249.54933874]\n",
      " [100.         200.        ]\n",
      " [150.         250.        ]\n",
      " [ 80.         400.        ]]\n"
     ]
    },
    {
     "data": {
      "text/plain": [
       "<matplotlib.image.AxesImage at 0x7ff6e8136518>"
      ]
     },
     "execution_count": 12,
     "metadata": {},
     "output_type": "execute_result"
    },
    {
     "data": {
      "image/png": "[encoded data removed]",
      "text/plain": [
       "<Figure size 1440x288 with 4 Axes>"
      ]
     },
     "metadata": {
      "needs_background": "light"
     },
     "output_type": "display_data"
    }
   ],
   "source": [
    "src = cv2.imread('./data/circle2.jpg')\n",
    "gray = cv2.cvtColor(src,cv2.COLOR_BGR2GRAY)\n",
    "ret,res = cv2.threshold(gray,128,255,cv2.THRESH_BINARY_INV)\n",
    "\n",
    "ret,labels = cv2.connectedComponents(res)\n",
    "print('ret=',ret)\n",
    "\n",
    "dst = np.zeros(src.shape,dtype=src.dtype)\n",
    "\n",
    "for i in range(1,ret):\n",
    "    r = np.random.randint(256)\n",
    "    g = np.random.randint(256)\n",
    "    b = np.random.randint(256)\n",
    "    dst[labels == i] = [b,g,r]\n",
    "\n",
    "ret2,labels2,stats,centroids = cv2.connectedComponentsWithStats(res)\n",
    "print('ret2=',ret2)\n",
    "print('stats=',stats)\n",
    "print('centroids',centroids)\n",
    "\n",
    "dst2 = np.zeros(src.shape,dtype=src.dtype)\n",
    "\n",
    "for i in range(1,int(ret2)):\n",
    "    r = np.random.randint(256)\n",
    "    g = np.random.randint(256)\n",
    "    b = np.random.randint(256)\n",
    "    dst2[labels2 == i] = [b,g,r]\n",
    "\n",
    "for i in range(1,int(ret2)):\n",
    "    x,y,width,height,area = stats[i]\n",
    "    cv2.rectangle(dst2,(x,y),(x+width,y+height),(0,0,255),2)\n",
    "    cx,cy = centroids[i]\n",
    "    cv2.circle(dst2,(int(cx),int(cy)),5,(255,0,0),-1)\n",
    "\n",
    "\n",
    "plt.figure(figsize=(20,4))\n",
    "imgae1=plt.subplot(1,4,1)\n",
    "imgae1.set_title('Original')\n",
    "plt.axis('off')\n",
    "plt.imshow(src)\n",
    "\n",
    "imgae2=plt.subplot(1,4,2)\n",
    "imgae2.set_title('Binary')\n",
    "plt.axis('off')\n",
    "plt.imshow(res, cmap=\"gray\")\n",
    "\n",
    "imgae3=plt.subplot(1,4,3)\n",
    "imgae3.set_title('Division')\n",
    "plt.axis('off')\n",
    "plt.imshow(dst)\n",
    "\n",
    "imgae3=plt.subplot(1,4,4)\n",
    "imgae3.set_title('Label')\n",
    "plt.axis('off')\n",
    "plt.imshow(dst2)"
   ]
  }
 ],
 "metadata": {
  "kernelspec": {
   "display_name": "Python 3",
   "language": "python",
   "name": "python3"
  },
  "language_info": {
   "codemirror_mode": {
    "name": "ipython",
    "version": 3
   },
   "file_extension": ".py",
   "mimetype": "text/x-python",
   "name": "python",
   "nbconvert_exporter": "python",
   "pygments_lexer": "ipython3",
   "version": "3.6.8"
  }
 },
 "nbformat": 4,
 "nbformat_minor": 2
}
