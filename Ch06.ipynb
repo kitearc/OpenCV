{
 "cells": [
  {
   "cell_type": "markdown",
   "metadata": {},
   "source": [
    "### 영상 분할\n",
    "영상 분할(image segmentation)은 입력 영상에서 관심 있는 영역을 분리하는 과정이다.  \n",
    "이러한 영상 분할은 영상 분석, 물체 인식, 추적 등 대부분의 영상처리 응용에서 필수적인 단계이다.  \n",
    "영상 분할은 크게 경계선 또는 영역으로 분할한다.  \n",
    "임계법 사용방법은 가장 간단한 영상 분할 방법으로 <code>cv2.threshold()</code>, <code>cv2.adaptiveThreshold()</code>로서 선수 과정으로 알고있어야 하는 지식이다.  \n",
    "사전 지식: <a href=\"https://wjddyd66.github.io/opencv/2019/10/23/OpenCV(4).html\">임계값과 히스토그램 처리</a><br>"
   ]
  },
  {
   "cell_type": "markdown",
   "metadata": {},
   "source": [
    "#### 필요한 라이브러리 임포트"
   ]
  },
  {
   "cell_type": "code",
   "execution_count": 1,
   "metadata": {},
   "outputs": [],
   "source": [
    "import cv2\n",
    "import numpy as np\n",
    "import matplotlib.pyplot as plt\n",
    "import ipywidgets as widgets \n",
    "import IPython.display as display\n",
    "from ipywidgets import Layout, Button, Box, Layout, Image, IntSlider, AppLayout"
   ]
  },
  {
   "cell_type": "markdown",
   "metadata": {},
   "source": [
    "#### 필요한 데이터 생성1"
   ]
  },
  {
   "cell_type": "code",
   "execution_count": 2,
   "metadata": {},
   "outputs": [
    {
     "data": {
      "image/png": "[encoded data removed]",
      "text/plain": [
       "<Figure size 1440x288 with 2 Axes>"
      ]
     },
     "metadata": {
      "needs_background": "light"
     },
     "output_type": "display_data"
    },
    {
     "data": {
      "text/plain": [
       "True"
      ]
     },
     "execution_count": 2,
     "metadata": {},
     "output_type": "execute_result"
    }
   ],
   "source": [
    "def plot(img):\n",
    "    plt.axis('off')\n",
    "    plt.imshow(img)\n",
    "    plt.show()\n",
    "    \n",
    "img = np.zeros((512,512,3),dtype=np.int32)+255\n",
    "img2 = np.zeros((512,512,3),dtype=np.int32)+255\n",
    "\n",
    "pt1 = 100,200\n",
    "pt2 = 150,250\n",
    "pt3 = 256,256\n",
    "pt4 = 400,250\n",
    "pt5 = 400,30\n",
    "pt6 = 80,400\n",
    "\n",
    "cv2.circle(img,pt1,radius=30,color=(0,0,0),thickness=-1)\n",
    "cv2.circle(img,pt2,radius=30,color=(0,0,0),thickness=-1)\n",
    "cv2.circle(img,pt3,radius=50,color=(0,0,0),thickness=-1)\n",
    "cv2.circle(img,pt4,radius=60,color=(0,0,0),thickness=-1)\n",
    "cv2.circle(img,pt5,radius=30,color=(0,0,0),thickness=-1)\n",
    "cv2.circle(img,pt6,radius=60,color=(0,0,0),thickness=-1)\n",
    "\n",
    "cv2.circle(img2,pt1,radius=30,color=(0,0,0),thickness=-1)\n",
    "cv2.circle(img2,pt2,radius=30,color=(0,0,0),thickness=-1)\n",
    "cv2.circle(img2,pt6,radius=60,color=(0,0,0),thickness=-1)\n",
    "\n",
    "plt.figure(figsize=(20,4))\n",
    "imgae1=plt.subplot(1,2,1)\n",
    "imgae1.set_title('circles.jpg')\n",
    "plt.axis('off')\n",
    "plt.imshow(img, cmap=\"gray\")\n",
    "\n",
    "imgae2=plt.subplot(1,2,2)\n",
    "imgae2.set_title('circles2.jpg')\n",
    "plt.axis('off')\n",
    "plt.imshow(img2, cmap=\"gray\")\n",
    "\n",
    "plt.show()\n",
    "\n",
    "cv2.imwrite('./data/circle.jpg',img)\n",
    "cv2.imwrite('./data/circle2.jpg',img2)"
   ]
  },
  {
   "cell_type": "markdown",
   "metadata": {},
   "source": [
    "#### 필요한 데이터 생성2"
   ]
  },
  {
   "cell_type": "code",
   "execution_count": 3,
   "metadata": {},
   "outputs": [
    {
     "data": {
      "text/plain": [
       "True"
      ]
     },
     "execution_count": 3,
     "metadata": {},
     "output_type": "execute_result"
    },
    {
     "data": {
      "image/png": "[encoded data removed]",
      "text/plain": [
       "<Figure size 1440x288 with 1 Axes>"
      ]
     },
     "metadata": {
      "needs_background": "light"
     },
     "output_type": "display_data"
    }
   ],
   "source": [
    "def plot(img):\n",
    "    plt.axis('off')\n",
    "    plt.imshow(img)\n",
    "    plt.show()\n",
    "    \n",
    "img = np.zeros((512,512,3),dtype=np.uint8)\n",
    "\n",
    "cv2.rectangle(img,(50,100),(450,400),(255,255,255),-1)\n",
    "cv2.rectangle(img,(100,150),(400,350),(0,0,0),-1)\n",
    "cv2.rectangle(img,(200,200),(300,300),(255,255,255),-1)\n",
    "\n",
    "plt.figure(figsize=(20,4))\n",
    "plt.title('rectangle2.jpg')\n",
    "plt.axis('off')\n",
    "plt.imshow(img)\n",
    "\n",
    "cv2.imwrite('./data/rectangle2.jpg',img)"
   ]
  },
  {
   "cell_type": "markdown",
   "metadata": {},
   "source": [
    "### Canny 에지 검출\n"
   ]
  },
  {
   "cell_type": "code",
   "execution_count": 4,
   "metadata": {},
   "outputs": [
    {
     "data": {
      "application/vnd.jupyter.widget-view+json": {
       "model_id": "75c62479317f48d9927464e8c71619c0",
       "version_major": 2,
       "version_minor": 0
      },
      "text/plain": [
       "Tab(children=(AppLayout(children=(Box(children=(IntSlider(value=0, continuous_update=False, description='thres…"
      ]
     },
     "metadata": {},
     "output_type": "display_data"
    }
   ],
   "source": [
    "#Component 선언\n",
    "IntSlider_Threshold1 = IntSlider(\n",
    "    value=0,\n",
    "    min=0,\n",
    "    max=300,\n",
    "    step=1,\n",
    "    description='threshold1: ',\n",
    "    disabled=False,\n",
    "    continuous_update=False,\n",
    "    orientation='horizontal',\n",
    "    readout=True,\n",
    "    readout_format='d'\n",
    ")\n",
    "\n",
    "IntSlider_Threshold2 = IntSlider(\n",
    "    value=0,\n",
    "    min=0,\n",
    "    max=300,\n",
    "    step=1,\n",
    "    description='threshold2: ',\n",
    "    disabled=False,\n",
    "    continuous_update=False,\n",
    "    orientation='horizontal',\n",
    "    readout=True,\n",
    "    readout_format='d'\n",
    ")\n",
    "\n",
    "def layout(header, left, right):\n",
    "    layout = AppLayout(header=header,\n",
    "          left_sidebar=left,\n",
    "          center=None,\n",
    "          right_sidebar=right)\n",
    "    return layout\n",
    "\n",
    "wImg_original = Image(layout = Layout(border=\"solid\"), width=\"50%\")\n",
    "wImg_Canny = Image(layout = Layout(border=\"solid\"), width=\"50%\")\n",
    "\n",
    "items = [IntSlider_Threshold1,IntSlider_Threshold2]\n",
    "Trick_Bar = Box(items)\n",
    "box = layout(Trick_Bar,wImg_original,wImg_Canny)\n",
    "\n",
    "\n",
    "tab_nest = widgets.Tab()\n",
    "tab_nest.children = [box]\n",
    "tab_nest.set_title(0, 'Canny 에지검출')\n",
    "tab_nest\n",
    "\n",
    "img = cv2.imread('./data/lena.jpg',0)\n",
    "tmpStream = cv2.imencode(\".jpeg\", img)[1].tostring()\n",
    "wImg_original.value = tmpStream\n",
    "\n",
    "display.display(tab_nest)\n",
    "\n",
    "#Event 선언\n",
    "threshold1, threshold2 = 0,0\n",
    "    \n",
    "\n",
    "def on_value_change_Threshold1(change):\n",
    "    global threshold1, threshold2\n",
    "    threshold1 = change['new']\n",
    "    Canny_img = cv2.Canny(img,threshold1, threshold2)\n",
    "    tmpStream = cv2.imencode(\".jpeg\", Canny_img)[1].tostring()\n",
    "    wImg_Canny.value = tmpStream\n",
    "   \n",
    "    \n",
    "def on_value_change_Threshold2(change):\n",
    "    global threshold1, threshold2\n",
    "    threshold2 = change['new']\n",
    "    Canny_img = cv2.Canny(img,threshold1, threshold2)\n",
    "    tmpStream = cv2.imencode(\".jpeg\", Canny_img)[1].tostring()\n",
    "    wImg_Canny.value = tmpStream\n",
    "\n",
    "#초기화 작업\n",
    "Canny_img = cv2.Canny(img,threshold1, threshold2)\n",
    "tmpStream = cv2.imencode(\".jpeg\", Canny_img)[1].tostring()\n",
    "wImg_Canny.value = tmpStream\n",
    "\n",
    "#Component에 Event 장착\n",
    "IntSlider_Threshold1.observe(on_value_change_Threshold1, names='value')\n",
    "IntSlider_Threshold2.observe(on_value_change_Threshold2, names='value')"
   ]
  },
  {
   "cell_type": "markdown",
   "metadata": {},
   "source": [
    "### Hough 변환에 의한 직선, 원 검출\n",
    "\n",
    "#### 직선검출: cv2.HoughLines(), cv2.HoughLinesP()"
   ]
  },
  {
   "cell_type": "code",
   "execution_count": 3,
   "metadata": {},
   "outputs": [
    {
     "data": {
      "application/vnd.jupyter.widget-view+json": {
       "model_id": "42a2048a639c48c7b983cd2ba70fea36",
       "version_major": 2,
       "version_minor": 0
      },
      "text/plain": [
       "Box(children=(Image(value=b'', layout=\"Layout(border='solid')\", width='20%'), Image(value=b'', layout=\"Layout(…"
      ]
     },
     "metadata": {},
     "output_type": "display_data"
    },
    {
     "name": "stdout",
     "output_type": "stream",
     "text": [
      "HoughLines lines.shape= (4, 1, 2)\n",
      "HoughLinesP lines.shape= (4, 1, 4)\n"
     ]
    }
   ],
   "source": [
    "def layout(header, left, right):\n",
    "    layout = AppLayout(header=header,\n",
    "          left_sidebar=left,\n",
    "          center=None,\n",
    "          right_sidebar=right)\n",
    "    return layout\n",
    "\n",
    "wImg_original = Image(layout = Layout(border=\"solid\"), width=\"20%\")\n",
    "wImg_Edges = Image(layout = Layout(border=\"solid\"), width=\"20%\")\n",
    "wImg_Lines = Image(layout = Layout(border=\"solid\"), width=\"20%\")\n",
    "wImg_Lines2 = Image(layout = Layout(border=\"solid\"), width=\"20%\")\n",
    "\n",
    "items = [wImg_original,wImg_Edges,wImg_Lines,wImg_Lines2]\n",
    "wImg=Box(items)\n",
    "\n",
    "display.display(wImg)\n",
    "\n",
    "src = cv2.imread('./data/rectangle.jpg')\n",
    "gray = cv2.cvtColor(src,cv2.COLOR_BGR2GRAY)\n",
    "edges = cv2.Canny(src,0,200)\n",
    "lines = cv2.HoughLines(edges,rho=1,theta=np.pi/180.0,threshold=100)\n",
    "lines2 = cv2.HoughLinesP(edges,rho=1,theta=np.pi/180.0,threshold=100)\n",
    "\n",
    "print('HoughLines lines.shape=',lines.shape)\n",
    "print('HoughLinesP lines.shape=',lines2.shape)\n",
    "\n",
    "for line in lines:\n",
    "    rho,theta = line[0]\n",
    "    c = np.cos(theta)\n",
    "    s = np.sin(theta)\n",
    "    x0 = c*rho\n",
    "    y0 = s*rho\n",
    "    x1 = int(x0+1000*(-s))\n",
    "    y1 = int(y0+1000*(c))\n",
    "    x2 = int(x0+1000*(-s))\n",
    "    y2 = int(y0+1000*(s))\n",
    "    cv2.line(src,(x1,y1),(x2,y2),(0,0,255),2)\n",
    "    cv2.line(src,(y1,x1),(y2,x2),(0,0,255),2)\n",
    "    \n",
    "tmpStream = cv2.imencode(\".jpeg\", gray)[1].tostring()\n",
    "wImg_original.value = tmpStream\n",
    "\n",
    "tmpStream = cv2.imencode(\".jpeg\", edges)[1].tostring()\n",
    "wImg_Edges.value = tmpStream\n",
    "\n",
    "tmpStream = cv2.imencode(\".jpeg\", src)[1].tostring()\n",
    "wImg_Lines.value = tmpStream\n",
    "\n",
    "for line in lines2:\n",
    "    x1,y1,x2,y2 = line[0]\n",
    "    cv2.line(src,(x1,y1),(x2,y2),(0,0,255),2)\n",
    "    \n",
    "tmpStream = cv2.imencode(\".jpeg\", src)[1].tostring()\n",
    "wImg_Lines2.value = tmpStream"
   ]
  },
  {
   "cell_type": "markdown",
   "metadata": {},
   "source": [
    "#### 원 검출: cv2.HoughCircles()"
   ]
  },
  {
   "cell_type": "code",
   "execution_count": 5,
   "metadata": {},
   "outputs": [
    {
     "name": "stdout",
     "output_type": "stream",
     "text": [
      "circle1.shape=  (1, 3, 3)\n",
      "circle2.shape=  (1, 3, 3)\n"
     ]
    },
    {
     "data": {
      "image/png": "[encoded data removed]",
      "text/plain": [
       "<Figure size 1440x288 with 2 Axes>"
      ]
     },
     "metadata": {
      "needs_background": "light"
     },
     "output_type": "display_data"
    }
   ],
   "source": [
    "src1 = cv2.imread('./data/circle.jpg')\n",
    "gray1 = cv2.cvtColor(src1,cv2.COLOR_BGR2GRAY)\n",
    "circle1 = cv2.HoughCircles(gray1,method=cv2.HOUGH_GRADIENT,dp=1,minDist=50,param2=15,minRadius=40,maxRadius=100)\n",
    "print('circle1.shape= ',circle1.shape)\n",
    "for circle in circle1[0,:]:\n",
    "    cx,cy,r = circle\n",
    "    cv2.circle(src1,(cx,cy),r,(0,0,255),2)\n",
    "\n",
    "src2 = cv2.imread('./data/circle2.jpg')\n",
    "gray2 = cv2.cvtColor(src2,cv2.COLOR_BGR2GRAY)\n",
    "circle2 = cv2.HoughCircles(gray2,method=cv2.HOUGH_GRADIENT,dp=1,minDist=50,param2=15)\n",
    "print('circle2.shape= ',circle2.shape)\n",
    "for circle in circle2[0,:]:\n",
    "    cx,cy,r = circle\n",
    "    cv2.circle(src2,(cx,cy),r,(0,0,255),2)\n",
    "\n",
    "plt.figure(figsize=(20,4))\n",
    "imgae1=plt.subplot(1,2,1)\n",
    "imgae1.set_title('circles.jpg')\n",
    "plt.axis('off')\n",
    "plt.imshow(src1, cmap=\"gray\")\n",
    "\n",
    "imgae2=plt.subplot(1,2,2)\n",
    "imgae2.set_title('circles2.jpg')\n",
    "plt.axis('off')\n",
    "plt.imshow(src2, cmap=\"gray\")\n",
    "\n",
    "plt.show()"
   ]
  },
  {
   "cell_type": "markdown",
   "metadata": {},
   "source": [
    "### 컬러 범위에 의한 영역 분할"
   ]
  },
  {
   "cell_type": "code",
   "execution_count": 6,
   "metadata": {},
   "outputs": [
    {
     "data": {
      "image/png": "[encoded data removed]",
      "text/plain": [
       "<Figure size 1440x288 with 2 Axes>"
      ]
     },
     "metadata": {
      "needs_background": "light"
     },
     "output_type": "display_data"
    }
   ],
   "source": [
    "src = cv2.imread('./data/hand.jpg')\n",
    "hsv = cv2.cvtColor(src,cv2.COLOR_BGR2HSV)\n",
    "lower = (0,40,0)\n",
    "upper = (20,180,255)\n",
    "dst = cv2.inRange(hsv,lower,upper)\n",
    "\n",
    "src = cv2.cvtColor(src,cv2.COLOR_BGR2RGB)\n",
    "plt.figure(figsize=(20,4))\n",
    "imgae1=plt.subplot(1,2,1)\n",
    "imgae1.set_title('Original')\n",
    "plt.axis('off')\n",
    "plt.imshow(src)\n",
    "\n",
    "imgae2=plt.subplot(1,2,2)\n",
    "imgae2.set_title('Detect Hand')\n",
    "plt.axis('off')\n",
    "plt.imshow(dst, cmap=\"gray\")\n",
    "\n",
    "plt.show()"
   ]
  },
  {
   "cell_type": "markdown",
   "metadata": {},
   "source": [
    "### 윤각선 검출 및 그리기"
   ]
  },
  {
   "cell_type": "markdown",
   "metadata": {},
   "source": [
    "#### 윤각선 검출 및 그리기"
   ]
  },
  {
   "cell_type": "code",
   "execution_count": 8,
   "metadata": {},
   "outputs": [
    {
     "name": "stdout",
     "output_type": "stream",
     "text": [
      "contours1\n",
      "type(contorous)= <class 'list'>\n",
      "type(contorous[0])= <class 'numpy.ndarray'>\n",
      "len(contours)= 10\n",
      "contours[0].shape= (1, 1, 2)\n",
      "contours[0]= [[[ 48 405]]]\n",
      "--------------------\n",
      "contours2\n",
      "type(contorous2)= <class 'list'>\n",
      "type(contorous2[0])= <class 'numpy.ndarray'>\n",
      "len(contours2)= 20\n",
      "contours2[0].shape= (1, 1, 2)\n",
      "contours2[0]= [[[ 48 405]]]\n"
     ]
    },
    {
     "data": {
      "text/plain": [
       "<matplotlib.image.AxesImage at 0x7f1ae85cceb8>"
      ]
     },
     "execution_count": 8,
     "metadata": {},
     "output_type": "execute_result"
    },
    {
     "data": {
      "image/png": "[encoded data removed]",
      "text/plain": [
       "<Figure size 1440x288 with 4 Axes>"
      ]
     },
     "metadata": {
      "needs_background": "light"
     },
     "output_type": "display_data"
    }
   ],
   "source": [
    "src = cv2.imread('./data/rectangle2.jpg')\n",
    "src2 = np.copy(src)\n",
    "src3 = np.copy(src)\n",
    "src4 = np.copy(src)\n",
    "\n",
    "gray = cv2.cvtColor(src,cv2.COLOR_BGR2GRAY)\n",
    "\n",
    "mode = cv2.RETR_EXTERNAL\n",
    "mode2 = cv2.RETR_LIST\n",
    "method = cv2.CHAIN_APPROX_SIMPLE\n",
    "\n",
    "contours, hierachy = cv2.findContours(gray,mode,method)\n",
    "contours2, hierachy2 = cv2.findContours(gray,mode2,method)\n",
    "\n",
    "print('contours1')\n",
    "print('type(contorous)=',type(contours))\n",
    "print('type(contorous[0])=',type(contours[0]))\n",
    "print('len(contours)=',len(contours))\n",
    "print('contours[0].shape=',contours[0].shape)\n",
    "print('contours[0]=',contours[0])\n",
    "print('-'*20)\n",
    "print('contours2')\n",
    "print('type(contorous2)=',type(contours2))\n",
    "print('type(contorous2[0])=',type(contours2[0]))\n",
    "print('len(contours2)=',len(contours2))\n",
    "print('contours2[0].shape=',contours2[0].shape)\n",
    "print('contours2[0]=',contours2[0])\n",
    "\n",
    "def delete_duplicated_contours(contours):\n",
    "    pt_array=[]\n",
    "    for c in contours:\n",
    "        for pt in range(0,len(c)):\n",
    "            b = True\n",
    "            for pt_arr in pt_array:\n",
    "                if((pt_arr[0]>c[pt][0][0] - 10 and c[pt][0][0] + 10 > pt_arr[0]) and (pt_arr[1]>c[pt][0][1] - 10 and c[pt][0][1] + 10 > pt_arr[1])):\n",
    "                    b = False\n",
    "            if(b):\n",
    "                pt_array.append(c[pt][0])\n",
    "    return pt_array\n",
    "\n",
    "pt_array1=delete_duplicated_contours(contours)\n",
    "pt_array2=delete_duplicated_contours(contours2)\n",
    "\n",
    "cv2.drawContours(src,contours,-1,(255,0,0),3)\n",
    "cv2.drawContours(src3,contours2,-1,(255,0,0),3)\n",
    "\n",
    "for pt in pt_array1:\n",
    "    cv2.circle(src2,(pt[0],pt[1]),5,(0,0,255),-1)\n",
    "\n",
    "for pt in pt_array2:\n",
    "    cv2.circle(src4,(pt[0],pt[1]),5,(0,0,255),-1)\n",
    "    \n",
    "plt.figure(figsize=(20,4))\n",
    "\n",
    "imgae1=plt.subplot(1,4,1)\n",
    "imgae1.set_title('cortous(mode = cv2.RETR_EXTERNAL)')\n",
    "plt.axis('off')\n",
    "plt.imshow(src)\n",
    "\n",
    "imgae2=plt.subplot(1,4,2)\n",
    "imgae2.set_title('Point of cortous')\n",
    "plt.axis('off')\n",
    "plt.imshow(src2)\n",
    "\n",
    "imgae1=plt.subplot(1,4,3)\n",
    "imgae1.set_title('cortous(mode = cv2.RETR_LIST)')\n",
    "plt.axis('off')\n",
    "plt.imshow(src3)\n",
    "\n",
    "imgae2=plt.subplot(1,4,4)\n",
    "imgae2.set_title('Point of cortous')\n",
    "plt.axis('off')\n",
    "plt.imshow(src4)"
   ]
  },
  {
   "cell_type": "markdown",
   "metadata": {},
   "source": [
    "### 영역 채우기, 인페인트, 거리계산, 워터쉐드\n",
    "\n",
    "#### cv2.floodFill()영역 채우기"
   ]
  },
  {
   "cell_type": "code",
   "execution_count": 9,
   "metadata": {},
   "outputs": [
    {
     "name": "stdout",
     "output_type": "stream",
     "text": [
      "rect= (202, 202, 197, 197)\n"
     ]
    },
    {
     "data": {
      "text/plain": [
       "<matplotlib.image.AxesImage at 0x7f1ae851d198>"
      ]
     },
     "execution_count": 9,
     "metadata": {},
     "output_type": "execute_result"
    },
    {
     "data": {
      "image/png": "[encoded data removed]",
      "text/plain": [
       "<Figure size 1440x288 with 2 Axes>"
      ]
     },
     "metadata": {
      "needs_background": "light"
     },
     "output_type": "display_data"
    }
   ],
   "source": [
    "src = np.zeros((512,512,3),dtype=np.uint8)\n",
    "\n",
    "cv2.rectangle(src,(50,50),(200,200),(0,0,255),2)\n",
    "cv2.circle(src,(300,300),100,(0,0,255),2)\n",
    "\n",
    "dst = src.copy()\n",
    "cv2.floodFill(dst,mask=None,seedPoint=(100,100),newVal=(255,0,0))\n",
    "\n",
    "retval,dst2,mask,rect = cv2.floodFill(dst,mask=None,seedPoint=(300,300),newVal=(0,255,0))\n",
    "\n",
    "print('rect=',rect)\n",
    "x,y,width,height = rect\n",
    "cv2.rectangle(dst2,(x,y),(x+width,y+height),(255,0,0),2)\n",
    "\n",
    "plt.figure(figsize=(20,4))\n",
    "\n",
    "imgae1=plt.subplot(1,2,1)\n",
    "imgae1.set_title('Original')\n",
    "plt.axis('off')\n",
    "plt.imshow(src)\n",
    "\n",
    "imgae2=plt.subplot(1,2,2)\n",
    "imgae2.set_title('floodFill')\n",
    "plt.axis('off')\n",
    "plt.imshow(dst)"
   ]
  },
  {
   "cell_type": "markdown",
   "metadata": {},
   "source": [
    "#### cv2.distancdTransform() 거리계산"
   ]
  },
  {
   "cell_type": "code",
   "execution_count": 10,
   "metadata": {},
   "outputs": [
    {
     "name": "stdout",
     "output_type": "stream",
     "text": [
      "src: 0.0 51.0 (0, 0) (100, 250)\n",
      "src: 0.0 8.0 (0, 0) (52, 200)\n"
     ]
    },
    {
     "data": {
      "application/vnd.jupyter.widget-view+json": {
       "model_id": "ba807f741e0244d2a51f25f941ce9dc1",
       "version_major": 2,
       "version_minor": 0
      },
      "text/plain": [
       "Box(children=(Image(value=b'', layout=\"Layout(border='solid')\", width='20%'), Image(value=b'', layout=\"Layout(…"
      ]
     },
     "metadata": {},
     "output_type": "display_data"
    },
    {
     "data": {
      "text/plain": [
       "<Figure size 1440x288 with 0 Axes>"
      ]
     },
     "metadata": {},
     "output_type": "display_data"
    }
   ],
   "source": [
    "src = np.zeros((512,512),dtype=np.uint8)\n",
    "\n",
    "cv2.rectangle(src,(50,200),(450,300),(255,255,255),-1)\n",
    "\n",
    "dist = cv2.distanceTransform(src,distanceType=cv2.DIST_L1,maskSize=3)\n",
    "minVal,maxVal,minLoc,maxLoc = cv2.minMaxLoc(dist)\n",
    "print('src:',minVal,maxVal,minLoc,maxLoc)\n",
    "\n",
    "dst = cv2.normalize(dist,None,0,255,cv2.NORM_MINMAX,dtype=cv2.CV_8U)\n",
    "ret,dst2 = cv2.threshold(dist,maxVal-1,255,cv2.THRESH_BINARY)\n",
    "\n",
    "gx = cv2.Sobel(dist,cv2.CV_32F,1,0,ksize=3)\n",
    "gy = cv2.Sobel(dist,cv2.CV_32F,0,1,ksize=3)\n",
    "mag = cv2.magnitude(gx,gy)\n",
    "\n",
    "plt.figure(figsize=(20,4))\n",
    "minVal,maxVal,minLoc,maxLoc = cv2.minMaxLoc(mag)\n",
    "print('src:',minVal,maxVal,minLoc,maxLoc)\n",
    "ret,dst3 = cv2.threshold(mag,maxVal-2,255,cv2.THRESH_BINARY_INV)\n",
    "\n",
    "wImg_src = Image(layout = Layout(border=\"solid\"), width=\"20%\")\n",
    "wImg_dst = Image(layout = Layout(border=\"solid\"), width=\"20%\")\n",
    "wImg_dst2 = Image(layout = Layout(border=\"solid\"), width=\"20%\")\n",
    "wImg_dst3 = Image(layout = Layout(border=\"solid\"), width=\"20%\")\n",
    "\n",
    "items = [wImg_src,wImg_dst,wImg_dst2,wImg_dst3]\n",
    "box = Box(items)\n",
    "display.display(box)\n",
    "\n",
    "tmpStream = cv2.imencode(\".jpeg\", src)[1].tostring()\n",
    "wImg_src.value = tmpStream\n",
    "tmpStream = cv2.imencode(\".jpeg\", dst)[1].tostring()\n",
    "wImg_dst.value = tmpStream\n",
    "tmpStream = cv2.imencode(\".jpeg\", dst2)[1].tostring()\n",
    "wImg_dst2.value = tmpStream\n",
    "tmpStream = cv2.imencode(\".jpeg\", dst3)[1].tostring()\n",
    "wImg_dst3.value = tmpStream"
   ]
  },
  {
   "cell_type": "markdown",
   "metadata": {},
   "source": [
    "#### cv2.distanceTransform(), cv2.watershed() 영상 분할"
   ]
  },
  {
   "cell_type": "code",
   "execution_count": 11,
   "metadata": {},
   "outputs": [
    {
     "name": "stdout",
     "output_type": "stream",
     "text": [
      "dist: 0.0 61.0 (0, 0) (400, 250)\n",
      "len(contours)= 6\n"
     ]
    },
    {
     "data": {
      "application/vnd.jupyter.widget-view+json": {
       "model_id": "74bd041b370c42258db3be612b72436e",
       "version_major": 2,
       "version_minor": 0
      },
      "text/plain": [
       "Box(children=(Image(value=b'', layout=\"Layout(border='solid')\", width='20%'), Image(value=b'', layout=\"Layout(…"
      ]
     },
     "metadata": {},
     "output_type": "display_data"
    }
   ],
   "source": [
    "src = cv2.imread('./data/circle.jpg')\n",
    "gray = cv2.cvtColor(src,cv2.COLOR_BGR2GRAY)\n",
    "ret,bimage = cv2.threshold(gray,0,255,cv2.THRESH_BINARY_INV+cv2.THRESH_OTSU)\n",
    "dist = cv2.distanceTransform(bimage,cv2.DIST_L1,3)\n",
    "dist8 = cv2.normalize(dist,None,0,255,cv2.NORM_MINMAX,dtype=cv2.CV_8U)\n",
    "\n",
    "minVal,maxVal,minLoc,maxLoc = cv2.minMaxLoc(dist)\n",
    "print('dist:',minVal,maxVal,minLoc,maxLoc)\n",
    "mask = (dist>maxVal*0.5).astype(np.uint8)*255\n",
    "\n",
    "mode = cv2.RETR_EXTERNAL\n",
    "method = cv2.CHAIN_APPROX_SIMPLE\n",
    "contours,hierarchy = cv2.findContours(mask,mode,method)\n",
    "print('len(contours)=',len(contours))\n",
    "\n",
    "markers = np.zeros(shape=src.shape[:2],dtype=np.int32)\n",
    "for i,cnt in enumerate(contours):\n",
    "    cv2.drawContours(markers,[cnt],0,i+1,-1)\n",
    "\n",
    "dst = src.copy()\n",
    "cv2.watershed(src,markers)\n",
    "\n",
    "dst[markers == -1] = [0,0,255]\n",
    "for i in range(len(contours)):\n",
    "    r = np.random.randint(256)\n",
    "    g = np.random.randint(256)\n",
    "    b = np.random.randint(256)\n",
    "    dst[markers==i+1] = [b,g,r]\n",
    "dst = cv2.addWeighted(src,0.4,dst,0.6,0)\n",
    "\n",
    "wImg_bimage = Image(layout = Layout(border=\"solid\"), width=\"20%\")\n",
    "wImg_dist8 = Image(layout = Layout(border=\"solid\"), width=\"20%\")\n",
    "wImg_mask = Image(layout = Layout(border=\"solid\"), width=\"20%\")\n",
    "wImg_dst = Image(layout = Layout(border=\"solid\"), width=\"20%\")\n",
    "\n",
    "items = [wImg_bimage,wImg_dist8,wImg_mask,wImg_dst]\n",
    "box = Box(items)\n",
    "display.display(box)\n",
    "\n",
    "tmpStream = cv2.imencode(\".jpeg\", bimage)[1].tostring()\n",
    "wImg_bimage.value = tmpStream\n",
    "tmpStream = cv2.imencode(\".jpeg\", dist8)[1].tostring()\n",
    "wImg_dist8.value = tmpStream\n",
    "tmpStream = cv2.imencode(\".jpeg\", mask)[1].tostring()\n",
    "wImg_mask.value = tmpStream\n",
    "tmpStream = cv2.imencode(\".jpeg\", dst)[1].tostring()\n",
    "wImg_dst.value = tmpStream"
   ]
  },
  {
   "cell_type": "markdown",
   "metadata": {},
   "source": [
    "### 피라미드 기반 분할"
   ]
  },
  {
   "cell_type": "code",
   "execution_count": 12,
   "metadata": {},
   "outputs": [
    {
     "name": "stdout",
     "output_type": "stream",
     "text": [
      "donw2.shape= (256, 256, 3)\n",
      "down4.shape= (128, 128, 3)\n",
      "up2.shape= (1024, 1024, 3)\n",
      "up4.shape= (2048, 2048, 3)\n"
     ]
    },
    {
     "data": {
      "application/vnd.jupyter.widget-view+json": {
       "model_id": "9935dd2874ae48c19c471996ca50dcc2",
       "version_major": 2,
       "version_minor": 0
      },
      "text/plain": [
       "Image(value=b'', layout=\"Layout(border='solid')\")"
      ]
     },
     "metadata": {},
     "output_type": "display_data"
    },
    {
     "data": {
      "application/vnd.jupyter.widget-view+json": {
       "model_id": "d8c526ce31bb45efa272176f7f18ee11",
       "version_major": 2,
       "version_minor": 0
      },
      "text/plain": [
       "Image(value=b'', layout=\"Layout(border='solid')\")"
      ]
     },
     "metadata": {},
     "output_type": "display_data"
    },
    {
     "data": {
      "application/vnd.jupyter.widget-view+json": {
       "model_id": "5ff945c3aede4d6da92836b830bed39d",
       "version_major": 2,
       "version_minor": 0
      },
      "text/plain": [
       "Image(value=b'', layout=\"Layout(border='solid')\")"
      ]
     },
     "metadata": {},
     "output_type": "display_data"
    }
   ],
   "source": [
    "src = cv2.imread('./data/lena.jpg')\n",
    "\n",
    "down2 = cv2.pyrDown(src)\n",
    "down4 = cv2.pyrDown(down2)\n",
    "print('donw2.shape=',down2.shape)\n",
    "print('down4.shape=',down4.shape)\n",
    "\n",
    "up2 = cv2.pyrUp(src)\n",
    "up4 = cv2.pyrUp(up2)\n",
    "print('up2.shape=',up2.shape)\n",
    "print('up4.shape=',up4.shape)\n",
    "\n",
    "wImg_original = Image(layout = Layout(border=\"solid\"))\n",
    "wImg_down4 = Image(layout = Layout(border=\"solid\"))\n",
    "wImg_up4 = Image(layout = Layout(border=\"solid\"))\n",
    "\n",
    "display.display(wImg_original,wImg_down4,wImg_up4)\n",
    "\n",
    "tmpStream = cv2.imencode(\".jpeg\", src)[1].tostring()\n",
    "wImg_original.value = tmpStream\n",
    "tmpStream = cv2.imencode(\".jpeg\", down4)[1].tostring()\n",
    "wImg_down4.value = tmpStream\n",
    "tmpStream = cv2.imencode(\".jpeg\", up4)[1].tostring()\n",
    "wImg_up4.value = tmpStream"
   ]
  },
  {
   "cell_type": "markdown",
   "metadata": {},
   "source": [
    "#### cv2.pyrMeanShiftFiltering() 영역 검출"
   ]
  },
  {
   "cell_type": "code",
   "execution_count": 13,
   "metadata": {
    "scrolled": false
   },
   "outputs": [
    {
     "data": {
      "application/vnd.jupyter.widget-view+json": {
       "model_id": "c377c15b20bc412187eff3f8ba6863db",
       "version_major": 2,
       "version_minor": 0
      },
      "text/plain": [
       "Tab(children=(AppLayout(children=(Box(children=(Image(value=b'', layout=\"Layout(border='solid')\", width='50%')…"
      ]
     },
     "metadata": {},
     "output_type": "display_data"
    }
   ],
   "source": [
    "def floodFillPostProcess(src,diff=(2,2,2)):\n",
    "    img = src.copy()\n",
    "    rows,cols = img.shape[:2]\n",
    "    mask = np.zeros(shape=(rows+2,cols+2),dtype=np.uint8)\n",
    "    for y in range(rows):\n",
    "        for x in range(cols):\n",
    "            if mask[y+1,x+1] == 0:\n",
    "                r = np.random.randint(256)\n",
    "                g = np.random.randint(256)\n",
    "                b = np.random.randint(256)\n",
    "                cv2.floodFill(img,mask,(x,y),(b,g,r),diff,diff)\n",
    "    return img\n",
    "\n",
    "src = cv2.imread('./data/flower.jpg')\n",
    "hsv = cv2.cvtColor(src,cv2.COLOR_BGR2HSV)\n",
    "dst = floodFillPostProcess(src)\n",
    "dst2 = floodFillPostProcess(hsv)\n",
    "\n",
    "#Component 선언\n",
    "IntSlider_sp1 = IntSlider(\n",
    "    value=0,\n",
    "    min=0,\n",
    "    max=30,\n",
    "    step=1,\n",
    "    description='sp: ',\n",
    "    disabled=False,\n",
    "    continuous_update=False,\n",
    "    orientation='horizontal',\n",
    "    readout=True,\n",
    "    readout_format='d'\n",
    ")\n",
    "\n",
    "IntSlider_sr1 = IntSlider(\n",
    "    value=0,\n",
    "    min=0,\n",
    "    max=30,\n",
    "    step=1,\n",
    "    description='sr: ',\n",
    "    disabled=False,\n",
    "    continuous_update=False,\n",
    "    orientation='horizontal',\n",
    "    readout=True,\n",
    "    readout_format='d'\n",
    ")\n",
    "\n",
    "IntSlider_maxLevel1 = IntSlider(\n",
    "    value=0,\n",
    "    min=0,\n",
    "    max=20,\n",
    "    step=1,\n",
    "    description='maxLevel: ',\n",
    "    disabled=False,\n",
    "    continuous_update=False,\n",
    "    orientation='horizontal',\n",
    "    readout=True,\n",
    "    readout_format='d'\n",
    ")\n",
    "\n",
    "IntSlider_sp2 = IntSlider(\n",
    "    value=0,\n",
    "    min=0,\n",
    "    max=30,\n",
    "    step=1,\n",
    "    description='sp: ',\n",
    "    disabled=False,\n",
    "    continuous_update=False,\n",
    "    orientation='horizontal',\n",
    "    readout=True,\n",
    "    readout_format='d'\n",
    ")\n",
    "\n",
    "IntSlider_sr2 = IntSlider(\n",
    "    value=0,\n",
    "    min=0,\n",
    "    max=30,\n",
    "    step=1,\n",
    "    description='sr: ',\n",
    "    disabled=False,\n",
    "    continuous_update=False,\n",
    "    orientation='horizontal',\n",
    "    readout=True,\n",
    "    readout_format='d'\n",
    ")\n",
    "\n",
    "IntSlider_maxLevel2 = IntSlider(\n",
    "    value=0,\n",
    "    min=0,\n",
    "    max=5,\n",
    "    step=1,\n",
    "    description='maxLevel: ',\n",
    "    disabled=False,\n",
    "    continuous_update=False,\n",
    "    orientation='horizontal',\n",
    "    readout=True,\n",
    "    readout_format='d'\n",
    ")\n",
    "\n",
    "def layout(header, left, right):\n",
    "    layout = AppLayout(header=header,\n",
    "          left_sidebar=left,\n",
    "          center=None,\n",
    "          right_sidebar=right)\n",
    "    return layout\n",
    "\n",
    "wImg_original = Image(layout = Layout(border=\"solid\"), width=\"50%\")\n",
    "wImg_hsv = Image(layout = Layout(border=\"solid\"), width=\"50%\")\n",
    "wImg_original_floodFill = Image(layout = Layout(border=\"solid\"), width=\"50%\")\n",
    "wImg_hsv_floodFill = Image(layout = Layout(border=\"solid\"), width=\"50%\")\n",
    "\n",
    "wImg_res1 = Image(layout = Layout(border=\"solid\"), width=\"50%\") \n",
    "wImg_dst1 = Image(layout = Layout(border=\"solid\"), width=\"50%\") \n",
    "\n",
    "wImg_res2 = Image(layout = Layout(border=\"solid\"), width=\"50%\") \n",
    "wImg_dst2 = Image(layout = Layout(border=\"solid\"), width=\"50%\") \n",
    "\n",
    "items = [wImg_original,wImg_original_floodFill]\n",
    "items2 = [wImg_hsv,wImg_hsv_floodFill]\n",
    "floodFill1 = Box(items)\n",
    "floodFill2 = Box(items2)\n",
    "box1 = layout(None,floodFill1,floodFill2)\n",
    "\n",
    "items = [IntSlider_sp1,IntSlider_sr1,IntSlider_maxLevel1]\n",
    "trick_bar = Box(items)\n",
    "box2 = layout(trick_bar,wImg_res1,wImg_dst1)\n",
    "\n",
    "items = [IntSlider_sp2,IntSlider_sr2,IntSlider_maxLevel2]\n",
    "trick_bar = Box(items)\n",
    "box3 = layout(trick_bar,wImg_res2,wImg_dst2)\n",
    "\n",
    "tab_nest = widgets.Tab()\n",
    "tab_nest.children = [box1, box2, box3]\n",
    "tab_nest.set_title(0, 'floodFill')\n",
    "tab_nest.set_title(1, 'src 영역 검출')\n",
    "tab_nest.set_title(2, 'hsv 영역 검출')\n",
    "tab_nest\n",
    "\n",
    "display.display(tab_nest)\n",
    "\n",
    "#box1 값 대입\n",
    "tmpStream = cv2.imencode(\".jpeg\", src)[1].tostring()\n",
    "wImg_original.value = tmpStream\n",
    "tmpStream = cv2.imencode(\".jpeg\", hsv)[1].tostring()\n",
    "wImg_hsv.value = tmpStream\n",
    "tmpStream = cv2.imencode(\".jpeg\", dst)[1].tostring()\n",
    "wImg_original_floodFill.value = tmpStream\n",
    "tmpStream = cv2.imencode(\".jpeg\", dst2)[1].tostring()\n",
    "wImg_hsv_floodFill.value = tmpStream\n",
    "\n",
    "sp1,sr1,maxLevel1 = 0,0,0\n",
    "sp2,sr2,maxLevel2 = 0,0,0\n",
    "    \n",
    "#box2,3값 대입\n",
    "def input_box_value(option=1):\n",
    "    global sp1,sr1,maxLevel1,sp2,sr2,maxLevel2\n",
    "    input_sp,input_sr,input_maxLevel,res = 0,0,0,0\n",
    "    \n",
    "    if option == 1:\n",
    "        input_sp = sp1\n",
    "        input_sr = sr1\n",
    "        input_maxLevel = maxLevel1\n",
    "        res = cv2.pyrMeanShiftFiltering(src,sp=input_sp,sr=input_sr,maxLevel=input_maxLevel)\n",
    "    else:\n",
    "        input_sp = sp2\n",
    "        input_sr = sr2\n",
    "        input_maxLevel = maxLevel2\n",
    "        term_crit = (cv2.TERM_CRITERIA_MAX_ITER,10,2)\n",
    "        res = cv2.pyrMeanShiftFiltering(hsv,sp=input_sp,sr=input_sr,maxLevel=input_maxLevel,termcrit=term_crit)\n",
    "    dst = floodFillPostProcess(res)\n",
    "    tmpStream = cv2.imencode(\".jpeg\", res)[1].tostring()\n",
    "    tmpStream2 = cv2.imencode(\".jpeg\", dst)[1].tostring()\n",
    "            \n",
    "    if option == 1:\n",
    "        wImg_res1.value = tmpStream\n",
    "        wImg_dst1.value = tmpStream2\n",
    "    else:\n",
    "        wImg_res2.value = tmpStream\n",
    "        wImg_dst2.value = tmpStream2\n",
    "        \n",
    "#Event 선언\n",
    "def on_value_change_sp1(change):\n",
    "    global sp1,sr1,maxLevel1\n",
    "    sp1 = change['new']\n",
    "    input_box_value()\n",
    "    \n",
    "    \n",
    "def on_value_change_sr1(change):\n",
    "    global sp1,sr1,maxLevel1\n",
    "    sr1 = change['new']\n",
    "    input_box_value()\n",
    "    \n",
    "def on_value_change_maxLevel1(change):\n",
    "    global sp1,sr1,maxLevel1\n",
    "    maxLevel1 = change['new']\n",
    "    input_box_value()\n",
    "    \n",
    "def on_value_change_sp2(change):\n",
    "    global sp2,sr2,maxLevel2\n",
    "    sp2 = change['new']\n",
    "    input_box_value(0)\n",
    "    \n",
    "    \n",
    "def on_value_change_sr2(change):\n",
    "    global sp2,sr2,maxLevel2\n",
    "    sr2 = change['new']\n",
    "    input_box_value(0)\n",
    "    \n",
    "def on_value_change_maxLevel2(change):\n",
    "    global sp2,sr2,maxLevel2\n",
    "    maxLevel2 = change['new']\n",
    "    input_box_value(0)\n",
    "\n",
    "#초기화 작업\n",
    "input_box_value()\n",
    "input_box_value(0)\n",
    "\n",
    "\n",
    "#Component에 Event 장착\n",
    "IntSlider_sp1.observe(on_value_change_sp1, names='value')\n",
    "IntSlider_sr1.observe(on_value_change_sr1, names='value')\n",
    "IntSlider_maxLevel1.observe(on_value_change_maxLevel1, names='value')\n",
    "\n",
    "IntSlider_sp2.observe(on_value_change_sp2, names='value')\n",
    "IntSlider_sr2.observe(on_value_change_sr2, names='value')\n",
    "IntSlider_maxLevel2.observe(on_value_change_maxLevel2, names='value')"
   ]
  },
  {
   "cell_type": "markdown",
   "metadata": {},
   "source": [
    "### K-Means 클러스터링 분할\n",
    "\n",
    "#### 컬러 클러스터링 영역 검출"
   ]
  },
  {
   "cell_type": "code",
   "execution_count": 15,
   "metadata": {},
   "outputs": [
    {
     "name": "stdout",
     "output_type": "stream",
     "text": [
      "bgr\n",
      "hand.jpg\n",
      "centers.shape= (3, 3)\n",
      "labels.shape= (50525, 1)\n",
      "ret= 11729316.883609176\n",
      "--------------------\n",
      "flower.jpg\n",
      "centers.shape= (3, 3)\n",
      "labels.shape= (375000, 1)\n",
      "ret= 8.0\n",
      "********************\n",
      "hsv\n",
      "hand.jpg\n",
      "centers.shape= (3, 3)\n",
      "labels.shape= (50525, 1)\n",
      "ret= 26116860.544728875\n",
      "--------------------\n",
      "flower.jpg\n",
      "centers.shape= (3, 3)\n",
      "labels.shape= (375000, 1)\n",
      "ret= 691618311.1833671\n"
     ]
    },
    {
     "data": {
      "application/vnd.jupyter.widget-view+json": {
       "model_id": "db38c1b2c6a1447eab8bbf87645d7014",
       "version_major": 2,
       "version_minor": 0
      },
      "text/plain": [
       "Tab(children=(AppLayout(children=(Image(value=b'', layout=\"Layout(border='solid', grid_area='left-sidebar')\", …"
      ]
     },
     "metadata": {},
     "output_type": "display_data"
    }
   ],
   "source": [
    "src1 = cv2.imread('./data/hand.jpg')\n",
    "src2 = cv2.imread('./data/flower.jpg')\n",
    "\n",
    "hsv1 = cv2.cvtColor(src1,cv2.COLOR_BGR2HSV)\n",
    "hsv2 = cv2.cvtColor(src2,cv2.COLOR_BGR2HSV)\n",
    "\n",
    "data1 = src1.reshape((-1,3)).astype(np.float32)\n",
    "data2 = src2.reshape((-1,3)).astype(np.float32)\n",
    "\n",
    "data3 = hsv1.reshape((-1,3)).astype(np.float32)\n",
    "data4 = hsv2.reshape((-1,3)).astype(np.float32)\n",
    "\n",
    "K = 3\n",
    "term_crit = (cv2.TERM_CRITERIA_EPS+cv2.TERM_CRITERIA_MAX_ITER,10,1.0)\n",
    "\n",
    "ret1,labels1,centers1 = cv2.kmeans(data1,K,None,term_crit,5,cv2.KMEANS_RANDOM_CENTERS)\n",
    "print('bgr')\n",
    "print('hand.jpg')\n",
    "print('centers.shape=',centers1.shape)\n",
    "print('labels.shape=',labels1.shape)\n",
    "print('ret=',ret1)\n",
    "print('-'*20)\n",
    "\n",
    "ret2,labels2,centers2 = cv2.kmeans(data2,K,None,term_crit,5,cv2.KMEANS_RANDOM_CENTERS)\n",
    "print('flower.jpg')\n",
    "print('centers.shape=',centers2.shape)\n",
    "print('labels.shape=',labels2.shape)\n",
    "print('ret=',ret)\n",
    "\n",
    "print('*'*20)\n",
    "ret3,labels3,centers3 = cv2.kmeans(data3,K,None,term_crit,5,cv2.KMEANS_RANDOM_CENTERS)\n",
    "print('hsv')\n",
    "print('hand.jpg')\n",
    "print('centers.shape=',centers3.shape)\n",
    "print('labels.shape=',labels3.shape)\n",
    "print('ret=',ret3)\n",
    "print('-'*20)\n",
    "\n",
    "ret4,labels4,centers4 = cv2.kmeans(data4,K,None,term_crit,5,cv2.KMEANS_RANDOM_CENTERS)\n",
    "print('flower.jpg')\n",
    "print('centers.shape=',centers4.shape)\n",
    "print('labels.shape=',labels4.shape)\n",
    "print('ret=',ret4)\n",
    "\n",
    "\n",
    "centers1 = np.uint8(centers1)\n",
    "res1 = centers1[labels1.flatten()]\n",
    "bgr1 = res1.reshape(src1.shape)\n",
    "\n",
    "centers2 = np.uint8(centers2)\n",
    "res2 = centers2[labels2.flatten()]\n",
    "bgr2 = res2.reshape(src2.shape)\n",
    "\n",
    "\n",
    "labels3 = np.uint8(labels3.reshape(src1.shape[:2]))\n",
    "labels4 = np.uint8(labels4.reshape(src2.shape[:2]))\n",
    "\n",
    "dst3 = np.zeros(src1.shape,dtype=src1.dtype)\n",
    "dst4 = np.zeros(src2.shape,dtype=src2.dtype)\n",
    "\n",
    "for i in range(K):\n",
    "    r = np.random.randint(256)\n",
    "    g = np.random.randint(256)\n",
    "    b = np.random.randint(256)\n",
    "    dst3[labels3 ==i] = [b,g,r]\n",
    "    dst4[labels4 ==i] = [b,g,r]\n",
    "\n",
    "hsv1 = dst3\n",
    "hsv2 = dst4\n",
    "\n",
    "\n",
    "\n",
    "def layout(header, left, right):\n",
    "    layout = AppLayout(header=header,\n",
    "          left_sidebar=left,\n",
    "          center=None,\n",
    "          right_sidebar=right)\n",
    "    return layout\n",
    "\n",
    "wImg_original1 = Image(layout = Layout(border=\"solid\"), width=\"50%\")\n",
    "wImg_bgr1 = Image(layout = Layout(border=\"solid\"), width=\"50%\")\n",
    "wImg_hsv1 = Image(layout = Layout(border=\"solid\"), width=\"50%\")\n",
    "\n",
    "wImg_original2 = Image(layout = Layout(border=\"solid\"), width=\"50%\")\n",
    "wImg_bgr2 = Image(layout = Layout(border=\"solid\"), width=\"50%\")\n",
    "wImg_hsv2 = Image(layout = Layout(border=\"solid\"), width=\"50%\")\n",
    "\n",
    "items = [wImg_bgr1,wImg_hsv1]\n",
    "Clustering = Box(items)\n",
    "box1 = layout(None,wImg_original1,Clustering)\n",
    "\n",
    "items = [wImg_bgr2,wImg_hsv2]\n",
    "Clustering = Box(items)\n",
    "box2 = layout(None,wImg_original2,Clustering)\n",
    "\n",
    "tab_nest = widgets.Tab()\n",
    "tab_nest.children = [box1, box2]\n",
    "tab_nest.set_title(0, 'Clustering1(BGR, HSV)')\n",
    "tab_nest.set_title(1, 'Clustering2(BGR, HSV)')\n",
    "tab_nest\n",
    "\n",
    "display.display(tab_nest)\n",
    "\n",
    "#box1 값 대입\n",
    "tmpStream = cv2.imencode(\".jpeg\", src1)[1].tostring()\n",
    "wImg_original1.value = tmpStream\n",
    "tmpStream = cv2.imencode(\".jpeg\", bgr1)[1].tostring()\n",
    "wImg_bgr1.value = tmpStream\n",
    "tmpStream = cv2.imencode(\".jpeg\", hsv1)[1].tostring()\n",
    "wImg_hsv1.value = tmpStream\n",
    "\n",
    "#box2 값 대입\n",
    "tmpStream = cv2.imencode(\".jpeg\", src2)[1].tostring()\n",
    "wImg_original2.value = tmpStream\n",
    "tmpStream = cv2.imencode(\".jpeg\", bgr2)[1].tostring()\n",
    "wImg_bgr2.value = tmpStream\n",
    "tmpStream = cv2.imencode(\".jpeg\", hsv2)[1].tostring()\n",
    "wImg_hsv2.value = tmpStream"
   ]
  },
  {
   "cell_type": "markdown",
   "metadata": {},
   "source": [
    "### 연결요소 검출\n",
    "\n",
    "#### 레이블링"
   ]
  },
  {
   "cell_type": "code",
   "execution_count": 16,
   "metadata": {},
   "outputs": [
    {
     "name": "stdout",
     "output_type": "stream",
     "text": [
      "ret= 4\n",
      "ret2= 4\n",
      "stats= [[     0      0    512    512 245213]\n",
      " [    70    170     61     61   2821]\n",
      " [   120    220     61     61   2821]\n",
      " [    20    340    121    121  11289]]\n",
      "centroids [[266.58220404 249.54933874]\n",
      " [100.         200.        ]\n",
      " [150.         250.        ]\n",
      " [ 80.         400.        ]]\n"
     ]
    },
    {
     "data": {
      "text/plain": [
       "<matplotlib.image.AxesImage at 0x7f1af413ff60>"
      ]
     },
     "execution_count": 16,
     "metadata": {},
     "output_type": "execute_result"
    },
    {
     "data": {
      "image/png": "[encoded data removed]",
      "text/plain": [
       "<Figure size 1440x288 with 4 Axes>"
      ]
     },
     "metadata": {
      "needs_background": "light"
     },
     "output_type": "display_data"
    }
   ],
   "source": [
    "src = cv2.imread('./data/circle2.jpg')\n",
    "gray = cv2.cvtColor(src,cv2.COLOR_BGR2GRAY)\n",
    "ret,res = cv2.threshold(gray,128,255,cv2.THRESH_BINARY_INV)\n",
    "\n",
    "ret,labels = cv2.connectedComponents(res)\n",
    "print('ret=',ret)\n",
    "\n",
    "dst = np.zeros(src.shape,dtype=src.dtype)\n",
    "\n",
    "for i in range(1,ret):\n",
    "    r = np.random.randint(256)\n",
    "    g = np.random.randint(256)\n",
    "    b = np.random.randint(256)\n",
    "    dst[labels == i] = [b,g,r]\n",
    "\n",
    "ret2,labels2,stats,centroids = cv2.connectedComponentsWithStats(res)\n",
    "print('ret2=',ret2)\n",
    "print('stats=',stats)\n",
    "print('centroids',centroids)\n",
    "\n",
    "dst2 = np.zeros(src.shape,dtype=src.dtype)\n",
    "\n",
    "for i in range(1,int(ret2)):\n",
    "    r = np.random.randint(256)\n",
    "    g = np.random.randint(256)\n",
    "    b = np.random.randint(256)\n",
    "    dst2[labels2 == i] = [b,g,r]\n",
    "\n",
    "for i in range(1,int(ret2)):\n",
    "    x,y,width,height,area = stats[i]\n",
    "    cv2.rectangle(dst2,(x,y),(x+width,y+height),(0,0,255),2)\n",
    "    cx,cy = centroids[i]\n",
    "    cv2.circle(dst2,(int(cx),int(cy)),5,(255,0,0),-1)\n",
    "\n",
    "\n",
    "plt.figure(figsize=(20,4))\n",
    "imgae1=plt.subplot(1,4,1)\n",
    "imgae1.set_title('Original')\n",
    "plt.axis('off')\n",
    "plt.imshow(src)\n",
    "\n",
    "imgae2=plt.subplot(1,4,2)\n",
    "imgae2.set_title('Binary')\n",
    "plt.axis('off')\n",
    "plt.imshow(res, cmap=\"gray\")\n",
    "\n",
    "imgae3=plt.subplot(1,4,3)\n",
    "imgae3.set_title('Division')\n",
    "plt.axis('off')\n",
    "plt.imshow(dst)\n",
    "\n",
    "imgae3=plt.subplot(1,4,4)\n",
    "imgae3.set_title('Label')\n",
    "plt.axis('off')\n",
    "plt.imshow(dst2)"
   ]
  }
 ],
 "metadata": {
  "kernelspec": {
   "display_name": "Python 3",
   "language": "python",
   "name": "python3"
  },
  "language_info": {
   "codemirror_mode": {
    "name": "ipython",
    "version": 3
   },
   "file_extension": ".py",
   "mimetype": "text/x-python",
   "name": "python",
   "nbconvert_exporter": "python",
   "pygments_lexer": "ipython3",
   "version": "3.6.8"
  }
 },
 "nbformat": 4,
 "nbformat_minor": 2
}
